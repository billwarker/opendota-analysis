{
 "cells": [
  {
   "cell_type": "markdown",
   "metadata": {},
   "source": [
    "# <center> Closure: A Statistical Look Back on my Dota 2 Career\n",
    "## <center> By: Will B."
   ]
  },
  {
   "cell_type": "markdown",
   "metadata": {},
   "source": [
    "## Introduction\n",
    "\n",
    "### A Brief History of DotA\n",
    "\n",
    "Have you ever been addicted? Smoking? Sex? Gambling? Hard drugs? While other folks were out pursuing these exciting vices during their youth, I was staying inside playing DotA.\n",
    "\n",
    "DotA (short for Defense of the Ancients) is a five-versus-five online multiplayer strategy videogame, with its origins going all the way back to Blizzard Entertainment's *Warcraft 3* released in 2003. Originally a custom gamemode created by a community member by the name of 'Icefrog' in Warcraft's *Frozen Throne* expansion, DotA grew to be one of [the most played and influential online strategy games of all time](https://www.youtube.com/watch?v=qTsaS1Tm-Ic). With players all over the world playing what was essentially a fan-made spinoff, a competitive scene emmerged and DotA became among the first wave of serious eSports titles. It pioneered the \"Multiplayer Online Battle Arena\" (MOBA) genre of strategy games, and was subsequently ripped off hard by games like *League of Legends* years afterwards (I had to say it).\n",
    "\n",
    "I started playing the original DotA in middle school, after my best friend helped me download a cracked version of *Frozen Throne* onto my first laptop. DotA is not an easy game - I was bad, for a long time. I almost gave up many times, but like any great pursuit in life, perseverance eventually rewarded me with some moderate level of success. I didn't completely suck, and the thrill of beating up on players who did was exhiliharating.\n",
    "\n",
    "In 2011, Valve Corporation hired on Icefrog to create Dota 2 - a full-fledged, fully-funded sequel to his famous community mod. A public beta for the game launched in 2012, and I was among the first initial waves of testers to see DotA brought to a new era. Since its official release in 2013, Dota 2 has grown to be one of the biggest eSports in the world. The day prior to me writing this introduction, a professional team of players (Team Liquid) walked away with $10 million dollars for winning *The International*, Valve's seventh annual international Dota 2 tournament.\n",
    "\n",
    "Dota 2 is a wonderfully strategic and rewarding game enjoyed daily by hundreds of thousands of players around the world. Since stats started being tracked on player activity in 2012, I've played 3647 matches. That being said, anyone who's ever played Dota 2 can tell you how addicting and toxic it is, too. Between awful teammates, thrown matches and cheesy strategies, Dota 2 can hollow out your soul if you play it long enough. It's like the black-tar heroin of online videogames, and earlier this year I kicked it for good.\n",
    "\n",
    "### Why I'm doing this Analysis\n",
    "\n",
    "Since DotA is a team game, the statistics of my individual performance aren't completely reliable indicators on whether I would win a certain match or not. There are also many other variables, such as matchmaking rating, item builds, and gold graphs that are beyond the scope of the data I have available. Given what I do have, I believe it's entirely possible to highlight some relationships between the general elements of my own gameplay.\n",
    "\n",
    "For most of this analysis I'm going to examine the relationship between match result and the other variables in the dataset, since winning is the ultimate goal in each game of DotA. To rephrase this as a research question: **which aspects of my gameplay make me more likely to win or lose a match?** My hope for this analysis is provide some statistical evidence for the intuitions I've built up over 3000+ games.\n",
    "\n",
    "For readers who aren't familiar with DotA, [here's a short video that'll give you the gist of what the game is about](https://www.youtube.com/watch?v=Cp8neRiF9-k). To get the most out of this analysis I'm going to go into a moderate amount of detail about gameplay mechanics and general strategy, but I'll explain these things as I go along.\n",
    "\n",
    "Personally, going the history of my Dota 2 career serves as the necessary closure to let go of the game for good. It's a love-hate kind of thing; the lows were so low, but the highs were so high. It'll be fun taking a trip down memory lane, even if all the memories weren't that great.\n",
    "\n",
    "### The Data\n",
    "\n",
    "All of my match data was sourced from [OpenDota](https://www.opendota.com/), an open-source data platform that grabs its data directly from Steam. OpenDota provides a great [API](https://docs.opendota.com/) for developers to build their own applications with. The data I'll be working with comes from two GET requests to the API; one for my match data, and one for general hero data. I loaded this data into a MySQL database and exported it into two CSV files - one with my match data joined with hero data, and the hero data on its own - which I'll work with using Python's Pandas module. The code and CSVs I used for all of this can be found [here](https://github.com/billwarker/opendota-analysis).\n",
    "\n",
    "## Loading and Preparing the Data\n",
    "\n",
    "Before I can do any analysis, I'll have to load the data and clean things up a little bit."
   ]
  },
  {
   "cell_type": "code",
   "execution_count": 1,
   "metadata": {
    "collapsed": true
   },
   "outputs": [],
   "source": [
    "### Imports\n",
    "\n",
    "# Data Analysis\n",
    "import pandas as pd\n",
    "pd.options.display.max_columns = 50\n",
    "import datetime # Working with time data\n",
    "import numpy as np\n",
    "\n",
    "# Visualization\n",
    "import matplotlib.pyplot as plt\n",
    "import seaborn as sns\n",
    "% matplotlib inline"
   ]
  },
  {
   "cell_type": "markdown",
   "metadata": {},
   "source": [
    "### DataFrame 1: Match Data\n",
    "\n",
    "This first dataset contains information on every match of Dota 2 I've ever played, plus additional information about the hero I chose to play as."
   ]
  },
  {
   "cell_type": "code",
   "execution_count": 2,
   "metadata": {
    "collapsed": false
   },
   "outputs": [
    {
     "data": {
      "text/plain": [
       "Index(['result', 'radiant_win', 'duration', 'start_time', 'game_mode',\n",
       "       'localized_name', 'kills', 'deaths', 'assists', 'primary_attr',\n",
       "       'attack_type', 'carry', 'jungler', 'pusher', 'nuker', 'disabler',\n",
       "       'initiator', 'durable', 'support', 'legs'],\n",
       "      dtype='object')"
      ]
     },
     "execution_count": 2,
     "metadata": {},
     "output_type": "execute_result"
    }
   ],
   "source": [
    "### Load the data\n",
    "data = pd.read_csv('dota_stats_headers.csv')\n",
    "headers = data.columns\n",
    "headers # List of data variables"
   ]
  },
  {
   "cell_type": "markdown",
   "metadata": {},
   "source": [
    "A list of the data variables recorded for each match. Here's what they mean:\n",
    "\n",
    "- **result**: Whether the team I was on won or not. 1 = Win, 0 = Loss.\n",
    "- **radiant_win**: Whether the team on the Radiant side of the map won. 1 = True, 0 = False.\n",
    "- **duration**: How long the match lasted, in seconds.\n",
    "- **start_time**: The exact time the match started, measured in seconds since the Coordinated Universal Time stamp, January 1st, 1970\n",
    "- **game_mode**: The game mode I was playing in. An irrelevant variable that'll be deleted later, since I found OpenDota's API to be unclear on the label encoding used for each mode.\n",
    "- **localized_name**: The name of the hero I played. Will be changed to 'Hero' later for brevity.\n",
    "- **kills**: The number of enemy heroes I killed during the match.\n",
    "- **deaths**: The number of times I died during the match, either to enemy heroes or units, neutral creeps, or suicide.\n",
    "- **assists**: The number of times I assisted a teammate in getting a kill.\n",
    "- **primary_attr**: The primary attribute of my hero. Either agi (agility), int (intelligence), or str (strength).\n",
    "- **attack_type**: How my hero does basic attacks. Either melee or ranged.\n",
    "- **carry**: A hero that is the strongest in the lategame with more experience and items. 1 = Yes, 0 = No (same for all other roles).\n",
    "- **jungler**: A hero that can spend the early game fighting neutral creeps in the jungle to gain experience and gold.\n",
    "- **pusher**: A hero that can quickly push lanes and destroy enemy buildings. \n",
    "- **nuker**: A hero that can cast damage-dealing spells to quickly kill enemy heroes.\n",
    "- **disabler**: A hero that can cast spells to prevent enemy heroes from doing things (e.g. stunning a hero so it can't move or attack, removing its damage, silencing it so it can't cast spells).\n",
    "- **initiator**:A hero that is good at starting and controlling major teamfights.\n",
    "- **durable**: A hero that has a lot of health or armor, allowing it to withstand fights and take a lot of damage.\n",
    "- **support**: A hero that has a lot of spells useful for helping out the team, either by healing or strengthening allies. Often delegated to buy support items (i.e. wards, dust) for the team.\n",
    "- **legs**: The number of legs my hero has. (Irrelevant?)"
   ]
  },
  {
   "cell_type": "markdown",
   "metadata": {},
   "source": [
    "First things first - how many games did I play?"
   ]
  },
  {
   "cell_type": "code",
   "execution_count": 3,
   "metadata": {
    "collapsed": false
   },
   "outputs": [
    {
     "data": {
      "text/plain": [
       "3647"
      ]
     },
     "execution_count": 3,
     "metadata": {},
     "output_type": "execute_result"
    }
   ],
   "source": [
    "total_games = len(data)\n",
    "total_games"
   ]
  },
  {
   "cell_type": "markdown",
   "metadata": {},
   "source": [
    "*Goddamn!*"
   ]
  },
  {
   "cell_type": "code",
   "execution_count": 4,
   "metadata": {
    "collapsed": false
   },
   "outputs": [],
   "source": [
    "headers_list = list(headers)\n",
    "headers_list[5] = 'hero' # change 'localized_named' to 'hero'\n",
    "data.columns = headers_list"
   ]
  },
  {
   "cell_type": "markdown",
   "metadata": {},
   "source": [
    "Here's what the head (first 5 rows) of the data looks like. The data is stored in a pandas DataFrame object."
   ]
  },
  {
   "cell_type": "code",
   "execution_count": 5,
   "metadata": {
    "collapsed": false,
    "scrolled": true
   },
   "outputs": [
    {
     "data": {
      "text/html": [
       "<div>\n",
       "<table border=\"1\" class=\"dataframe\">\n",
       "  <thead>\n",
       "    <tr style=\"text-align: right;\">\n",
       "      <th></th>\n",
       "      <th>result</th>\n",
       "      <th>radiant_win</th>\n",
       "      <th>duration</th>\n",
       "      <th>start_time</th>\n",
       "      <th>game_mode</th>\n",
       "      <th>hero</th>\n",
       "      <th>kills</th>\n",
       "      <th>deaths</th>\n",
       "      <th>assists</th>\n",
       "      <th>primary_attr</th>\n",
       "      <th>attack_type</th>\n",
       "      <th>carry</th>\n",
       "      <th>jungler</th>\n",
       "      <th>pusher</th>\n",
       "      <th>nuker</th>\n",
       "      <th>disabler</th>\n",
       "      <th>initiator</th>\n",
       "      <th>durable</th>\n",
       "      <th>support</th>\n",
       "      <th>legs</th>\n",
       "    </tr>\n",
       "  </thead>\n",
       "  <tbody>\n",
       "    <tr>\n",
       "      <th>0</th>\n",
       "      <td>1</td>\n",
       "      <td>0</td>\n",
       "      <td>1588</td>\n",
       "      <td>1331087702</td>\n",
       "      <td>0</td>\n",
       "      <td>Sand King</td>\n",
       "      <td>5</td>\n",
       "      <td>4</td>\n",
       "      <td>7</td>\n",
       "      <td>str</td>\n",
       "      <td>Melee</td>\n",
       "      <td>0</td>\n",
       "      <td>1</td>\n",
       "      <td>0</td>\n",
       "      <td>1</td>\n",
       "      <td>1</td>\n",
       "      <td>1</td>\n",
       "      <td>0</td>\n",
       "      <td>0</td>\n",
       "      <td>6</td>\n",
       "    </tr>\n",
       "    <tr>\n",
       "      <th>1</th>\n",
       "      <td>1</td>\n",
       "      <td>1</td>\n",
       "      <td>2754</td>\n",
       "      <td>1331096627</td>\n",
       "      <td>0</td>\n",
       "      <td>Razor</td>\n",
       "      <td>20</td>\n",
       "      <td>8</td>\n",
       "      <td>22</td>\n",
       "      <td>agi</td>\n",
       "      <td>Ranged</td>\n",
       "      <td>1</td>\n",
       "      <td>0</td>\n",
       "      <td>1</td>\n",
       "      <td>1</td>\n",
       "      <td>0</td>\n",
       "      <td>0</td>\n",
       "      <td>1</td>\n",
       "      <td>0</td>\n",
       "      <td>0</td>\n",
       "    </tr>\n",
       "    <tr>\n",
       "      <th>2</th>\n",
       "      <td>0</td>\n",
       "      <td>1</td>\n",
       "      <td>3321</td>\n",
       "      <td>1331153730</td>\n",
       "      <td>0</td>\n",
       "      <td>Razor</td>\n",
       "      <td>6</td>\n",
       "      <td>6</td>\n",
       "      <td>25</td>\n",
       "      <td>agi</td>\n",
       "      <td>Ranged</td>\n",
       "      <td>1</td>\n",
       "      <td>0</td>\n",
       "      <td>1</td>\n",
       "      <td>1</td>\n",
       "      <td>0</td>\n",
       "      <td>0</td>\n",
       "      <td>1</td>\n",
       "      <td>0</td>\n",
       "      <td>0</td>\n",
       "    </tr>\n",
       "    <tr>\n",
       "      <th>3</th>\n",
       "      <td>1</td>\n",
       "      <td>1</td>\n",
       "      <td>3569</td>\n",
       "      <td>1331159297</td>\n",
       "      <td>0</td>\n",
       "      <td>Storm Spirit</td>\n",
       "      <td>12</td>\n",
       "      <td>7</td>\n",
       "      <td>13</td>\n",
       "      <td>int</td>\n",
       "      <td>Ranged</td>\n",
       "      <td>1</td>\n",
       "      <td>0</td>\n",
       "      <td>0</td>\n",
       "      <td>1</td>\n",
       "      <td>1</td>\n",
       "      <td>1</td>\n",
       "      <td>0</td>\n",
       "      <td>0</td>\n",
       "      <td>2</td>\n",
       "    </tr>\n",
       "    <tr>\n",
       "      <th>4</th>\n",
       "      <td>0</td>\n",
       "      <td>0</td>\n",
       "      <td>3993</td>\n",
       "      <td>1331170894</td>\n",
       "      <td>0</td>\n",
       "      <td>Night Stalker</td>\n",
       "      <td>15</td>\n",
       "      <td>11</td>\n",
       "      <td>16</td>\n",
       "      <td>str</td>\n",
       "      <td>Melee</td>\n",
       "      <td>1</td>\n",
       "      <td>0</td>\n",
       "      <td>0</td>\n",
       "      <td>1</td>\n",
       "      <td>1</td>\n",
       "      <td>1</td>\n",
       "      <td>1</td>\n",
       "      <td>0</td>\n",
       "      <td>2</td>\n",
       "    </tr>\n",
       "  </tbody>\n",
       "</table>\n",
       "</div>"
      ],
      "text/plain": [
       "   result  radiant_win  duration  start_time  game_mode           hero  kills  \\\n",
       "0       1            0      1588  1331087702          0      Sand King      5   \n",
       "1       1            1      2754  1331096627          0          Razor     20   \n",
       "2       0            1      3321  1331153730          0          Razor      6   \n",
       "3       1            1      3569  1331159297          0   Storm Spirit     12   \n",
       "4       0            0      3993  1331170894          0  Night Stalker     15   \n",
       "\n",
       "   deaths  assists primary_attr attack_type  carry  jungler  pusher  nuker  \\\n",
       "0       4        7          str       Melee      0        1       0      1   \n",
       "1       8       22          agi      Ranged      1        0       1      1   \n",
       "2       6       25          agi      Ranged      1        0       1      1   \n",
       "3       7       13          int      Ranged      1        0       0      1   \n",
       "4      11       16          str       Melee      1        0       0      1   \n",
       "\n",
       "   disabler  initiator  durable  support  legs  \n",
       "0         1          1        0        0     6  \n",
       "1         0          0        1        0     0  \n",
       "2         0          0        1        0     0  \n",
       "3         1          1        0        0     2  \n",
       "4         1          1        1        0     2  "
      ]
     },
     "execution_count": 5,
     "metadata": {},
     "output_type": "execute_result"
    }
   ],
   "source": [
    "data.head()"
   ]
  },
  {
   "cell_type": "markdown",
   "metadata": {},
   "source": [
    "It's not ready for analysis yet - there are a few useful things we can add and clean up."
   ]
  },
  {
   "cell_type": "code",
   "execution_count": 6,
   "metadata": {
    "collapsed": true
   },
   "outputs": [],
   "source": [
    "data['duration'] = round(data['duration'] / 60)"
   ]
  },
  {
   "cell_type": "markdown",
   "metadata": {},
   "source": [
    "First, we convert the match duration from seconds to minutes. Next, we'll use Python's datetime module to take the start_time timestamp data and move it into new year, month, day, and hour variables in the DataFrame."
   ]
  },
  {
   "cell_type": "code",
   "execution_count": 7,
   "metadata": {
    "collapsed": false
   },
   "outputs": [],
   "source": [
    "year = []\n",
    "month = []\n",
    "day = []\n",
    "hour = []\n",
    "for ix in data['start_time'].index:\n",
    "    ts = datetime.datetime.fromtimestamp((data['start_time'][ix]))\n",
    "    year.append(ts.year)\n",
    "    month.append(ts.month)\n",
    "    day.append(ts.day)\n",
    "    hour.append(ts.hour)\n",
    "data.insert(3, 'year', year)\n",
    "data.insert(4, 'month', month)\n",
    "data.insert(5, 'day', day)\n",
    "data.insert(6, 'hour', hour)\n",
    "data.drop('start_time', axis=1, inplace=True)"
   ]
  },
  {
   "cell_type": "markdown",
   "metadata": {},
   "source": [
    "Here's what the DataFrame looks like with our time variables properly formatted:"
   ]
  },
  {
   "cell_type": "code",
   "execution_count": 8,
   "metadata": {
    "collapsed": false
   },
   "outputs": [
    {
     "data": {
      "text/html": [
       "<div>\n",
       "<table border=\"1\" class=\"dataframe\">\n",
       "  <thead>\n",
       "    <tr style=\"text-align: right;\">\n",
       "      <th></th>\n",
       "      <th>result</th>\n",
       "      <th>radiant_win</th>\n",
       "      <th>duration</th>\n",
       "      <th>year</th>\n",
       "      <th>month</th>\n",
       "      <th>day</th>\n",
       "      <th>hour</th>\n",
       "      <th>game_mode</th>\n",
       "      <th>hero</th>\n",
       "      <th>kills</th>\n",
       "      <th>deaths</th>\n",
       "      <th>assists</th>\n",
       "      <th>primary_attr</th>\n",
       "      <th>attack_type</th>\n",
       "      <th>carry</th>\n",
       "      <th>jungler</th>\n",
       "      <th>pusher</th>\n",
       "      <th>nuker</th>\n",
       "      <th>disabler</th>\n",
       "      <th>initiator</th>\n",
       "      <th>durable</th>\n",
       "      <th>support</th>\n",
       "      <th>legs</th>\n",
       "    </tr>\n",
       "  </thead>\n",
       "  <tbody>\n",
       "    <tr>\n",
       "      <th>0</th>\n",
       "      <td>1</td>\n",
       "      <td>0</td>\n",
       "      <td>26.0</td>\n",
       "      <td>2012</td>\n",
       "      <td>3</td>\n",
       "      <td>6</td>\n",
       "      <td>21</td>\n",
       "      <td>0</td>\n",
       "      <td>Sand King</td>\n",
       "      <td>5</td>\n",
       "      <td>4</td>\n",
       "      <td>7</td>\n",
       "      <td>str</td>\n",
       "      <td>Melee</td>\n",
       "      <td>0</td>\n",
       "      <td>1</td>\n",
       "      <td>0</td>\n",
       "      <td>1</td>\n",
       "      <td>1</td>\n",
       "      <td>1</td>\n",
       "      <td>0</td>\n",
       "      <td>0</td>\n",
       "      <td>6</td>\n",
       "    </tr>\n",
       "    <tr>\n",
       "      <th>1</th>\n",
       "      <td>1</td>\n",
       "      <td>1</td>\n",
       "      <td>46.0</td>\n",
       "      <td>2012</td>\n",
       "      <td>3</td>\n",
       "      <td>7</td>\n",
       "      <td>0</td>\n",
       "      <td>0</td>\n",
       "      <td>Razor</td>\n",
       "      <td>20</td>\n",
       "      <td>8</td>\n",
       "      <td>22</td>\n",
       "      <td>agi</td>\n",
       "      <td>Ranged</td>\n",
       "      <td>1</td>\n",
       "      <td>0</td>\n",
       "      <td>1</td>\n",
       "      <td>1</td>\n",
       "      <td>0</td>\n",
       "      <td>0</td>\n",
       "      <td>1</td>\n",
       "      <td>0</td>\n",
       "      <td>0</td>\n",
       "    </tr>\n",
       "    <tr>\n",
       "      <th>2</th>\n",
       "      <td>0</td>\n",
       "      <td>1</td>\n",
       "      <td>55.0</td>\n",
       "      <td>2012</td>\n",
       "      <td>3</td>\n",
       "      <td>7</td>\n",
       "      <td>15</td>\n",
       "      <td>0</td>\n",
       "      <td>Razor</td>\n",
       "      <td>6</td>\n",
       "      <td>6</td>\n",
       "      <td>25</td>\n",
       "      <td>agi</td>\n",
       "      <td>Ranged</td>\n",
       "      <td>1</td>\n",
       "      <td>0</td>\n",
       "      <td>1</td>\n",
       "      <td>1</td>\n",
       "      <td>0</td>\n",
       "      <td>0</td>\n",
       "      <td>1</td>\n",
       "      <td>0</td>\n",
       "      <td>0</td>\n",
       "    </tr>\n",
       "    <tr>\n",
       "      <th>3</th>\n",
       "      <td>1</td>\n",
       "      <td>1</td>\n",
       "      <td>59.0</td>\n",
       "      <td>2012</td>\n",
       "      <td>3</td>\n",
       "      <td>7</td>\n",
       "      <td>17</td>\n",
       "      <td>0</td>\n",
       "      <td>Storm Spirit</td>\n",
       "      <td>12</td>\n",
       "      <td>7</td>\n",
       "      <td>13</td>\n",
       "      <td>int</td>\n",
       "      <td>Ranged</td>\n",
       "      <td>1</td>\n",
       "      <td>0</td>\n",
       "      <td>0</td>\n",
       "      <td>1</td>\n",
       "      <td>1</td>\n",
       "      <td>1</td>\n",
       "      <td>0</td>\n",
       "      <td>0</td>\n",
       "      <td>2</td>\n",
       "    </tr>\n",
       "    <tr>\n",
       "      <th>4</th>\n",
       "      <td>0</td>\n",
       "      <td>0</td>\n",
       "      <td>67.0</td>\n",
       "      <td>2012</td>\n",
       "      <td>3</td>\n",
       "      <td>7</td>\n",
       "      <td>20</td>\n",
       "      <td>0</td>\n",
       "      <td>Night Stalker</td>\n",
       "      <td>15</td>\n",
       "      <td>11</td>\n",
       "      <td>16</td>\n",
       "      <td>str</td>\n",
       "      <td>Melee</td>\n",
       "      <td>1</td>\n",
       "      <td>0</td>\n",
       "      <td>0</td>\n",
       "      <td>1</td>\n",
       "      <td>1</td>\n",
       "      <td>1</td>\n",
       "      <td>1</td>\n",
       "      <td>0</td>\n",
       "      <td>2</td>\n",
       "    </tr>\n",
       "  </tbody>\n",
       "</table>\n",
       "</div>"
      ],
      "text/plain": [
       "   result  radiant_win  duration  year  month  day  hour  game_mode  \\\n",
       "0       1            0      26.0  2012      3    6    21          0   \n",
       "1       1            1      46.0  2012      3    7     0          0   \n",
       "2       0            1      55.0  2012      3    7    15          0   \n",
       "3       1            1      59.0  2012      3    7    17          0   \n",
       "4       0            0      67.0  2012      3    7    20          0   \n",
       "\n",
       "            hero  kills  deaths  assists primary_attr attack_type  carry  \\\n",
       "0      Sand King      5       4        7          str       Melee      0   \n",
       "1          Razor     20       8       22          agi      Ranged      1   \n",
       "2          Razor      6       6       25          agi      Ranged      1   \n",
       "3   Storm Spirit     12       7       13          int      Ranged      1   \n",
       "4  Night Stalker     15      11       16          str       Melee      1   \n",
       "\n",
       "   jungler  pusher  nuker  disabler  initiator  durable  support  legs  \n",
       "0        1       0      1         1          1        0        0     6  \n",
       "1        0       1      1         0          0        1        0     0  \n",
       "2        0       1      1         0          0        1        0     0  \n",
       "3        0       0      1         1          1        0        0     2  \n",
       "4        0       0      1         1          1        1        0     2  "
      ]
     },
     "execution_count": 8,
     "metadata": {},
     "output_type": "execute_result"
    }
   ],
   "source": [
    "data.head()"
   ]
  },
  {
   "cell_type": "markdown",
   "metadata": {},
   "source": [
    "Next, we're going to split the values in both primary_attr and attack_type into new dummy variables, to make things easier for manipulation later on. This adds the columns agi, int, str, melee, and ranged to the DataFrame."
   ]
  },
  {
   "cell_type": "code",
   "execution_count": 9,
   "metadata": {
    "collapsed": false
   },
   "outputs": [],
   "source": [
    "primary_attr = pd.get_dummies(data['primary_attr'])\n",
    "attack_type = pd.get_dummies(data['attack_type'])\n",
    "data = pd.concat([data, primary_attr, attack_type], axis=1)"
   ]
  },
  {
   "cell_type": "markdown",
   "metadata": {},
   "source": [
    "Now we add two new variables into the DataFrame: Kill/Death Ratio (**kdr**) and Kill/Death/Assist Ratio (**kda**). These are aggregates of the **kill**, **death**, and **assist** variables which provide good descriptive values to the balance of the three scored in each match.\n",
    "\n",
    "**Kill/Death Ratio** = $kills/deaths$\n",
    "\n",
    "**Kill/Death/Assist Ratio** = $(kills + assists)/deaths$"
   ]
  },
  {
   "cell_type": "code",
   "execution_count": 10,
   "metadata": {
    "collapsed": false,
    "scrolled": true
   },
   "outputs": [],
   "source": [
    "kda = (data['kills'] + data['assists'])/data['deaths']\n",
    "kdr = data['kills']/data['deaths']\n",
    "data.insert(13, 'kda', kda)\n",
    "data.insert(14, 'kdr', kdr)"
   ]
  },
  {
   "cell_type": "markdown",
   "metadata": {},
   "source": [
    "There were some matches I played where I never died once. This will throw the KDR and KDA ratios off for these matches however, since there'll be a division by 0. To mitigate this, for matches where I didn't die, I'll adjust the ratios to divide by 1 instead."
   ]
  },
  {
   "cell_type": "code",
   "execution_count": 11,
   "metadata": {
    "collapsed": false,
    "scrolled": true
   },
   "outputs": [
    {
     "name": "stderr",
     "output_type": "stream",
     "text": [
      "C:\\Users\\Will\\Anaconda3\\lib\\site-packages\\ipykernel\\__main__.py:1: SettingWithCopyWarning: \n",
      "A value is trying to be set on a copy of a slice from a DataFrame\n",
      "\n",
      "See the caveats in the documentation: http://pandas.pydata.org/pandas-docs/stable/indexing.html#indexing-view-versus-copy\n",
      "  if __name__ == '__main__':\n",
      "C:\\Users\\Will\\Anaconda3\\lib\\site-packages\\ipykernel\\__main__.py:2: SettingWithCopyWarning: \n",
      "A value is trying to be set on a copy of a slice from a DataFrame\n",
      "\n",
      "See the caveats in the documentation: http://pandas.pydata.org/pandas-docs/stable/indexing.html#indexing-view-versus-copy\n",
      "  from ipykernel import kernelapp as app\n"
     ]
    }
   ],
   "source": [
    "data.kdr[data.deaths == 0] = data.kills[data.deaths == 0] / 1\n",
    "data.kda[data.deaths == 0] = (data.kills[data.deaths == 0] + data.assists[data.deaths == 0]) / 1"
   ]
  },
  {
   "cell_type": "markdown",
   "metadata": {},
   "source": [
    "Finally, let's drop **game_mode**, since it offers no valuable insight for this analysis. The vast majority of my games (atleast 95% if I had to guess) were played in All Pick Mode, where players can directly pick the hero they want to play for the match."
   ]
  },
  {
   "cell_type": "code",
   "execution_count": 12,
   "metadata": {
    "collapsed": false
   },
   "outputs": [],
   "source": [
    "data.drop(['game_mode'], axis=1, inplace=True)"
   ]
  },
  {
   "cell_type": "markdown",
   "metadata": {},
   "source": [
    "With these adjustments made, we've now got a clean and easy DataFrame to work with."
   ]
  },
  {
   "cell_type": "code",
   "execution_count": 13,
   "metadata": {
    "collapsed": false,
    "scrolled": true
   },
   "outputs": [
    {
     "data": {
      "text/html": [
       "<div>\n",
       "<table border=\"1\" class=\"dataframe\">\n",
       "  <thead>\n",
       "    <tr style=\"text-align: right;\">\n",
       "      <th></th>\n",
       "      <th>result</th>\n",
       "      <th>radiant_win</th>\n",
       "      <th>duration</th>\n",
       "      <th>year</th>\n",
       "      <th>month</th>\n",
       "      <th>day</th>\n",
       "      <th>hour</th>\n",
       "      <th>hero</th>\n",
       "      <th>kills</th>\n",
       "      <th>deaths</th>\n",
       "      <th>assists</th>\n",
       "      <th>primary_attr</th>\n",
       "      <th>kda</th>\n",
       "      <th>kdr</th>\n",
       "      <th>attack_type</th>\n",
       "      <th>carry</th>\n",
       "      <th>jungler</th>\n",
       "      <th>pusher</th>\n",
       "      <th>nuker</th>\n",
       "      <th>disabler</th>\n",
       "      <th>initiator</th>\n",
       "      <th>durable</th>\n",
       "      <th>support</th>\n",
       "      <th>legs</th>\n",
       "      <th>agi</th>\n",
       "      <th>int</th>\n",
       "      <th>str</th>\n",
       "      <th>Melee</th>\n",
       "      <th>Ranged</th>\n",
       "    </tr>\n",
       "  </thead>\n",
       "  <tbody>\n",
       "    <tr>\n",
       "      <th>0</th>\n",
       "      <td>1</td>\n",
       "      <td>0</td>\n",
       "      <td>26.0</td>\n",
       "      <td>2012</td>\n",
       "      <td>3</td>\n",
       "      <td>6</td>\n",
       "      <td>21</td>\n",
       "      <td>Sand King</td>\n",
       "      <td>5</td>\n",
       "      <td>4</td>\n",
       "      <td>7</td>\n",
       "      <td>str</td>\n",
       "      <td>3.000000</td>\n",
       "      <td>1.250000</td>\n",
       "      <td>Melee</td>\n",
       "      <td>0</td>\n",
       "      <td>1</td>\n",
       "      <td>0</td>\n",
       "      <td>1</td>\n",
       "      <td>1</td>\n",
       "      <td>1</td>\n",
       "      <td>0</td>\n",
       "      <td>0</td>\n",
       "      <td>6</td>\n",
       "      <td>0</td>\n",
       "      <td>0</td>\n",
       "      <td>1</td>\n",
       "      <td>1</td>\n",
       "      <td>0</td>\n",
       "    </tr>\n",
       "    <tr>\n",
       "      <th>1</th>\n",
       "      <td>1</td>\n",
       "      <td>1</td>\n",
       "      <td>46.0</td>\n",
       "      <td>2012</td>\n",
       "      <td>3</td>\n",
       "      <td>7</td>\n",
       "      <td>0</td>\n",
       "      <td>Razor</td>\n",
       "      <td>20</td>\n",
       "      <td>8</td>\n",
       "      <td>22</td>\n",
       "      <td>agi</td>\n",
       "      <td>5.250000</td>\n",
       "      <td>2.500000</td>\n",
       "      <td>Ranged</td>\n",
       "      <td>1</td>\n",
       "      <td>0</td>\n",
       "      <td>1</td>\n",
       "      <td>1</td>\n",
       "      <td>0</td>\n",
       "      <td>0</td>\n",
       "      <td>1</td>\n",
       "      <td>0</td>\n",
       "      <td>0</td>\n",
       "      <td>1</td>\n",
       "      <td>0</td>\n",
       "      <td>0</td>\n",
       "      <td>0</td>\n",
       "      <td>1</td>\n",
       "    </tr>\n",
       "    <tr>\n",
       "      <th>2</th>\n",
       "      <td>0</td>\n",
       "      <td>1</td>\n",
       "      <td>55.0</td>\n",
       "      <td>2012</td>\n",
       "      <td>3</td>\n",
       "      <td>7</td>\n",
       "      <td>15</td>\n",
       "      <td>Razor</td>\n",
       "      <td>6</td>\n",
       "      <td>6</td>\n",
       "      <td>25</td>\n",
       "      <td>agi</td>\n",
       "      <td>5.166667</td>\n",
       "      <td>1.000000</td>\n",
       "      <td>Ranged</td>\n",
       "      <td>1</td>\n",
       "      <td>0</td>\n",
       "      <td>1</td>\n",
       "      <td>1</td>\n",
       "      <td>0</td>\n",
       "      <td>0</td>\n",
       "      <td>1</td>\n",
       "      <td>0</td>\n",
       "      <td>0</td>\n",
       "      <td>1</td>\n",
       "      <td>0</td>\n",
       "      <td>0</td>\n",
       "      <td>0</td>\n",
       "      <td>1</td>\n",
       "    </tr>\n",
       "    <tr>\n",
       "      <th>3</th>\n",
       "      <td>1</td>\n",
       "      <td>1</td>\n",
       "      <td>59.0</td>\n",
       "      <td>2012</td>\n",
       "      <td>3</td>\n",
       "      <td>7</td>\n",
       "      <td>17</td>\n",
       "      <td>Storm Spirit</td>\n",
       "      <td>12</td>\n",
       "      <td>7</td>\n",
       "      <td>13</td>\n",
       "      <td>int</td>\n",
       "      <td>3.571429</td>\n",
       "      <td>1.714286</td>\n",
       "      <td>Ranged</td>\n",
       "      <td>1</td>\n",
       "      <td>0</td>\n",
       "      <td>0</td>\n",
       "      <td>1</td>\n",
       "      <td>1</td>\n",
       "      <td>1</td>\n",
       "      <td>0</td>\n",
       "      <td>0</td>\n",
       "      <td>2</td>\n",
       "      <td>0</td>\n",
       "      <td>1</td>\n",
       "      <td>0</td>\n",
       "      <td>0</td>\n",
       "      <td>1</td>\n",
       "    </tr>\n",
       "    <tr>\n",
       "      <th>4</th>\n",
       "      <td>0</td>\n",
       "      <td>0</td>\n",
       "      <td>67.0</td>\n",
       "      <td>2012</td>\n",
       "      <td>3</td>\n",
       "      <td>7</td>\n",
       "      <td>20</td>\n",
       "      <td>Night Stalker</td>\n",
       "      <td>15</td>\n",
       "      <td>11</td>\n",
       "      <td>16</td>\n",
       "      <td>str</td>\n",
       "      <td>2.818182</td>\n",
       "      <td>1.363636</td>\n",
       "      <td>Melee</td>\n",
       "      <td>1</td>\n",
       "      <td>0</td>\n",
       "      <td>0</td>\n",
       "      <td>1</td>\n",
       "      <td>1</td>\n",
       "      <td>1</td>\n",
       "      <td>1</td>\n",
       "      <td>0</td>\n",
       "      <td>2</td>\n",
       "      <td>0</td>\n",
       "      <td>0</td>\n",
       "      <td>1</td>\n",
       "      <td>1</td>\n",
       "      <td>0</td>\n",
       "    </tr>\n",
       "  </tbody>\n",
       "</table>\n",
       "</div>"
      ],
      "text/plain": [
       "   result  radiant_win  duration  year  month  day  hour           hero  \\\n",
       "0       1            0      26.0  2012      3    6    21      Sand King   \n",
       "1       1            1      46.0  2012      3    7     0          Razor   \n",
       "2       0            1      55.0  2012      3    7    15          Razor   \n",
       "3       1            1      59.0  2012      3    7    17   Storm Spirit   \n",
       "4       0            0      67.0  2012      3    7    20  Night Stalker   \n",
       "\n",
       "   kills  deaths  assists primary_attr       kda       kdr attack_type  carry  \\\n",
       "0      5       4        7          str  3.000000  1.250000       Melee      0   \n",
       "1     20       8       22          agi  5.250000  2.500000      Ranged      1   \n",
       "2      6       6       25          agi  5.166667  1.000000      Ranged      1   \n",
       "3     12       7       13          int  3.571429  1.714286      Ranged      1   \n",
       "4     15      11       16          str  2.818182  1.363636       Melee      1   \n",
       "\n",
       "   jungler  pusher  nuker  disabler  initiator  durable  support  legs  agi  \\\n",
       "0        1       0      1         1          1        0        0     6    0   \n",
       "1        0       1      1         0          0        1        0     0    1   \n",
       "2        0       1      1         0          0        1        0     0    1   \n",
       "3        0       0      1         1          1        0        0     2    0   \n",
       "4        0       0      1         1          1        1        0     2    0   \n",
       "\n",
       "   int  str  Melee  Ranged  \n",
       "0    0    1      1       0  \n",
       "1    0    0      0       1  \n",
       "2    0    0      0       1  \n",
       "3    1    0      0       1  \n",
       "4    0    1      1       0  "
      ]
     },
     "execution_count": 13,
     "metadata": {},
     "output_type": "execute_result"
    }
   ],
   "source": [
    "data.head()"
   ]
  },
  {
   "cell_type": "markdown",
   "metadata": {},
   "source": [
    "### DataFrame 2: Hero Data\n",
    "The second dataset I'm loading in only contains the variables for each hero in the game: their name, primary attribute, attack type, roles, and number of legs. I'll use this DataFrame to look at the distribution of these variables across the entire hero pool later on."
   ]
  },
  {
   "cell_type": "code",
   "execution_count": 14,
   "metadata": {
    "collapsed": false
   },
   "outputs": [
    {
     "data": {
      "text/html": [
       "<div>\n",
       "<table border=\"1\" class=\"dataframe\">\n",
       "  <thead>\n",
       "    <tr style=\"text-align: right;\">\n",
       "      <th></th>\n",
       "      <th>hero</th>\n",
       "      <th>primary_attr</th>\n",
       "      <th>attack_type</th>\n",
       "      <th>carry</th>\n",
       "      <th>jungler</th>\n",
       "      <th>pusher</th>\n",
       "      <th>nuker</th>\n",
       "      <th>disabler</th>\n",
       "      <th>initiator</th>\n",
       "      <th>durable</th>\n",
       "      <th>support</th>\n",
       "      <th>legs</th>\n",
       "      <th>agi</th>\n",
       "      <th>int</th>\n",
       "      <th>str</th>\n",
       "      <th>Melee</th>\n",
       "      <th>Ranged</th>\n",
       "    </tr>\n",
       "  </thead>\n",
       "  <tbody>\n",
       "    <tr>\n",
       "      <th>108</th>\n",
       "      <td>Phoenix</td>\n",
       "      <td>str</td>\n",
       "      <td>Ranged</td>\n",
       "      <td>0</td>\n",
       "      <td>0</td>\n",
       "      <td>0</td>\n",
       "      <td>1</td>\n",
       "      <td>1</td>\n",
       "      <td>1</td>\n",
       "      <td>0</td>\n",
       "      <td>1</td>\n",
       "      <td>2</td>\n",
       "      <td>0</td>\n",
       "      <td>0</td>\n",
       "      <td>1</td>\n",
       "      <td>0</td>\n",
       "      <td>1</td>\n",
       "    </tr>\n",
       "    <tr>\n",
       "      <th>109</th>\n",
       "      <td>Oracle</td>\n",
       "      <td>int</td>\n",
       "      <td>Ranged</td>\n",
       "      <td>0</td>\n",
       "      <td>0</td>\n",
       "      <td>0</td>\n",
       "      <td>1</td>\n",
       "      <td>1</td>\n",
       "      <td>0</td>\n",
       "      <td>0</td>\n",
       "      <td>1</td>\n",
       "      <td>2</td>\n",
       "      <td>0</td>\n",
       "      <td>1</td>\n",
       "      <td>0</td>\n",
       "      <td>0</td>\n",
       "      <td>1</td>\n",
       "    </tr>\n",
       "    <tr>\n",
       "      <th>110</th>\n",
       "      <td>Winter Wyvern</td>\n",
       "      <td>int</td>\n",
       "      <td>Ranged</td>\n",
       "      <td>0</td>\n",
       "      <td>0</td>\n",
       "      <td>0</td>\n",
       "      <td>1</td>\n",
       "      <td>1</td>\n",
       "      <td>0</td>\n",
       "      <td>0</td>\n",
       "      <td>1</td>\n",
       "      <td>2</td>\n",
       "      <td>0</td>\n",
       "      <td>1</td>\n",
       "      <td>0</td>\n",
       "      <td>0</td>\n",
       "      <td>1</td>\n",
       "    </tr>\n",
       "    <tr>\n",
       "      <th>111</th>\n",
       "      <td>Arc Warden</td>\n",
       "      <td>agi</td>\n",
       "      <td>Ranged</td>\n",
       "      <td>1</td>\n",
       "      <td>0</td>\n",
       "      <td>0</td>\n",
       "      <td>1</td>\n",
       "      <td>0</td>\n",
       "      <td>0</td>\n",
       "      <td>0</td>\n",
       "      <td>0</td>\n",
       "      <td>2</td>\n",
       "      <td>1</td>\n",
       "      <td>0</td>\n",
       "      <td>0</td>\n",
       "      <td>0</td>\n",
       "      <td>1</td>\n",
       "    </tr>\n",
       "    <tr>\n",
       "      <th>112</th>\n",
       "      <td>Monkey King</td>\n",
       "      <td>agi</td>\n",
       "      <td>Melee</td>\n",
       "      <td>1</td>\n",
       "      <td>0</td>\n",
       "      <td>0</td>\n",
       "      <td>0</td>\n",
       "      <td>1</td>\n",
       "      <td>1</td>\n",
       "      <td>0</td>\n",
       "      <td>0</td>\n",
       "      <td>2</td>\n",
       "      <td>1</td>\n",
       "      <td>0</td>\n",
       "      <td>0</td>\n",
       "      <td>1</td>\n",
       "      <td>0</td>\n",
       "    </tr>\n",
       "  </tbody>\n",
       "</table>\n",
       "</div>"
      ],
      "text/plain": [
       "              hero primary_attr attack_type  carry  jungler  pusher  nuker  \\\n",
       "108        Phoenix          str      Ranged      0        0       0      1   \n",
       "109         Oracle          int      Ranged      0        0       0      1   \n",
       "110  Winter Wyvern          int      Ranged      0        0       0      1   \n",
       "111     Arc Warden          agi      Ranged      1        0       0      1   \n",
       "112    Monkey King          agi       Melee      1        0       0      0   \n",
       "\n",
       "     disabler  initiator  durable  support  legs  agi  int  str  Melee  Ranged  \n",
       "108         1          1        0        1     2    0    0    1      0       1  \n",
       "109         1          0        0        1     2    0    1    0      0       1  \n",
       "110         1          0        0        1     2    0    1    0      0       1  \n",
       "111         0          0        0        0     2    1    0    0      0       1  \n",
       "112         1          1        0        0     2    1    0    0      1       0  "
      ]
     },
     "execution_count": 14,
     "metadata": {},
     "output_type": "execute_result"
    }
   ],
   "source": [
    "hero_data = pd.read_csv(\"dota_hero_stats.csv\")\n",
    "\n",
    "hero_headers = list(hero_data.columns)\n",
    "hero_headers[0] = 'hero' # change 'localized_named' to 'hero'\n",
    "hero_data.columns = hero_headers\n",
    "\n",
    "hero_primary_attr = pd.get_dummies(hero_data['primary_attr'])\n",
    "hero_attack_type = pd.get_dummies(hero_data['attack_type'])\n",
    "hero_data = pd.concat([hero_data, hero_primary_attr, hero_attack_type], axis=1)\n",
    "\n",
    "hero_data.tail() # the last 5 entries in the DataFrame"
   ]
  },
  {
   "cell_type": "markdown",
   "metadata": {},
   "source": [
    "Done! Let's get down to business."
   ]
  },
  {
   "cell_type": "markdown",
   "metadata": {},
   "source": [
    "## Analysis\n",
    "\n",
    "### Win/Loss Ratio\n",
    "\n",
    "First things first; the ultimate measure of whether you're a scrub or a pro... A legend or a mockery... The Win/Loss Ratio."
   ]
  },
  {
   "cell_type": "code",
   "execution_count": 15,
   "metadata": {
    "collapsed": false
   },
   "outputs": [
    {
     "name": "stdout",
     "output_type": "stream",
     "text": [
      "Wins: 1810 (49.6%)\n",
      "Losses: 1837 (50.4%)\n"
     ]
    }
   ],
   "source": [
    "wins = len(data[data['result'] == 1])\n",
    "wins_pct = round(wins/total_games, 3) * 100\n",
    "losses = len(data[data['result'] == 0])\n",
    "losses_pct = round(losses/total_games, 3) * 100\n",
    "\n",
    "print('Wins: {} ({}%)'.format(wins, wins_pct))\n",
    "print('Losses: {} ({}%)'.format(losses, losses_pct))"
   ]
  },
  {
   "cell_type": "markdown",
   "metadata": {},
   "source": [
    "On average, I'm (ever so slightly more often) a ***LOSER!*** In all seriousness, I'm not some DotA pro, so it makes sense to have such an average W/L. Sometimes you win, sometimes you don't. Approximately half of the time."
   ]
  },
  {
   "cell_type": "code",
   "execution_count": 16,
   "metadata": {
    "collapsed": false
   },
   "outputs": [],
   "source": [
    "wins_and_losses = data['result'].value_counts()"
   ]
  },
  {
   "cell_type": "code",
   "execution_count": 17,
   "metadata": {
    "collapsed": false
   },
   "outputs": [],
   "source": [
    "## nifty function to annotate barplots\n",
    "def annotate(horizontal=False):\n",
    "    ax = plt.gca()    \n",
    "    for p in ax.patches:\n",
    "        ax.text(p.get_x() + p.get_width()/2., p.get_height() + 5, '%d' % int(p.get_height()), \n",
    "            fontsize=12, ha='center', va='bottom')"
   ]
  },
  {
   "cell_type": "code",
   "execution_count": 18,
   "metadata": {
    "collapsed": false,
    "scrolled": false
   },
   "outputs": [
    {
     "data": {
      "image/png": "[encoded data removed]",
      "text/plain": [
       "<matplotlib.figure.Figure at 0x1d968f41080>"
      ]
     },
     "metadata": {},
     "output_type": "display_data"
    }
   ],
   "source": [
    "plt.figure(figsize=(18,8))\n",
    "sns.barplot(wins_and_losses.index, wins_and_losses.values)\n",
    "annotate()"
   ]
  },
  {
   "cell_type": "markdown",
   "metadata": {},
   "source": [
    "Looks pretty close!"
   ]
  },
  {
   "cell_type": "markdown",
   "metadata": {},
   "source": [
    "### Radiant/Dire Advantage\n",
    "\n",
    "In Dota, you play on one of two teams: the Radiant or the Dire. There's no difference between being on either team except for the fact that the battlefield both teams play on is slightly asymmetrical. For a long time there was the conventional wisdom that the Dire team had a slight advantage as Roshan (a powerful monster on the map which drops an item that revives heroes) was on their side of the river that intersects the map. [This has been disproven however](https://www.joindota.com/en/news/29115-the-roshan-myth-debunking-the-dire-side-advantage), and the general consensus is that there is no substantive advantage that comes with being on a specific team. In theory, this should be reflected in my match results:"
   ]
  },
  {
   "cell_type": "code",
   "execution_count": 19,
   "metadata": {
    "collapsed": false,
    "scrolled": false
   },
   "outputs": [
    {
     "data": {
      "image/png": "[encoded data removed]",
      "text/plain": [
       "<matplotlib.figure.Figure at 0x1d96da69dd8>"
      ]
     },
     "metadata": {},
     "output_type": "display_data"
    }
   ],
   "source": [
    "radiant_wins = data['radiant_win'].value_counts()\n",
    "\n",
    "plt.figure(figsize=(18,8))\n",
    "sns.barplot(['Radiant Win', 'Dire Win'], radiant_wins.values)\n",
    "annotate()"
   ]
  },
  {
   "cell_type": "code",
   "execution_count": 20,
   "metadata": {
    "collapsed": false
   },
   "outputs": [
    {
     "name": "stdout",
     "output_type": "stream",
     "text": [
      "Radiant Win %: 0.523718124486\n",
      "Dire Win %: 0.476281875514\n"
     ]
    }
   ],
   "source": [
    "print('Radiant Win %:', radiant_wins[1]/len(data))\n",
    "print('Dire Win %:', radiant_wins[0]/len(data))"
   ]
  },
  {
   "cell_type": "markdown",
   "metadata": {},
   "source": [
    "There appears to be a slight advantage to being on the Radiant side. Some reasons to why this might be can be found in the article linked above!"
   ]
  },
  {
   "cell_type": "markdown",
   "metadata": {},
   "source": [
    "### Numerical Distributions\n",
    "\n",
    "While Win/Loss and Radiant/Dire Advantage are interesting to look at, whether you win or lose in DotA is a result of your team - the sum is greater than the parts. Focusing more on my personal performance, a good place to start is the distribution of some numerical variables in the dataset. A boxplot will show where the first quartile, median, third quartile, and outliers lie for a given dimension. What I've decided to plot below are the most interesting aspects to investigate: **duration**, **kills**, **deaths**, **assists**, **kdr**, **kda**."
   ]
  },
  {
   "cell_type": "code",
   "execution_count": 21,
   "metadata": {
    "collapsed": false,
    "scrolled": false
   },
   "outputs": [
    {
     "data": {
      "text/plain": [
       "<matplotlib.axes._subplots.AxesSubplot at 0x1d96e218128>"
      ]
     },
     "execution_count": 21,
     "metadata": {},
     "output_type": "execute_result"
    },
    {
     "data": {
      "image/png": "[encoded data removed]",
      "text/plain": [
       "<matplotlib.figure.Figure at 0x1d96da6dc50>"
      ]
     },
     "metadata": {},
     "output_type": "display_data"
    }
   ],
   "source": [
    "plt.figure(figsize=(18,12))\n",
    "plt.subplot(2,3,1)\n",
    "sns.boxplot(y=data['duration'])\n",
    "\n",
    "plt.subplot(2,3,2)\n",
    "sns.boxplot(y=data['kills'])\n",
    "\n",
    "plt.subplot(2,3,3)\n",
    "sns.boxplot(y=data['deaths'])\n",
    "\n",
    "plt.subplot(2,3,4)\n",
    "sns.boxplot(y=data['assists'])\n",
    "\n",
    "plt.subplot(2,3,5)\n",
    "sns.boxplot(y=data['kdr'])\n",
    "\n",
    "plt.subplot(2,3,6)\n",
    "sns.boxplot(y=data['kda'])"
   ]
  },
  {
   "cell_type": "markdown",
   "metadata": {},
   "source": [
    "This same data can be displayed in a table through pandas' **describe** function:"
   ]
  },
  {
   "cell_type": "code",
   "execution_count": 22,
   "metadata": {
    "collapsed": false,
    "scrolled": true
   },
   "outputs": [
    {
     "data": {
      "text/html": [
       "<div>\n",
       "<table border=\"1\" class=\"dataframe\">\n",
       "  <thead>\n",
       "    <tr style=\"text-align: right;\">\n",
       "      <th></th>\n",
       "      <th>result</th>\n",
       "      <th>radiant_win</th>\n",
       "      <th>duration</th>\n",
       "      <th>year</th>\n",
       "      <th>month</th>\n",
       "      <th>day</th>\n",
       "      <th>hour</th>\n",
       "      <th>kills</th>\n",
       "      <th>deaths</th>\n",
       "      <th>assists</th>\n",
       "      <th>kda</th>\n",
       "      <th>kdr</th>\n",
       "      <th>carry</th>\n",
       "      <th>jungler</th>\n",
       "      <th>pusher</th>\n",
       "      <th>nuker</th>\n",
       "      <th>disabler</th>\n",
       "      <th>initiator</th>\n",
       "      <th>durable</th>\n",
       "      <th>support</th>\n",
       "      <th>legs</th>\n",
       "      <th>agi</th>\n",
       "      <th>int</th>\n",
       "      <th>str</th>\n",
       "      <th>Melee</th>\n",
       "      <th>Ranged</th>\n",
       "    </tr>\n",
       "  </thead>\n",
       "  <tbody>\n",
       "    <tr>\n",
       "      <th>count</th>\n",
       "      <td>3647.000000</td>\n",
       "      <td>3647.000000</td>\n",
       "      <td>3647.000000</td>\n",
       "      <td>3647.000000</td>\n",
       "      <td>3647.000000</td>\n",
       "      <td>3647.000000</td>\n",
       "      <td>3647.000000</td>\n",
       "      <td>3647.000000</td>\n",
       "      <td>3647.000000</td>\n",
       "      <td>3647.000000</td>\n",
       "      <td>3647.000000</td>\n",
       "      <td>3647.000000</td>\n",
       "      <td>3647.000000</td>\n",
       "      <td>3647.000000</td>\n",
       "      <td>3647.000000</td>\n",
       "      <td>3647.000000</td>\n",
       "      <td>3647.000000</td>\n",
       "      <td>3647.000000</td>\n",
       "      <td>3647.000000</td>\n",
       "      <td>3647.000000</td>\n",
       "      <td>3647.000000</td>\n",
       "      <td>3647.000000</td>\n",
       "      <td>3647.000000</td>\n",
       "      <td>3647.000000</td>\n",
       "      <td>3647.000000</td>\n",
       "      <td>3647.000000</td>\n",
       "    </tr>\n",
       "    <tr>\n",
       "      <th>mean</th>\n",
       "      <td>0.496298</td>\n",
       "      <td>0.523718</td>\n",
       "      <td>39.826707</td>\n",
       "      <td>2013.424184</td>\n",
       "      <td>6.644091</td>\n",
       "      <td>15.742528</td>\n",
       "      <td>12.825884</td>\n",
       "      <td>8.040033</td>\n",
       "      <td>6.874417</td>\n",
       "      <td>11.526186</td>\n",
       "      <td>3.797090</td>\n",
       "      <td>1.628019</td>\n",
       "      <td>0.587606</td>\n",
       "      <td>0.088018</td>\n",
       "      <td>0.159309</td>\n",
       "      <td>0.790513</td>\n",
       "      <td>0.785029</td>\n",
       "      <td>0.590622</td>\n",
       "      <td>0.491637</td>\n",
       "      <td>0.192487</td>\n",
       "      <td>1.899644</td>\n",
       "      <td>0.361667</td>\n",
       "      <td>0.240197</td>\n",
       "      <td>0.398135</td>\n",
       "      <td>0.577461</td>\n",
       "      <td>0.422539</td>\n",
       "    </tr>\n",
       "    <tr>\n",
       "      <th>std</th>\n",
       "      <td>0.500055</td>\n",
       "      <td>0.499506</td>\n",
       "      <td>11.071830</td>\n",
       "      <td>1.237863</td>\n",
       "      <td>3.218161</td>\n",
       "      <td>8.674988</td>\n",
       "      <td>8.170603</td>\n",
       "      <td>5.325709</td>\n",
       "      <td>3.310602</td>\n",
       "      <td>6.626201</td>\n",
       "      <td>3.764007</td>\n",
       "      <td>1.982513</td>\n",
       "      <td>0.492333</td>\n",
       "      <td>0.283359</td>\n",
       "      <td>0.366014</td>\n",
       "      <td>0.406998</td>\n",
       "      <td>0.410859</td>\n",
       "      <td>0.491786</td>\n",
       "      <td>0.499999</td>\n",
       "      <td>0.394307</td>\n",
       "      <td>0.942573</td>\n",
       "      <td>0.480549</td>\n",
       "      <td>0.427262</td>\n",
       "      <td>0.489581</td>\n",
       "      <td>0.494031</td>\n",
       "      <td>0.494031</td>\n",
       "    </tr>\n",
       "    <tr>\n",
       "      <th>min</th>\n",
       "      <td>0.000000</td>\n",
       "      <td>0.000000</td>\n",
       "      <td>6.000000</td>\n",
       "      <td>2012.000000</td>\n",
       "      <td>1.000000</td>\n",
       "      <td>1.000000</td>\n",
       "      <td>0.000000</td>\n",
       "      <td>0.000000</td>\n",
       "      <td>0.000000</td>\n",
       "      <td>0.000000</td>\n",
       "      <td>0.000000</td>\n",
       "      <td>0.000000</td>\n",
       "      <td>0.000000</td>\n",
       "      <td>0.000000</td>\n",
       "      <td>0.000000</td>\n",
       "      <td>0.000000</td>\n",
       "      <td>0.000000</td>\n",
       "      <td>0.000000</td>\n",
       "      <td>0.000000</td>\n",
       "      <td>0.000000</td>\n",
       "      <td>0.000000</td>\n",
       "      <td>0.000000</td>\n",
       "      <td>0.000000</td>\n",
       "      <td>0.000000</td>\n",
       "      <td>0.000000</td>\n",
       "      <td>0.000000</td>\n",
       "    </tr>\n",
       "    <tr>\n",
       "      <th>25%</th>\n",
       "      <td>0.000000</td>\n",
       "      <td>0.000000</td>\n",
       "      <td>33.000000</td>\n",
       "      <td>2012.000000</td>\n",
       "      <td>4.000000</td>\n",
       "      <td>9.000000</td>\n",
       "      <td>3.000000</td>\n",
       "      <td>4.000000</td>\n",
       "      <td>4.000000</td>\n",
       "      <td>6.000000</td>\n",
       "      <td>1.666667</td>\n",
       "      <td>0.555556</td>\n",
       "      <td>0.000000</td>\n",
       "      <td>0.000000</td>\n",
       "      <td>0.000000</td>\n",
       "      <td>1.000000</td>\n",
       "      <td>1.000000</td>\n",
       "      <td>0.000000</td>\n",
       "      <td>0.000000</td>\n",
       "      <td>0.000000</td>\n",
       "      <td>2.000000</td>\n",
       "      <td>0.000000</td>\n",
       "      <td>0.000000</td>\n",
       "      <td>0.000000</td>\n",
       "      <td>0.000000</td>\n",
       "      <td>0.000000</td>\n",
       "    </tr>\n",
       "    <tr>\n",
       "      <th>50%</th>\n",
       "      <td>0.000000</td>\n",
       "      <td>1.000000</td>\n",
       "      <td>39.000000</td>\n",
       "      <td>2013.000000</td>\n",
       "      <td>6.000000</td>\n",
       "      <td>16.000000</td>\n",
       "      <td>15.000000</td>\n",
       "      <td>7.000000</td>\n",
       "      <td>7.000000</td>\n",
       "      <td>11.000000</td>\n",
       "      <td>2.750000</td>\n",
       "      <td>1.000000</td>\n",
       "      <td>1.000000</td>\n",
       "      <td>0.000000</td>\n",
       "      <td>0.000000</td>\n",
       "      <td>1.000000</td>\n",
       "      <td>1.000000</td>\n",
       "      <td>1.000000</td>\n",
       "      <td>0.000000</td>\n",
       "      <td>0.000000</td>\n",
       "      <td>2.000000</td>\n",
       "      <td>0.000000</td>\n",
       "      <td>0.000000</td>\n",
       "      <td>0.000000</td>\n",
       "      <td>1.000000</td>\n",
       "      <td>0.000000</td>\n",
       "    </tr>\n",
       "    <tr>\n",
       "      <th>75%</th>\n",
       "      <td>1.000000</td>\n",
       "      <td>1.000000</td>\n",
       "      <td>47.000000</td>\n",
       "      <td>2014.000000</td>\n",
       "      <td>9.000000</td>\n",
       "      <td>23.000000</td>\n",
       "      <td>20.000000</td>\n",
       "      <td>11.000000</td>\n",
       "      <td>9.000000</td>\n",
       "      <td>16.000000</td>\n",
       "      <td>4.571429</td>\n",
       "      <td>2.000000</td>\n",
       "      <td>1.000000</td>\n",
       "      <td>0.000000</td>\n",
       "      <td>0.000000</td>\n",
       "      <td>1.000000</td>\n",
       "      <td>1.000000</td>\n",
       "      <td>1.000000</td>\n",
       "      <td>1.000000</td>\n",
       "      <td>0.000000</td>\n",
       "      <td>2.000000</td>\n",
       "      <td>1.000000</td>\n",
       "      <td>0.000000</td>\n",
       "      <td>1.000000</td>\n",
       "      <td>1.000000</td>\n",
       "      <td>1.000000</td>\n",
       "    </tr>\n",
       "    <tr>\n",
       "      <th>max</th>\n",
       "      <td>1.000000</td>\n",
       "      <td>1.000000</td>\n",
       "      <td>85.000000</td>\n",
       "      <td>2017.000000</td>\n",
       "      <td>12.000000</td>\n",
       "      <td>31.000000</td>\n",
       "      <td>23.000000</td>\n",
       "      <td>34.000000</td>\n",
       "      <td>19.000000</td>\n",
       "      <td>43.000000</td>\n",
       "      <td>41.000000</td>\n",
       "      <td>31.000000</td>\n",
       "      <td>1.000000</td>\n",
       "      <td>1.000000</td>\n",
       "      <td>1.000000</td>\n",
       "      <td>1.000000</td>\n",
       "      <td>1.000000</td>\n",
       "      <td>1.000000</td>\n",
       "      <td>1.000000</td>\n",
       "      <td>1.000000</td>\n",
       "      <td>8.000000</td>\n",
       "      <td>1.000000</td>\n",
       "      <td>1.000000</td>\n",
       "      <td>1.000000</td>\n",
       "      <td>1.000000</td>\n",
       "      <td>1.000000</td>\n",
       "    </tr>\n",
       "  </tbody>\n",
       "</table>\n",
       "</div>"
      ],
      "text/plain": [
       "            result  radiant_win     duration         year        month  \\\n",
       "count  3647.000000  3647.000000  3647.000000  3647.000000  3647.000000   \n",
       "mean      0.496298     0.523718    39.826707  2013.424184     6.644091   \n",
       "std       0.500055     0.499506    11.071830     1.237863     3.218161   \n",
       "min       0.000000     0.000000     6.000000  2012.000000     1.000000   \n",
       "25%       0.000000     0.000000    33.000000  2012.000000     4.000000   \n",
       "50%       0.000000     1.000000    39.000000  2013.000000     6.000000   \n",
       "75%       1.000000     1.000000    47.000000  2014.000000     9.000000   \n",
       "max       1.000000     1.000000    85.000000  2017.000000    12.000000   \n",
       "\n",
       "               day         hour        kills       deaths      assists  \\\n",
       "count  3647.000000  3647.000000  3647.000000  3647.000000  3647.000000   \n",
       "mean     15.742528    12.825884     8.040033     6.874417    11.526186   \n",
       "std       8.674988     8.170603     5.325709     3.310602     6.626201   \n",
       "min       1.000000     0.000000     0.000000     0.000000     0.000000   \n",
       "25%       9.000000     3.000000     4.000000     4.000000     6.000000   \n",
       "50%      16.000000    15.000000     7.000000     7.000000    11.000000   \n",
       "75%      23.000000    20.000000    11.000000     9.000000    16.000000   \n",
       "max      31.000000    23.000000    34.000000    19.000000    43.000000   \n",
       "\n",
       "               kda          kdr        carry      jungler       pusher  \\\n",
       "count  3647.000000  3647.000000  3647.000000  3647.000000  3647.000000   \n",
       "mean      3.797090     1.628019     0.587606     0.088018     0.159309   \n",
       "std       3.764007     1.982513     0.492333     0.283359     0.366014   \n",
       "min       0.000000     0.000000     0.000000     0.000000     0.000000   \n",
       "25%       1.666667     0.555556     0.000000     0.000000     0.000000   \n",
       "50%       2.750000     1.000000     1.000000     0.000000     0.000000   \n",
       "75%       4.571429     2.000000     1.000000     0.000000     0.000000   \n",
       "max      41.000000    31.000000     1.000000     1.000000     1.000000   \n",
       "\n",
       "             nuker     disabler    initiator      durable      support  \\\n",
       "count  3647.000000  3647.000000  3647.000000  3647.000000  3647.000000   \n",
       "mean      0.790513     0.785029     0.590622     0.491637     0.192487   \n",
       "std       0.406998     0.410859     0.491786     0.499999     0.394307   \n",
       "min       0.000000     0.000000     0.000000     0.000000     0.000000   \n",
       "25%       1.000000     1.000000     0.000000     0.000000     0.000000   \n",
       "50%       1.000000     1.000000     1.000000     0.000000     0.000000   \n",
       "75%       1.000000     1.000000     1.000000     1.000000     0.000000   \n",
       "max       1.000000     1.000000     1.000000     1.000000     1.000000   \n",
       "\n",
       "              legs          agi          int          str        Melee  \\\n",
       "count  3647.000000  3647.000000  3647.000000  3647.000000  3647.000000   \n",
       "mean      1.899644     0.361667     0.240197     0.398135     0.577461   \n",
       "std       0.942573     0.480549     0.427262     0.489581     0.494031   \n",
       "min       0.000000     0.000000     0.000000     0.000000     0.000000   \n",
       "25%       2.000000     0.000000     0.000000     0.000000     0.000000   \n",
       "50%       2.000000     0.000000     0.000000     0.000000     1.000000   \n",
       "75%       2.000000     1.000000     0.000000     1.000000     1.000000   \n",
       "max       8.000000     1.000000     1.000000     1.000000     1.000000   \n",
       "\n",
       "            Ranged  \n",
       "count  3647.000000  \n",
       "mean      0.422539  \n",
       "std       0.494031  \n",
       "min       0.000000  \n",
       "25%       0.000000  \n",
       "50%       0.000000  \n",
       "75%       1.000000  \n",
       "max       1.000000  "
      ]
     },
     "execution_count": 22,
     "metadata": {},
     "output_type": "execute_result"
    }
   ],
   "source": [
    "data.describe()"
   ]
  },
  {
   "cell_type": "markdown",
   "metadata": {},
   "source": [
    "**Duration**:\n",
    "- Most games last between 33 and 47 minutes, with a median of 39 minutes. If the game is trash, you're trapped for the better half of an hour.\n",
    "- Shortest game was 6 minutes (someone disconnects after firstblood and the rest of their team leaves), longest game was 1 hour 25 minutes. Did I win that game?"
   ]
  },
  {
   "cell_type": "code",
   "execution_count": 23,
   "metadata": {
    "collapsed": false
   },
   "outputs": [
    {
     "data": {
      "text/plain": [
       "122    0\n",
       "Name: result, dtype: int64"
      ]
     },
     "execution_count": 23,
     "metadata": {},
     "output_type": "execute_result"
    }
   ],
   "source": [
    "data.loc[data['duration'] == 85]['result']"
   ]
  },
  {
   "cell_type": "markdown",
   "metadata": {},
   "source": [
    "Damn; that's what you call a tough loss.\n",
    "\n",
    "**Kills/Deaths/Assists/KDR/KDA**\n",
    "- Average 8.04 kills per match, 6.87 deaths, 11.53 assists. The median, not as affected by outliers, gives what I consider to be a more typical representation: 7 kills, 7 deaths, 11 assists. The standard deviations for kills and assists are wide compared to the medians, while the standard deviation for death is a bit smaller. This means that there is a greater amount of variance in the kills I get per match, but I generally average pretty close to 7 deaths.\n",
    "\n",
    "\n",
    "- Max kills: 35. Max deaths: 19.\n",
    "\n",
    "\n",
    "- KDR and KDA naturally follow the ratios given for kills, deaths, and assists. Mean KDA: 3.79, Mean KDR: 1.63. Median KDA: 2.75, Median KDR: 1. Across all my games, the balanced median for KDR makes sense. The thing about DotA is, if you're losing, you're often getting wiped - getting wrecked by the other team and dying a lot. On the flip side, when you're winning, your KDA and KDR ratios will be pretty high (although not so much for KDR if you're a support). To demonstrate this, let's partition the data into wins and losses and examine the median KDRs and KDAs."
   ]
  },
  {
   "cell_type": "code",
   "execution_count": 24,
   "metadata": {
    "collapsed": false
   },
   "outputs": [
    {
     "name": "stdout",
     "output_type": "stream",
     "text": [
      "Win kdr : 1.775\n",
      "Loss kdr : 0.6666666666666666\n",
      "Win kda : 4.333333333333333\n",
      "Loss kda : 1.75\n"
     ]
    }
   ],
   "source": [
    "wins = data[data['result'] == 1]\n",
    "losses = data[data['result'] == 0]\n",
    "\n",
    "attrs = ['kdr', 'kda']\n",
    "for a in attrs:\n",
    "    print('Win', a, ':', wins[a].median())\n",
    "    print('Loss', a, ':', losses[a].median())"
   ]
  },
  {
   "cell_type": "markdown",
   "metadata": {},
   "source": [
    "The majority of kills and deaths in DotA will largely occur as a result of teamfights in the mid to late game; where either one team (or both) have reached enough strength to make concentrated pushes towards the enemy's ancient. The outcome of these teamfights can have a pretty major impact on the momentum of the match, which will translate into the number of kills and deaths each player has. If you're winning the game, you're winning teamfights and slaying the other team. When you're losing... you're getting slayed. This is reflected pretty well in the ratios.\n",
    "\n",
    "Let's examine the matches where I *definitely* slayed: the upper kill outlier matches (30+ kills):"
   ]
  },
  {
   "cell_type": "code",
   "execution_count": 25,
   "metadata": {
    "collapsed": false,
    "scrolled": false
   },
   "outputs": [
    {
     "data": {
      "text/html": [
       "<div>\n",
       "<table border=\"1\" class=\"dataframe\">\n",
       "  <thead>\n",
       "    <tr style=\"text-align: right;\">\n",
       "      <th></th>\n",
       "      <th>result</th>\n",
       "      <th>radiant_win</th>\n",
       "      <th>duration</th>\n",
       "      <th>year</th>\n",
       "      <th>month</th>\n",
       "      <th>day</th>\n",
       "      <th>hour</th>\n",
       "      <th>hero</th>\n",
       "      <th>kills</th>\n",
       "      <th>deaths</th>\n",
       "      <th>assists</th>\n",
       "      <th>primary_attr</th>\n",
       "      <th>kda</th>\n",
       "      <th>kdr</th>\n",
       "      <th>attack_type</th>\n",
       "      <th>carry</th>\n",
       "      <th>jungler</th>\n",
       "      <th>pusher</th>\n",
       "      <th>nuker</th>\n",
       "      <th>disabler</th>\n",
       "      <th>initiator</th>\n",
       "      <th>durable</th>\n",
       "      <th>support</th>\n",
       "      <th>legs</th>\n",
       "      <th>agi</th>\n",
       "      <th>int</th>\n",
       "      <th>str</th>\n",
       "      <th>Melee</th>\n",
       "      <th>Ranged</th>\n",
       "    </tr>\n",
       "  </thead>\n",
       "  <tbody>\n",
       "    <tr>\n",
       "      <th>1701</th>\n",
       "      <td>1</td>\n",
       "      <td>1</td>\n",
       "      <td>60.0</td>\n",
       "      <td>2013</td>\n",
       "      <td>9</td>\n",
       "      <td>26</td>\n",
       "      <td>0</td>\n",
       "      <td>Outworld Devourer</td>\n",
       "      <td>34</td>\n",
       "      <td>7</td>\n",
       "      <td>21</td>\n",
       "      <td>int</td>\n",
       "      <td>7.857143</td>\n",
       "      <td>4.857143</td>\n",
       "      <td>Ranged</td>\n",
       "      <td>1</td>\n",
       "      <td>0</td>\n",
       "      <td>0</td>\n",
       "      <td>1</td>\n",
       "      <td>1</td>\n",
       "      <td>0</td>\n",
       "      <td>0</td>\n",
       "      <td>0</td>\n",
       "      <td>4</td>\n",
       "      <td>0</td>\n",
       "      <td>1</td>\n",
       "      <td>0</td>\n",
       "      <td>0</td>\n",
       "      <td>1</td>\n",
       "    </tr>\n",
       "    <tr>\n",
       "      <th>2145</th>\n",
       "      <td>1</td>\n",
       "      <td>1</td>\n",
       "      <td>30.0</td>\n",
       "      <td>2014</td>\n",
       "      <td>1</td>\n",
       "      <td>30</td>\n",
       "      <td>15</td>\n",
       "      <td>Ember Spirit</td>\n",
       "      <td>31</td>\n",
       "      <td>1</td>\n",
       "      <td>10</td>\n",
       "      <td>agi</td>\n",
       "      <td>41.000000</td>\n",
       "      <td>31.000000</td>\n",
       "      <td>Melee</td>\n",
       "      <td>1</td>\n",
       "      <td>0</td>\n",
       "      <td>0</td>\n",
       "      <td>1</td>\n",
       "      <td>1</td>\n",
       "      <td>1</td>\n",
       "      <td>0</td>\n",
       "      <td>0</td>\n",
       "      <td>2</td>\n",
       "      <td>1</td>\n",
       "      <td>0</td>\n",
       "      <td>0</td>\n",
       "      <td>1</td>\n",
       "      <td>0</td>\n",
       "    </tr>\n",
       "    <tr>\n",
       "      <th>2214</th>\n",
       "      <td>1</td>\n",
       "      <td>0</td>\n",
       "      <td>53.0</td>\n",
       "      <td>2014</td>\n",
       "      <td>2</td>\n",
       "      <td>19</td>\n",
       "      <td>14</td>\n",
       "      <td>Ember Spirit</td>\n",
       "      <td>34</td>\n",
       "      <td>8</td>\n",
       "      <td>14</td>\n",
       "      <td>agi</td>\n",
       "      <td>6.000000</td>\n",
       "      <td>4.250000</td>\n",
       "      <td>Melee</td>\n",
       "      <td>1</td>\n",
       "      <td>0</td>\n",
       "      <td>0</td>\n",
       "      <td>1</td>\n",
       "      <td>1</td>\n",
       "      <td>1</td>\n",
       "      <td>0</td>\n",
       "      <td>0</td>\n",
       "      <td>2</td>\n",
       "      <td>1</td>\n",
       "      <td>0</td>\n",
       "      <td>0</td>\n",
       "      <td>1</td>\n",
       "      <td>0</td>\n",
       "    </tr>\n",
       "    <tr>\n",
       "      <th>2431</th>\n",
       "      <td>1</td>\n",
       "      <td>0</td>\n",
       "      <td>50.0</td>\n",
       "      <td>2014</td>\n",
       "      <td>5</td>\n",
       "      <td>11</td>\n",
       "      <td>2</td>\n",
       "      <td>Shadow Fiend</td>\n",
       "      <td>32</td>\n",
       "      <td>5</td>\n",
       "      <td>12</td>\n",
       "      <td>agi</td>\n",
       "      <td>8.800000</td>\n",
       "      <td>6.400000</td>\n",
       "      <td>Ranged</td>\n",
       "      <td>1</td>\n",
       "      <td>0</td>\n",
       "      <td>0</td>\n",
       "      <td>1</td>\n",
       "      <td>0</td>\n",
       "      <td>0</td>\n",
       "      <td>0</td>\n",
       "      <td>0</td>\n",
       "      <td>0</td>\n",
       "      <td>1</td>\n",
       "      <td>0</td>\n",
       "      <td>0</td>\n",
       "      <td>0</td>\n",
       "      <td>1</td>\n",
       "    </tr>\n",
       "  </tbody>\n",
       "</table>\n",
       "</div>"
      ],
      "text/plain": [
       "      result  radiant_win  duration  year  month  day  hour  \\\n",
       "1701       1            1      60.0  2013      9   26     0   \n",
       "2145       1            1      30.0  2014      1   30    15   \n",
       "2214       1            0      53.0  2014      2   19    14   \n",
       "2431       1            0      50.0  2014      5   11     2   \n",
       "\n",
       "                   hero  kills  deaths  assists primary_attr        kda  \\\n",
       "1701  Outworld Devourer     34       7       21          int   7.857143   \n",
       "2145       Ember Spirit     31       1       10          agi  41.000000   \n",
       "2214       Ember Spirit     34       8       14          agi   6.000000   \n",
       "2431       Shadow Fiend     32       5       12          agi   8.800000   \n",
       "\n",
       "            kdr attack_type  carry  jungler  pusher  nuker  disabler  \\\n",
       "1701   4.857143      Ranged      1        0       0      1         1   \n",
       "2145  31.000000       Melee      1        0       0      1         1   \n",
       "2214   4.250000       Melee      1        0       0      1         1   \n",
       "2431   6.400000      Ranged      1        0       0      1         0   \n",
       "\n",
       "      initiator  durable  support  legs  agi  int  str  Melee  Ranged  \n",
       "1701          0        0        0     4    0    1    0      0       1  \n",
       "2145          1        0        0     2    1    0    0      1       0  \n",
       "2214          1        0        0     2    1    0    0      1       0  \n",
       "2431          0        0        0     0    1    0    0      0       1  "
      ]
     },
     "execution_count": 25,
     "metadata": {},
     "output_type": "execute_result"
    }
   ],
   "source": [
    "data[data['kills'] > 30]"
   ]
  },
  {
   "cell_type": "markdown",
   "metadata": {},
   "source": [
    "A couple things to notice here. First, all wins - your team has to be from a whole other dimension of suck to lose when you're doing this well. Second, all these heroes are carries and nukers. Third, the hero Ember Spirit accounts for half of this set. We'll explore heroes and hero roles shortly."
   ]
  },
  {
   "cell_type": "markdown",
   "metadata": {},
   "source": [
    "### Variable Correlation"
   ]
  },
  {
   "cell_type": "markdown",
   "metadata": {},
   "source": [
    "A way to get a great overview of the variables in the dataset, and see which ones are particularly important, is to make a correlation matrix. This will show us which variables are positively and negatively correlated. If variable A is positively correlated with variable B, when A goes up, so does B. A negatively correlation would be when A goes down, B goes up."
   ]
  },
  {
   "cell_type": "code",
   "execution_count": 26,
   "metadata": {
    "collapsed": false
   },
   "outputs": [],
   "source": [
    "match_corr = data.corr()"
   ]
  },
  {
   "cell_type": "code",
   "execution_count": 27,
   "metadata": {
    "collapsed": true
   },
   "outputs": [],
   "source": [
    "import seaborn as sns"
   ]
  },
  {
   "cell_type": "code",
   "execution_count": 28,
   "metadata": {
    "collapsed": false,
    "scrolled": false
   },
   "outputs": [
    {
     "data": {
      "text/plain": [
       "<matplotlib.text.Text at 0x1d96e896f28>"
      ]
     },
     "execution_count": 28,
     "metadata": {},
     "output_type": "execute_result"
    },
    {
     "data": {
      "image/png": "[encoded data removed]",
      "text/plain": [
       "<matplotlib.figure.Figure at 0x1d96e865b70>"
      ]
     },
     "metadata": {},
     "output_type": "display_data"
    }
   ],
   "source": [
    "plt.figure(figsize=(12,12))\n",
    "sns.heatmap(match_corr, vmax=1, square=True)\n",
    "plt.title('Correlation Matrix of Match Variables')"
   ]
  },
  {
   "cell_type": "markdown",
   "metadata": {},
   "source": [
    "The hotter a square looks, the more positively correlated its row/column variables are. The colder, the more negatively correlated.\n",
    "- Some variables have very obvious correlations. For example, the correlation between Melee and Ranged attack types is -1; you can only be one or the other. KDR and KDA have a very strong positve correlation, because they're both derived from largely the same variables (kills and deaths).\n",
    "\n",
    "\n",
    "- The duration of the game has positive correlations with kills, deaths, and assists. This intuitively makes sense; longer games mean more time spent fighting, killing, and dying. What's most interesting is that duration is more strongly correlated with deaths than kills. This would suggest that in longer games, I'm more likely to die more than kill more.\n",
    "\n",
    "\n",
    "- That being said, there's no substantive correlation between duration and match result. Result shows moderate positve correlations with kills, deaths, KDR, and KDA. The strongest correlation is with KDA, showing that its more important to have a higher KDA than it is to have a higher KDR if you want to win. The only difference between the two metrics is assists, showing that the more you can help your teammates get kills, the more likely your team is to win. Playing with the team is more effective than being a lone wolf - shocking!\n",
    "\n",
    "\n",
    "- Hero roles, attributes, and attack types are correlated (more on all these things soon to come). Strength heroes are postively correlated with being melee and durable. Intelligence heroes are positively correlated with being supports and ranged (and are negatively correlated with being durable). Agility heroes have a moderate positve correlation with being carries, but don't have any correlations with either attack type."
   ]
  },
  {
   "cell_type": "markdown",
   "metadata": {},
   "source": [
    "### Hero Stats"
   ]
  },
  {
   "cell_type": "markdown",
   "metadata": {},
   "source": [
    "In Dota 2, every player controls a unique hero character. How well you can play your chosen hero, and how well it fits into your team's lineup, are crucial factors in winning a match. In this section I'll examine which heroes I played the most, and had the best W/L, KDR, and KDA ratios with. At the time of writing this, there are currently 113 heroes to pick from in Dota 2. "
   ]
  },
  {
   "cell_type": "code",
   "execution_count": 29,
   "metadata": {
    "collapsed": false,
    "scrolled": true
   },
   "outputs": [
    {
     "name": "stdout",
     "output_type": "stream",
     "text": [
      "I've played 100 out of 113 total heroes atleast once, or 88.0% of the total roster.\n"
     ]
    }
   ],
   "source": [
    "total_hero_pool = len(hero_data)\n",
    "ive_played = len(data['hero'].unique())\n",
    "ive_played_pct = round(ive_played/total_hero_pool, 2) * 100\n",
    "print(\"I've played {} out of {} total heroes atleast once, or {}% of the total roster.\".format(ive_played,\n",
    "                                                                                               total_hero_pool,\n",
    "                                                                                               ive_played_pct))"
   ]
  },
  {
   "cell_type": "markdown",
   "metadata": {},
   "source": [
    "Although I've played 88% of all total heroes in the game, I haven't played them all in equal amounts. Because of this, it makes the most sense to pay attention to the ratios with heroes I've played a significant amount of times. To illustrate this point, let's look at the top 5 heroes I have the highest W/L ratios with:"
   ]
  },
  {
   "cell_type": "code",
   "execution_count": 30,
   "metadata": {
    "collapsed": false
   },
   "outputs": [
    {
     "data": {
      "text/plain": [
       "<matplotlib.text.Text at 0x1d96e3c0b38>"
      ]
     },
     "execution_count": 30,
     "metadata": {},
     "output_type": "execute_result"
    },
    {
     "data": {
      "image/png": "[encoded data removed]",
      "text/plain": [
       "<matplotlib.figure.Figure at 0x1d96e7fbf60>"
      ]
     },
     "metadata": {},
     "output_type": "display_data"
    }
   ],
   "source": [
    "# Top 5 W/L ratios\n",
    "plt.figure(figsize=(18,8))\n",
    "hero = data.groupby('hero')\n",
    "hero_winloss = hero['result'].mean().sort_values(ascending=False)\n",
    "top5_winloss = hero_winloss[:5]\n",
    "sns.barplot(x=top5_winloss, y=top5_winloss.index)\n",
    "plt.xlabel('Win Loss Ratio')"
   ]
  },
  {
   "cell_type": "markdown",
   "metadata": {},
   "source": [
    "A perfect W/L ratio with Abaddon, and over 70% ratio with the other four. But how often have I played each one?"
   ]
  },
  {
   "cell_type": "code",
   "execution_count": 31,
   "metadata": {
    "collapsed": false
   },
   "outputs": [
    {
     "name": "stdout",
     "output_type": "stream",
     "text": [
      "I've played Abaddon 3 times, or 0.1% of my total games.\n",
      "I've played Naga Siren 7 times, or 0.2% of my total games.\n",
      "I've played Crystal Maiden 4 times, or 0.1% of my total games.\n",
      "I've played Tinker 8 times, or 0.2% of my total games.\n",
      "I've played Centaur Warrunner 4 times, or 0.1% of my total games.\n"
     ]
    }
   ],
   "source": [
    "for hero in top5_winloss.index:\n",
    "    times_played = len(data[data['hero'] == hero])\n",
    "    times_played_pct = round(times_played / total_games, 3) * 100\n",
    "    print(\"I've played {} {} times, or {}% of my total games.\".format(hero, times_played, times_played_pct))"
   ]
  },
  {
   "cell_type": "markdown",
   "metadata": {},
   "source": [
    "Clearly, I'll have to sort by the number of times I've played each hero to get meaningful conclusions. For the purposes of this analysis, lets focus on the 30 heroes I've played the most."
   ]
  },
  {
   "cell_type": "code",
   "execution_count": 32,
   "metadata": {
    "collapsed": false,
    "scrolled": false
   },
   "outputs": [],
   "source": [
    "hero_mostplayed30 = data['hero'].value_counts()[:30]\n",
    "mostplayed30_winloss = hero_winloss[hero_mostplayed30.index]"
   ]
  },
  {
   "cell_type": "code",
   "execution_count": 33,
   "metadata": {
    "collapsed": false,
    "scrolled": true
   },
   "outputs": [
    {
     "name": "stdout",
     "output_type": "stream",
     "text": [
      "The top 30 heroes account for 73.62% of my total games.\n"
     ]
    }
   ],
   "source": [
    "total_hero_pct = 0\n",
    "for num_games in hero_mostplayed30:\n",
    "    pct = (num_games/total_games) * 100\n",
    "    total_hero_pct += pct\n",
    "print('The top 30 heroes account for {}% of my total games.'.format(round(total_hero_pct, 2)))"
   ]
  },
  {
   "cell_type": "markdown",
   "metadata": {},
   "source": [
    "These 30 heroes cover a good majority of my total games, so I'm comfortable leaving out the remaining 83. Let's start by looking at the top 30 heroes and their W/L ratios:"
   ]
  },
  {
   "cell_type": "code",
   "execution_count": 34,
   "metadata": {
    "collapsed": false,
    "scrolled": false
   },
   "outputs": [
    {
     "data": {
      "text/plain": [
       "<matplotlib.text.Text at 0x1d96dc64518>"
      ]
     },
     "execution_count": 34,
     "metadata": {},
     "output_type": "execute_result"
    },
    {
     "data": {
      "image/png": "[encoded data removed]",
      "text/plain": [
       "<matplotlib.figure.Figure at 0x1d96e422b00>"
      ]
     },
     "metadata": {},
     "output_type": "display_data"
    }
   ],
   "source": [
    "plt.figure(figsize=(18,8))\n",
    "\n",
    "plt.subplot(1, 2, 1)\n",
    "sns.barplot(x=hero_mostplayed30, y=hero_mostplayed30.index)\n",
    "plt.title('Top 30 Most Played Heroes')\n",
    "plt.xlabel('Games Played')\n",
    "\n",
    "plt.subplot(1, 2, 2)\n",
    "sns.barplot(x=mostplayed30_winloss, y=hero_mostplayed30.index)\n",
    "plt.title('W/L Ratios for Top 30 Most Played Heroes')\n",
    "plt.xlabel('W/L Ratio')"
   ]
  },
  {
   "cell_type": "markdown",
   "metadata": {},
   "source": [
    "- My top 6 played heroes are Ember Spirit, Earth Spirit, Pudge, Brewmaster, Kunkka, and Rubick. I've played each of these heroes over 150 times!"
   ]
  },
  {
   "cell_type": "code",
   "execution_count": 35,
   "metadata": {
    "collapsed": false
   },
   "outputs": [
    {
     "name": "stdout",
     "output_type": "stream",
     "text": [
      "Top 6 W/L Ratios\n",
      "----------------\n",
      "Ember Spirit 0.567\n",
      "Earth Spirit 0.526\n",
      "Pudge 0.491\n",
      "Brewmaster 0.553\n",
      "Kunkka 0.459\n",
      "Rubick 0.573\n"
     ]
    }
   ],
   "source": [
    "print('Top 6 W/L Ratios')\n",
    "print('----------------')\n",
    "for hero in mostplayed30_winloss.index[:6]:\n",
    "    print(hero, round(mostplayed30_winloss[hero],3))"
   ]
  },
  {
   "cell_type": "markdown",
   "metadata": {},
   "source": [
    "- 4 of these top 6 heroes are strength heroes, all with strong nuking, disabling, and initiating capabilities.\n",
    "\n",
    "\n",
    "- Despite being played over 150 times each, Pudge and Kunkka both have W/L ratios lower than 0.5; I'm more likely to lose games playing as these heroes. Ember Spirit and Rubick have the highest W/L ratios with 0.567 and 0.573 respectively.\n",
    "\n",
    "\n",
    "- Of my 30 most played heroes, Faceless Void blows everyone else's W/L ratios out of the water, scoring ~0.75. This is roughly 30% higher than the highest ratio in my top 6 heroes! However, given how much less I've played Void compared to any of these heroes, it's unlikely that I'm really much more likely to win with Void. I would imagine that playing more games would bring FV's W/L closer to those in the top 6.\n",
    "\n",
    "Next, let's take a look at the KDR and KDA ratios of the top 30. For this portion of the Hero Analysis, I'm going to focus on the median values for these variables. In the numerical distributions section of the analysis, the boxplots showed a lot of upper-end outliers for kills and assists. I'm interested in the typical KDA and KDR performances for my top 30 heroes across the many games I've played, so using the median instead of the mean will give me numbers that are more resistant to these outlier matches."
   ]
  },
  {
   "cell_type": "code",
   "execution_count": 36,
   "metadata": {
    "collapsed": false
   },
   "outputs": [],
   "source": [
    "mostplayed30_kdr = data.groupby('hero')['kdr'].median()[hero_mostplayed30.index]\n",
    "mostplayed30_kda = data.groupby('hero')['kda'].median()[hero_mostplayed30.index]"
   ]
  },
  {
   "cell_type": "code",
   "execution_count": 37,
   "metadata": {
    "collapsed": false,
    "scrolled": false
   },
   "outputs": [
    {
     "data": {
      "text/plain": [
       "<matplotlib.text.Text at 0x1d96e57f898>"
      ]
     },
     "execution_count": 37,
     "metadata": {},
     "output_type": "execute_result"
    },
    {
     "data": {
      "image/png": "[encoded data removed]",
      "text/plain": [
       "<matplotlib.figure.Figure at 0x1d96da01588>"
      ]
     },
     "metadata": {},
     "output_type": "display_data"
    }
   ],
   "source": [
    "plt.figure(figsize=(18,8))\n",
    "\n",
    "plt.subplot(1, 2, 1)\n",
    "sns.barplot(x=mostplayed30_kdr, y=hero_mostplayed30.index)\n",
    "plt.title('Kill Death Ratios for Top 30 Most Played Heroes')\n",
    "plt.xlabel('KDR')\n",
    "\n",
    "plt.subplot(1, 2, 2)\n",
    "sns.barplot(x=mostplayed30_kda, y=hero_mostplayed30.index)\n",
    "plt.title('KDA Ratios for Top 30 Most Played Heroes')\n",
    "plt.xlabel('KDA')"
   ]
  },
  {
   "cell_type": "code",
   "execution_count": 38,
   "metadata": {
    "collapsed": false
   },
   "outputs": [
    {
     "name": "stdout",
     "output_type": "stream",
     "text": [
      "Brewmaster KDA: 4.16666666667\n",
      "Storm Spirit KDA: 3.33333333333\n"
     ]
    }
   ],
   "source": [
    "print('Brewmaster KDA:', mostplayed30_kda['Brewmaster'])\n",
    "print('Storm Spirit KDA:', mostplayed30_kda['Storm Spirit'])"
   ]
  },
  {
   "cell_type": "markdown",
   "metadata": {},
   "source": [
    "- Ember Spirit, my most played hero, has both very high KDR and KDA ratios, as well as a relatively high W/L.\n",
    "\n",
    "\n",
    "- Brewmaster, my fourth most played hero, has the highest KDA in the top 30. Also has a pretty good W/L too! \n",
    "\n",
    "\n",
    "- Large differences between heroes' KDRs and KDAs can provide evidence about their general playstyles. For example, both Templar Assassin and Phantom Assassin have much higher KDRs than KDAs; this would suggest that more of the action they see is in solo engagements where they're hunting down enemy players - ya know, doing assassin things - without the rest of the team (resulting in less assists). Heroes like Enigma, Puck, and Medusa have abilities that are more oriented towards teamfights, hence the higher KDAs (more assists)."
   ]
  },
  {
   "cell_type": "markdown",
   "metadata": {},
   "source": [
    "Let's not get too hung up on the positives - which heroes in the top 30 do I die the most as? In DotA, the term used for excessively dying is \"feeding\", as with each death you help the enemy team grow stronger with gold and experience points. You don't want to be a feeder."
   ]
  },
  {
   "cell_type": "code",
   "execution_count": 39,
   "metadata": {
    "collapsed": false
   },
   "outputs": [
    {
     "data": {
      "text/plain": [
       "<matplotlib.text.Text at 0x1d96f532518>"
      ]
     },
     "execution_count": 39,
     "metadata": {},
     "output_type": "execute_result"
    },
    {
     "data": {
      "image/png": "[encoded data removed]",
      "text/plain": [
       "<matplotlib.figure.Figure at 0x1d96da11080>"
      ]
     },
     "metadata": {},
     "output_type": "display_data"
    }
   ],
   "source": [
    "mostplayed30_deaths = data.groupby('hero')['deaths'].median()[hero_mostplayed30.index]\n",
    "\n",
    "plt.figure(figsize=(18,8))\n",
    "sns.barplot(x=mostplayed30_deaths, y=hero_mostplayed30.index)\n",
    "plt.title('Average Number of Deaths for the Top 30 Most Played Heroes')\n",
    "plt.xlabel('Avg. Number of Deaths per Match')"
   ]
  },
  {
   "cell_type": "markdown",
   "metadata": {},
   "source": [
    "- The ceiling for median deaths is 8 per match, while the floor is 5. 3 of my top 6 heroes have deaths at the ceiling level. Brewmaster is the only one of my top 6 played heroes with deaths at the floor!\n",
    "\n",
    "\n",
    "- Two of my most-played heroes with medians of 8 deaths are Rubick and Shadow Demon. Both of these intelligence heroes are typically played as supports, which can help explain the high death counts. Supports (should) prioritize helping the team grow stronger rather than growing stronger themselves, and as a result tend to be underleveled and underpowered as the game progresses. This makes them easy targets for enemy carries, where in teamfights they generally aim to pick off the easy kills before ganging up on tougher heroes to bring down.\n",
    "\n",
    "\n",
    "The correlation matrix earlier showed a moderate negative correlation between deaths and result. This correlation can be evidenced by looking at the W/L ratios of my highest feeding heroes:"
   ]
  },
  {
   "cell_type": "code",
   "execution_count": 40,
   "metadata": {
    "collapsed": false
   },
   "outputs": [
    {
     "name": "stdout",
     "output_type": "stream",
     "text": [
      "Pudge \t\t\tMed. # Deaths: 8.0 \tW/L Ratio: 0.491 \t <---- Bad!\n",
      "Kunkka \t\t\tMed. # Deaths: 8.0 \tW/L Ratio: 0.459 \t <---- Bad!\n",
      "Rubick \t\t\tMed. # Deaths: 8.0 \tW/L Ratio: 0.573 \t <---- Good!\n",
      "Shadow Demon \t\tMed. # Deaths: 8.0 \tW/L Ratio: 0.32 \t <---- Bad!\n",
      "Troll Warlord \t\tMed. # Deaths: 8.0 \tW/L Ratio: 0.417 \t <---- Bad!\n",
      "Tiny \t\t\tMed. # Deaths: 8.0 \tW/L Ratio: 0.375 \t <---- Bad!\n",
      "Ancient Apparition \tMed. # Deaths: 8.0 \tW/L Ratio: 0.455 \t <---- Bad!\n"
     ]
    }
   ],
   "source": [
    "dead_guys = ['Pudge', 'Kunkka', 'Rubick', 'Shadow Demon', 'Troll Warlord', 'Tiny', 'Ancient Apparition']\n",
    "good_or_bad_wl = ['<---- Good!' if mostplayed30_winloss[hero] > 0.5 else '<---- Bad!' for hero in dead_guys]\n",
    "for ix, hero in enumerate(dead_guys):\n",
    "    if len(hero) < 10: # formatting\n",
    "        print(hero, '\\t\\t\\tMed. # Deaths:', round(mostplayed30_deaths[hero],3),\n",
    "              '\\tW/L Ratio:', round(mostplayed30_winloss[hero],3), '\\t', good_or_bad_wl[ix])\n",
    "    elif len(hero) > 16:\n",
    "         print(hero, '\\tMed. # Deaths:', round(mostplayed30_deaths[hero],3),\n",
    "               '\\tW/L Ratio:', round(mostplayed30_winloss[hero],3), '\\t', good_or_bad_wl[ix])\n",
    "    else:\n",
    "        print(hero, '\\t\\tMed. # Deaths:', round(mostplayed30_deaths[hero],3),\n",
    "              '\\tW/L Ratio:', round(mostplayed30_winloss[hero],3), '\\t', good_or_bad_wl[ix])"
   ]
  },
  {
   "cell_type": "markdown",
   "metadata": {},
   "source": [
    "Rubick is the clear exception here - this support character has the highest W/L ratio of my top 6 played heroes, but also quite a high number of median deaths as well. Why? For support heroes like Rubick, their biggest contribution to the team comes from assisting in teamfights, not necessarily getting kills. Supports are often squishy (i.e. easy to kill), but if they can get off their important spells in big fights before dying, they play a major role in winning these pivotal encounters.\n",
    "\n",
    "This helps explain Rubick's W/L Ratio, but sometimes you just feed. Let's compare Rubick, Shadow Demon, and the entire hero pool's average assists to gather more insight:"
   ]
  },
  {
   "cell_type": "code",
   "execution_count": 41,
   "metadata": {
    "collapsed": true
   },
   "outputs": [],
   "source": [
    "import scipy.stats as stats"
   ]
  },
  {
   "cell_type": "code",
   "execution_count": 42,
   "metadata": {
    "collapsed": false
   },
   "outputs": [
    {
     "name": "stdout",
     "output_type": "stream",
     "text": [
      "Rubick's average assists: 14.0191082803 Standard Deviation: 6.86676787984\n",
      "Shadow Demon's average assists: 10.6721311475 Standard Deviation: 6.59289560871\n",
      "Average assists across hero pool: 10.676741024117357 Standard Deviation: 5.848425916345039\n"
     ]
    },
    {
     "data": {
      "text/plain": [
       "<matplotlib.legend.Legend at 0x1d96e8789b0>"
      ]
     },
     "execution_count": 42,
     "metadata": {},
     "output_type": "execute_result"
    },
    {
     "data": {
      "image/png": "[encoded data removed]",
      "text/plain": [
       "<matplotlib.figure.Figure at 0x1d96f1fbf28>"
      ]
     },
     "metadata": {},
     "output_type": "display_data"
    }
   ],
   "source": [
    "rubick_sorted = sorted(data[data['hero'] == 'Rubick']['assists'])\n",
    "rubick_mean = np.mean(rubick_sorted)\n",
    "rubick_std = np.std(rubick_sorted)\n",
    "\n",
    "sd_sorted = sorted(data[data['hero'] == 'Shadow Demon']['assists'])\n",
    "sd_mean = np.mean(sd_sorted)\n",
    "sd_std = np.std(sd_sorted)\n",
    "\n",
    "pool_mean = data.groupby('hero')['assists'].mean().mean()\n",
    "pool_std = data.groupby('hero')['assists'].std().mean()\n",
    "\n",
    "min_assists = data['assists'].min()\n",
    "max_assists = data['assists'].max()\n",
    "assist_space = np.linspace(min_assists, max_assists)\n",
    "\n",
    "print(\"Rubick's average assists:\", rubick_mean, 'Standard Deviation:', rubick_std) \n",
    "print(\"Shadow Demon's average assists:\", sd_mean, 'Standard Deviation:', sd_std)\n",
    "print(\"Average assists across hero pool:\", pool_mean, 'Standard Deviation:', pool_std)\n",
    "\n",
    "plt.figure(figsize=(18,8))\n",
    "plt.plot(rubick_sorted, stats.norm.pdf(rubick_sorted, rubick_mean, rubick_std), 'go-', label='Rubick [Dist.]')\n",
    "plt.hist(rubick_sorted, bins=40, alpha=0.5, color='g', normed=True, label='Rubick [Hist.]')\n",
    "plt.plot(sd_sorted, stats.norm.pdf(sd_sorted, sd_mean, sd_std), 'ro-', label='Shadow Demon [Dist.]')\n",
    "plt.hist(sd_sorted, bins=40, alpha=0.5, color='r', normed=True, label='Shadow Demon [Hist.]')\n",
    "plt.plot(assist_space, stats.norm.pdf(assist_space, pool_mean, pool_std), 'bo-', label='Hero Pool [Dist.]')\n",
    "\n",
    "plt.ylabel('PDF')\n",
    "plt.xlabel('Assists per match')\n",
    "plt.legend(fontsize='large')"
   ]
  },
  {
   "cell_type": "markdown",
   "metadata": {},
   "source": [
    "In the above histograms of Rubick and Shadow Demon's assists per match, we can see that Shadow Demon's skews more than Rubick's towards the lower end of the sample space. By fitting Rubick, Shadow Demon, and the entire hero pool's average assists to normal distributions, we get a decent approximation of how assists for each subject are distributed. Shadow Demon's distribution curve is closely in line with the rest of the hero pool, while Rubick's is shifted more to the right. Centred around an average of 14 assists per game, this shows that there's a greater chance of Rubick having a high amount of assists per match (see the margin between Rubick's distribution curve and the others around 20 assists).\n",
    "\n",
    "In conclusion, if you're going to feed - atleast try to be useful to your team before you die!\n",
    "\n",
    "### Primary Attribute\n",
    "\n",
    "Heroes come in three flavours: Agility, Intelligence, and Strength. Everytime a hero levels up, they are rewarded a set number of agility, intelligence, and strength points.\n",
    "\n",
    "- Agility points increase a hero's attack speed\n",
    "- Strength points increase a hero's overall health points and health regeneration rate\n",
    "- Intelligence points increase a hero's overall mana points and mana regeneration rate\n",
    "\n",
    "For heroes of a particular attribute, points in that attribute (either gained through leveling up or items) also increase the amount of damage they do each attack. Generally speaking, Agility heroes are carries, as their role is to deal massive amounts of damage as quickly as possible. Strength heroes are the tanky durable heroes, often playing the role of initiator in fights - soak up as much damage as possible and force enemies to focus on you while your team does its thing. Intelligence heroes are typically supports, with nuking (i.e. burst damage) or disabling abilities. They want to fire off as many of their spells as possible and control the fight. This is the template most heroes follow, but there are plenty of exceptions and offshoots as well (e.g. Intelligence-based carry heroes).\n",
    "\n",
    "Let's look at which primary attributes I played the most, as well as their W/L, KDR, and KDA ratios."
   ]
  },
  {
   "cell_type": "code",
   "execution_count": 43,
   "metadata": {
    "collapsed": false,
    "scrolled": false
   },
   "outputs": [
    {
     "data": {
      "text/plain": [
       "<matplotlib.text.Text at 0x1d96fa26a58>"
      ]
     },
     "execution_count": 43,
     "metadata": {},
     "output_type": "execute_result"
    },
    {
     "data": {
      "image/png": "[encoded data removed]",
      "text/plain": [
       "<matplotlib.figure.Figure at 0x1d96bb077b8>"
      ]
     },
     "metadata": {},
     "output_type": "display_data"
    }
   ],
   "source": [
    "primary_attr = data['primary_attr'].value_counts().reindex(['agi', 'int', 'str'])\n",
    "attr_palette = ['green', 'blue', 'red'] # agi, int, str colours\n",
    "\n",
    "plt.figure(figsize=(18,12))\n",
    "plt.subplot(2, 2, 1)\n",
    "sns.barplot(x=primary_attr.index, y=primary_attr/total_games, palette=attr_palette, saturation=0.5)\n",
    "plt.ylabel('Games Played')\n",
    "\n",
    "plt.subplot(2, 2, 2)\n",
    "primary_attr_wl = data.groupby('primary_attr')['result'].mean()\n",
    "sns.barplot(primary_attr_wl.index, primary_attr_wl, palette=attr_palette, saturation=0.5)\n",
    "plt.ylabel('Win Loss Ratio')\n",
    "plt.xlabel('')\n",
    "\n",
    "plt.subplot(2, 2, 3)\n",
    "primary_attr_kdr = data.groupby('primary_attr')['kdr'].mean()\n",
    "sns.barplot(primary_attr_kdr.index, primary_attr_kdr, palette=attr_palette, saturation=0.5)\n",
    "plt.ylabel('KDR')\n",
    "plt.xlabel('')\n",
    "\n",
    "plt.subplot(2, 2, 4)\n",
    "primary_attr_kda = data.groupby('primary_attr')['kda'].mean()\n",
    "sns.barplot(primary_attr_kda.index, primary_attr_kda, palette=attr_palette, saturation=0.5)\n",
    "plt.ylabel('KDA')\n",
    "plt.xlabel('')"
   ]
  },
  {
   "cell_type": "code",
   "execution_count": 44,
   "metadata": {
    "collapsed": false
   },
   "outputs": [
    {
     "name": "stdout",
     "output_type": "stream",
     "text": [
      "primary_attr\n",
      "agi    0.506444\n",
      "int    0.468037\n",
      "str    0.504132\n",
      "Name: result, dtype: float64\n"
     ]
    }
   ],
   "source": [
    "print(primary_attr_wl) # more closely examine W/L"
   ]
  },
  {
   "cell_type": "markdown",
   "metadata": {},
   "source": [
    "- Approximately 40% of my games were as strength heroes, with agility and intelligence following up with 36% and 24% respectively. The difference between intelligence and the other two attributes shows a pretty clear bias against it (and perhaps supporting?).\n",
    "\n",
    "\n",
    "- W/L ratios between attributes is essentially even at 0.5 for agility and strength, but takes a dip for intelligence.\n",
    "\n",
    "\n",
    "- Agility is the clear winner for KDR, with an average ratio around 2. This can be explained by the generalization that most agility heroes are carries which get more kills. Conversely, the average for support-focused intelligence heroes is just above neutral.\n",
    "\n",
    "\n",
    "- When taking assists into account with KDA, things even up considerably between the three attributes. Agility is still a clear lead, but the distance between it, and intelligence/strength is much less than KDR.\n",
    "\n",
    "\n",
    "- While it's easier to see that intelligence heroes perform less well in all categories, the disclaimer here is that I've also played them considerably less. The difference in W/L, KDR, and KDA is still enough to suggest that conclusion, but I would imagine that intelligence's ratios would improve given more attention and practice.\n",
    "\n",
    "Before we move on, let's see what the overall distribution of primary attributes is in the total hero pool:"
   ]
  },
  {
   "cell_type": "code",
   "execution_count": 45,
   "metadata": {
    "collapsed": false
   },
   "outputs": [
    {
     "data": {
      "text/plain": [
       "<matplotlib.text.Text at 0x1d96fdb0e10>"
      ]
     },
     "execution_count": 45,
     "metadata": {},
     "output_type": "execute_result"
    },
    {
     "data": {
      "image/png": "[encoded data removed]",
      "text/plain": [
       "<matplotlib.figure.Figure at 0x1d96f2e0898>"
      ]
     },
     "metadata": {},
     "output_type": "display_data"
    }
   ],
   "source": [
    "pool_primary_attr = hero_data['primary_attr'].value_counts().reindex(['agi', 'int', 'str'])\n",
    "plt.figure(figsize=(18,8))\n",
    "sns.barplot(pool_primary_attr.index, pool_primary_attr, palette=attr_palette, saturation=0.5)\n",
    "plt.ylabel('Number of Heroes')\n",
    "plt.xlabel('')\n",
    "plt.title('Distribution of Primary Attributes across Total Hero Pool')"
   ]
  },
  {
   "cell_type": "markdown",
   "metadata": {},
   "source": [
    "### Attack Type\n",
    "\n",
    "The two attack types, melee and ranged, are how heroes regularly attack enemy units. One slashes with claws, another throws fireballs, etc... There's even a hero that smacks people with tree branches, which is pretty fun."
   ]
  },
  {
   "cell_type": "code",
   "execution_count": 46,
   "metadata": {
    "collapsed": false
   },
   "outputs": [
    {
     "data": {
      "text/plain": [
       "<matplotlib.text.Text at 0x1d96ff77a90>"
      ]
     },
     "execution_count": 46,
     "metadata": {},
     "output_type": "execute_result"
    },
    {
     "data": {
      "image/png": "[encoded data removed]",
      "text/plain": [
       "<matplotlib.figure.Figure at 0x1d96fd6e2e8>"
      ]
     },
     "metadata": {},
     "output_type": "display_data"
    }
   ],
   "source": [
    "attack_type_total = data['attack_type'].value_counts()\n",
    "\n",
    "plt.figure(figsize=(18,12))\n",
    "plt.subplot(2,2,1)\n",
    "sns.barplot(attack_type_total.index, attack_type_total)\n",
    "plt.ylabel('Games Played')\n",
    "annotate()\n",
    "\n",
    "plt.subplot(2,2,2)\n",
    "attack_type_wl = data.groupby('attack_type')['result'].mean()\n",
    "sns.barplot(attack_type_wl.index, attack_type_wl)\n",
    "plt.ylabel('Win Loss Ratio')\n",
    "plt.xlabel('')\n",
    "\n",
    "plt.subplot(2,2,3)\n",
    "attack_type_kdr = data.groupby('attack_type')['kdr'].mean()\n",
    "sns.barplot(attack_type_total.index, attack_type_kdr)\n",
    "plt.ylabel('KDR')\n",
    "\n",
    "plt.subplot(2,2,4)\n",
    "attack_type_kda = data.groupby('attack_type')['kda'].mean()\n",
    "sns.barplot(attack_type_total.index, attack_type_kda)\n",
    "plt.ylabel('KDA')"
   ]
  },
  {
   "cell_type": "code",
   "execution_count": null,
   "metadata": {
    "collapsed": false
   },
   "outputs": [
    {
     "data": {
      "text/plain": [
       "attack_type\n",
       "Melee     0.507123\n",
       "Ranged    0.481506\n",
       "Name: result, dtype: float64"
      ]
     },
     "execution_count": 47,
     "metadata": {},
     "output_type": "execute_result"
    }
   ],
   "source": [
    "attack_type_wl # exact W/L values"
   ]
  },
  {
   "cell_type": "markdown",
   "metadata": {},
   "source": [
    "- Each statistic is higher with melee heroes than with ranged; I've played approximately 500 more games with melee heroes, which suggests a moderate preference towards them.\n",
    "\n",
    "\n",
    "- Being melee or ranged has a tiny impact on match outcome; on average I tend to do win more more with melee heroes and lose more with ranged.\n",
    "\n",
    "\n",
    "- This higher W/L correlates with the higher melee KDR and KDA ratios.\n",
    "\n",
    "\n",
    "- The margin between attack types for each statistic can be explained in part by looking at which primary attributes are typically associated with which attack types:"
   ]
  },
  {
   "cell_type": "code",
   "execution_count": null,
   "metadata": {
    "collapsed": false,
    "scrolled": false
   },
   "outputs": [
    {
     "data": {
      "text/plain": [
       "<matplotlib.text.Text at 0x1d970b65048>"
      ]
     },
     "execution_count": 48,
     "metadata": {},
     "output_type": "execute_result"
    }
   ],
   "source": [
    "attack_type_attrs = hero_data.groupby(['attack_type', 'primary_attr'])['hero'].unique()\n",
    "agi_attack_types = [len(attack_type_attrs['Melee']['agi']), len(attack_type_attrs['Ranged']['agi'])]\n",
    "int_attack_types = [len(attack_type_attrs['Melee']['int']), len(attack_type_attrs['Ranged']['int'])]\n",
    "str_attack_types = [len(attack_type_attrs['Melee']['str']), len(attack_type_attrs['Ranged']['str'])]\n",
    "attack_type_labels = ('Melee', 'Ranged')\n",
    "\n",
    "plt.figure(figsize=(18,8))\n",
    "\n",
    "plt.subplot(1,3,1)\n",
    "sns.barplot(attack_type_labels, agi_attack_types)\n",
    "plt.yticks(np.arange(0,40,5))\n",
    "plt.title('Agility')\n",
    "plt.ylabel('# of Heroes')\n",
    "\n",
    "plt.subplot(1,3,2)\n",
    "sns.barplot(attack_type_labels, int_attack_types)\n",
    "plt.yticks(np.arange(0,40,5))\n",
    "plt.title('Intelligence')\n",
    "\n",
    "plt.subplot(1,3,3)\n",
    "sns.barplot(attack_type_labels, str_attack_types)\n",
    "plt.yticks(np.arange(0,40,5))\n",
    "plt.title('Strength')\n",
    "\n",
    "# this could have been visualized better in a stacked barplot"
   ]
  },
  {
   "cell_type": "markdown",
   "metadata": {},
   "source": [
    "The barplots above show the number of heroes that are either melee or ranged for each primary category. Note that that these bars don't include every hero in Dota 2's hero pool - only the ones I've played myself (93% of the total). With that in mind, we can see a total inverse of the attack types for intelligence and strength, with each being almost exclusively ranged or melee. \n",
    "\n",
    "Thinking back to how much I've played each primary attribute, it would seem that my preference towards strength and agility heroes causes me to often pick from a subset that is predominantly melee. That being said, both intelligence and strength do have a few outliers:"
   ]
  },
  {
   "cell_type": "code",
   "execution_count": null,
   "metadata": {
    "collapsed": false,
    "scrolled": true
   },
   "outputs": [],
   "source": [
    "# outliers: strength + ranged, intelligence + melee\n",
    "\n",
    "str_ranged = hero_data[hero_data['primary_attr'] == 'str'].loc[hero_data['attack_type'] == 'Ranged']\n",
    "print('Strength and Ranged:', str_ranged['hero'].unique())\n",
    "\n",
    "int_melee = hero_data[hero_data['primary_attr'] == 'int'].loc[hero_data['attack_type'] == 'Melee']\n",
    "print('Intelligence and Melee:', int_melee['hero'].unique())"
   ]
  },
  {
   "cell_type": "markdown",
   "metadata": {},
   "source": [
    "If we're in the business of ascribing some kind of logic to the attribute/attack-type relationship, I'd guess that if you were super strong you wouldn't mind getting up close and personal in a fight. But if you were super smart, you'd probably realize that not getting hit is half the point of fighting itself and rather hurl glowing orbs or shoot magic lasers from a safe distance away.\n",
    "\n",
    "### Hero Roles\n",
    "\n",
    "Each hero in DotA falls into a couple of different categories which describe how its played. These \"roles\" are mostly determined by the abilities a hero possesses and how well they scale into different phases of the game (but are also defined by characteristics like base damage, attack speed, armor, and stat gain). It's worth noting that these roles are pretty broadly defined, and that they're susceptible to changing with each balance patch that comes to DotA. OpenDota's API classifies heroes into particular roles in a way that provides a fair description of each, but in reality they can be played in any number of ways.\n",
    "\n",
    "Here's a quick refresher on the hero roles we have available in this dataset:\n",
    "\n",
    "- **carry**: A hero that is the strongest in the lategame with more experience and items. 1 = Yes, 0 = No (same for all other roles).\n",
    "- **jungler**: A hero that can spend the early game fighting neutral creeps in the jungle to gain experience and gold.\n",
    "- **pusher**: A hero that can quickly push lanes and destroy enemy buildings. \n",
    "- **nuker**: A hero that can cast damage-dealing spells to quickly kill enemy heroes.\n",
    "- **disabler**: A hero that can cast spells to prevent enemy heroes from doing things (e.g. stunning a hero so it can't move or attack, removing its damage, silencing it so it can't cast spells).\n",
    "- **initiator**:A hero that is good at starting and controlling major teamfights.\n",
    "- **durable**: A hero that has a lot of health or armor, allowing it to withstand fights and take a lot of damage.\n",
    "- **support**: A hero that has a lot of spells useful for helping out the team, either by healing or strengthening allies. Often delegated to buy support items (i.e. wards, dust) for the team.\n",
    "\n",
    "Heroes can have a variety of roles. For an example, let's take a look at the first hero I ever played in Dota 2:"
   ]
  },
  {
   "cell_type": "code",
   "execution_count": null,
   "metadata": {
    "collapsed": false
   },
   "outputs": [],
   "source": [
    "print('Hero:', data.iloc[1][7])\n",
    "print(data.iloc[1][15:23])"
   ]
  },
  {
   "cell_type": "markdown",
   "metadata": {},
   "source": [
    "As we can see, Razor wears a couple of hats; he's a pretty durable carry hero with strong pushing and nuking capabilities.\n",
    "\n",
    "Which roles are commonly associated with each other? Let's take a closer look at the relationships between roles in that correlation matrix from earlier:"
   ]
  },
  {
   "cell_type": "code",
   "execution_count": null,
   "metadata": {
    "collapsed": false,
    "scrolled": false
   },
   "outputs": [],
   "source": [
    "role_ix = data.columns[15:23]\n",
    "role_corr = data[role_ix].corr()\n",
    "plt.figure(figsize=(18,8))\n",
    "sns.heatmap(role_corr, vmax=1, square=True)\n",
    "plt.title('Role Correlations')"
   ]
  },
  {
   "cell_type": "markdown",
   "metadata": {},
   "source": [
    "- There's a strong positive correlation between being an initiator and disabler. This makes total sense, since almost every hero that's considered an initiator does so through either an AOE (area of effect) or strong single-target disabling skill (if you know DotA, think Tidehunter's Ravage, Enigma's Blackhole, Batrider's Lasso, etc).\n",
    "\n",
    "\n",
    "- Being a carry has a number of moderate negative correlations with other roles: nuker, disabler, initiator, and support. This makes sense since carry heroes are primarily focused on dealing as much right-click (regular attack) damage as possible.\n",
    "\n",
    "\n",
    "- There's a moderate positive correlation with being a jungler and a pusher. Most heroes that can jungle in the early game can only do so because of support units they can summon (Nature's Prophet's treants, Lycan's wolves, Enigma's eidolons, etc). These summonable units are also great for pushing out creep waves later on in the game too.\n",
    "\n",
    "Let's now take a look at the percentage of games I've played in each role across all games, and compare that with the distribution of each role in the total hero pool:"
   ]
  },
  {
   "cell_type": "code",
   "execution_count": null,
   "metadata": {
    "collapsed": false,
    "scrolled": false
   },
   "outputs": [],
   "source": [
    "role_pct = []\n",
    "for i in role_ix:\n",
    "    role_pct.append((len(data[data[i] == 1]) / total_games))\n",
    "\n",
    "plt.figure(figsize=(18,8))\n",
    "plt.subplot(1,2,1)\n",
    "sns.barplot(role_ix, role_pct)\n",
    "plt.title('Percentage of Total Games Played in each Role')\n",
    "plt.ylabel('% Games Played', fontsize='large')\n",
    "plt.yticks(np.arange(0.0, 1, 0.1))\n",
    "\n",
    "\n",
    "role_dist_pct = hero_data[role_ix].sum() / total_hero_pool\n",
    "plt.subplot(1,2,2)\n",
    "sns.barplot(role_ix, role_dist_pct)\n",
    "plt.title('Distribution of Roles in Entire Hero Pool')\n",
    "plt.ylabel('% of Heroes', fontsize='large')\n",
    "plt.yticks(np.arange(0.0, 1, 0.1))"
   ]
  },
  {
   "cell_type": "code",
   "execution_count": null,
   "metadata": {
    "collapsed": false
   },
   "outputs": [],
   "source": [
    "role_differences = np.array(role_pct) - np.array(role_dist_pct)\n",
    "print('Delta between roles played and role distribution:')\n",
    "list(zip(role_ix, (role_differences)))\n"
   ]
  },
  {
   "cell_type": "markdown",
   "metadata": {},
   "source": [
    "- The distribution of roles I played generally resembles the overall hero pool's distribution; this suggests that I often played heroes that fit within the most frequent roles (nuker, disabler, carry).\n",
    "\n",
    "\n",
    "- However, you can see that I played less jungling, pushing, and support roles than the total distribution. The correlation between jungling and pushing is hinted at here, as not playing one comes with a good chance of not playing the other. Support, my least played role with a delta of -15% from the overall role distribution, clearly shows a preference towards not wanting to carry that burden.\n",
    "\n",
    "\n",
    "- The highest positive difference between roles played and the roles distribution is with durable heroes (+9%), with slightly less than 50% of my total games played in this role. This coincides with durability being so closely tied to the strength-based heroes I played in 40% of all my games.\n",
    "\n",
    "\n",
    "- I played carry heroes in almost 60% of all my games; although it doesn't have as high a delta as durable, nuker, or disabler, the combination of these roles most-played indicate a clear preference towards powerful teamfighting heroes.\n",
    "\n",
    "Next, let's look at W/L, KDR, and KDA for each role:"
   ]
  },
  {
   "cell_type": "code",
   "execution_count": null,
   "metadata": {
    "collapsed": false
   },
   "outputs": [],
   "source": [
    "role_wl = []\n",
    "role_kdr = []\n",
    "role_kda = []\n",
    "for i in role_ix:\n",
    "    role_group = data.groupby(i).mean()\n",
    "    role_wl.append(role_group['result'][1])\n",
    "    role_kdr.append(role_group['kdr'][1])\n",
    "    role_kda.append(role_group['kda'][1])"
   ]
  },
  {
   "cell_type": "code",
   "execution_count": null,
   "metadata": {
    "collapsed": false,
    "scrolled": false
   },
   "outputs": [],
   "source": [
    "plt.figure(figsize=(18,8))\n",
    "sns.barplot(role_ix, role_wl)\n",
    "plt.ylim((0.4, 0.55))\n",
    "plt.title('Win Loss Ratio by Role')\n",
    "plt.ylabel('W/L', rotation='horizontal', horizontalalignment='right', fontsize='large')"
   ]
  },
  {
   "cell_type": "code",
   "execution_count": null,
   "metadata": {
    "collapsed": false
   },
   "outputs": [],
   "source": [
    "list((zip(role_ix, role_wl)))"
   ]
  },
  {
   "cell_type": "markdown",
   "metadata": {},
   "source": [
    "- It seems that no one role in particular gives me an increased chance of winning, with carry, disabler, initiator, and durable all sitting at my average W/L ratio of 0.5.\n",
    "\n",
    "\n",
    "- Jungler, pusher, and support all have about a -3% decrease from the average, suggesting that I'm slightly more likely to lose playing these roles. "
   ]
  },
  {
   "cell_type": "code",
   "execution_count": null,
   "metadata": {
    "collapsed": false,
    "scrolled": false
   },
   "outputs": [],
   "source": [
    "plt.figure(figsize=(20,8))\n",
    "plt.subplot(1,2,1)\n",
    "sns.barplot(role_ix, role_kdr)\n",
    "plt.ylabel('KDR', rotation='horizontal', horizontalalignment='right', fontsize='large')\n",
    "plt.title('KDR by Role')\n",
    "\n",
    "plt.subplot(1,2,2)\n",
    "sns.barplot(role_ix, role_kda)\n",
    "plt.ylabel('KDA', rotation='horizontal', horizontalalignment='right', fontsize='large')\n",
    "plt.title('KDA by Role')"
   ]
  },
  {
   "cell_type": "markdown",
   "metadata": {},
   "source": [
    "- Looking at KDR, carry has a substantial lead between itself and the other roles. Carries are relied on to do most of the killing late game, so the higher KDR makes sense.\n",
    "\n",
    "\n",
    "- KDA closes the distance between carry and the other roles, as the inclusion of assists account for many of the key functions that teamfighting disablers, initiators, and supports play.\n",
    "\n",
    "\n",
    "- Looking at the W/L and KDR/KDA ratios together, it seems the best combination of roles to maximize my chances of winning is picking durable carry heroes with the ability to initiate fights. "
   ]
  },
  {
   "cell_type": "markdown",
   "metadata": {},
   "source": [
    "### Legs?!\n",
    "\n",
    "Dota 2 tracks the number of legs each hero has solely for cosmetic purposes, i.e. selling pants and other accessoriess to put on your hero's character model in-game. Have more legs doesn't really give you in-game speed advantage; if anything, having no legs would probably be faster because that means you must be floating around or something. Still, it's a stat in the hero data and I'll be damned if I don't try to find meaning in it.\n",
    "\n",
    "How many legs can the heroes in Dota 2 have?"
   ]
  },
  {
   "cell_type": "code",
   "execution_count": null,
   "metadata": {
    "collapsed": false
   },
   "outputs": [],
   "source": [
    "num_legs = hero_data['legs'].unique()\n",
    "num_legs"
   ]
  },
  {
   "cell_type": "markdown",
   "metadata": {},
   "source": [
    "How many legs do they have combined? What's the average number of legs?"
   ]
  },
  {
   "cell_type": "code",
   "execution_count": null,
   "metadata": {
    "collapsed": false
   },
   "outputs": [],
   "source": [
    "total_legs = hero_data['legs'].sum()\n",
    "avg_legs = total_legs / total_hero_pool\n",
    "print('Total Legs:', total_legs)\n",
    "print('Average # of Legs:', avg_legs)"
   ]
  },
  {
   "cell_type": "markdown",
   "metadata": {},
   "source": [
    "Most heroes in Dota 2 are bipedal, fascinating...\n",
    "\n",
    "W/L?"
   ]
  },
  {
   "cell_type": "code",
   "execution_count": null,
   "metadata": {
    "collapsed": false
   },
   "outputs": [],
   "source": [
    "legs_wl = data.groupby('legs')['result'].mean()  \n",
    "plt.figure(figsize=(18,8))\n",
    "sns.barplot(legs_wl.index, legs_wl)\n",
    "plt.title('W/L by # of legs')\n",
    "plt.xlabel('# of legs')\n",
    "plt.ylabel('W/L', rotation='horizontal', horizontalalignment='right', fontsize='large')"
   ]
  },
  {
   "cell_type": "markdown",
   "metadata": {},
   "source": [
    "It seems the more legs you have, the less likely you are to win (with the exception of being a six-legged bug)! Heroes with no legs at all seem to have the clear advantage; no legs means less appendages to chop off, no leg cramps, no shoelaces to trip on...\n",
    "\n",
    "Lets take a look and see who's in this no-legged league of legends:"
   ]
  },
  {
   "cell_type": "code",
   "execution_count": null,
   "metadata": {
    "collapsed": false
   },
   "outputs": [],
   "source": [
    "no_legs_club = data.groupby('legs')['hero'].unique()[0]\n",
    "no_legs_club"
   ]
  },
  {
   "cell_type": "markdown",
   "metadata": {},
   "source": [
    "### Time\n",
    "\n",
    "DotA sucks away time like a black hole does to light - once you pass the event horizon, there is no escape from the void. The general relativity of each match causes time to slow to a crawl, especially when its a shitty one. Yet time on the outside flows naturally... Minutes turn into hours, hours turn into days, and next thing you know you've 3000 games deep and you carry with you the soul of a jaded old man.\n",
    "\n",
    "All that being said, let's look at how my W/L ratio varies over particular lengths of time, starting with match duration:"
   ]
  },
  {
   "cell_type": "code",
   "execution_count": null,
   "metadata": {
    "collapsed": false,
    "scrolled": false
   },
   "outputs": [],
   "source": [
    "### Win Loss by Duration\n",
    "\n",
    "# histogram\n",
    "plt.figure(figsize=(18,8))\n",
    "plt.hist([data['duration'].loc[data['result'] == 1],\n",
    "        data['duration'].loc[data['result'] != 1]], stacked=True,\n",
    "        bins=30, label=['Win', 'Loss'], normed=True)\n",
    "# gauss. curve\n",
    "duration_space = np.linspace(0, data['duration'].max())\n",
    "plt.plot(duration_space, stats.norm.pdf(duration_space, data['duration'].mean(),\n",
    "                                        data['duration'].std()), '--')\n",
    "plt.title('% of Wins and Losses by Duration')\n",
    "plt.xlabel('Duration')\n",
    "plt.ylabel('# of Games')\n",
    "plt.legend(fontsize='large')"
   ]
  },
  {
   "cell_type": "code",
   "execution_count": null,
   "metadata": {
    "collapsed": false
   },
   "outputs": [],
   "source": [
    "plt.figure(figsize=(18,8))\n",
    "duration_wl = data.groupby('duration')['result'].mean()\n",
    "duration_linspace = np.linspace(data['duration'].min(), data['duration'].max(), num=len(duration_wl))\n",
    "plt.plot(duration_linspace, duration_wl, label='W/L Ratio')\n",
    "plt.plot(duration_linspace, [0.5 for i in duration_linspace], 'r--', label='0.5 W/L')\n",
    "\n",
    "plt.title('W/L Ratio by Duration')\n",
    "plt.xlabel('Duration')\n",
    "plt.ylabel('W/L Ratio')\n",
    "plt.legend(fontsize='large')"
   ]
  },
  {
   "cell_type": "markdown",
   "metadata": {},
   "source": [
    "Game duration fits a beautiful normal distribution around the average length of 39 minutes. Looking at W/L ratio, you can see that it really fluctuates around the extremeties of duration (less than 20 mins and more than 70) because only a small number of games are ever that short or long. It seems that I'm more likely to lose shorter games between 20 and 30 minutes long, whereas my best window for success seems to between 40 to 50 minutes. Intuitively this makes total sense to me; in most games where I played as a carry, it took about 30 minutes to \"come online\", i.e. get powerful enough to start taking over the game. If the other team was able to push fast enough and force a win before or just at that point in time, the carry often wasn't powerful enough to really help the team stop their advance. But between 40 minutes to an hour, the carry has enough items and momentum to take over the game and go for the win. Games over an hour long can be tricky, because past that point in time the outcome entirely comes down to team coordination and winning pivotal fights, where no one player has a lot of control on how things play out.\n",
    "\n",
    "I like the W/L ratio plot, because it really reflects how priorities and strategy change in DotA during different phases of the game. Now, let's take a look at my favourite (and most damning) visualization in this whole analysis: games played and W/L ratio distributed over 24 hours."
   ]
  },
  {
   "cell_type": "code",
   "execution_count": null,
   "metadata": {
    "collapsed": false
   },
   "outputs": [],
   "source": [
    "hourly_wl = data.groupby('hour')['result'].mean()/10 # divided by 10 so its scales visually with my histogram"
   ]
  },
  {
   "cell_type": "code",
   "execution_count": null,
   "metadata": {
    "collapsed": false,
    "scrolled": false
   },
   "outputs": [],
   "source": [
    "### Hourly games and W/L\n",
    "\n",
    "plt.figure(figsize=(18,8))\n",
    "plt.hist([data['hour'].loc[data['result'] == 1],\n",
    "        data['hour'].loc[data['result'] != 1]], stacked=True,\n",
    "        bins=24, label=['Win', 'Loss'], normed=True)\n",
    "plt.plot(range(24), hourly_wl, label='W/L Ratio')\n",
    "plt.plot(range(24), [0.05 for i in range(24)], 'r--', label='0.5 W/L')\n",
    "plt.xlabel('Hour Played')\n",
    "plt.xticks(range(24))\n",
    "plt.ylabel('# of Games')\n",
    "plt.legend(fontsize='large')"
   ]
  },
  {
   "cell_type": "markdown",
   "metadata": {},
   "source": [
    "First of all, you can see two definite peaks around 0 and 23 hours. The large majority of my Dota games started at the crack of midnight, when I should have been sleeping like a normal person. I remember these times fondly; my parents would be asleep so I would raid the fridge for cookies and chocolate milk, then proceed to let sugar fuel me as I charged into online battle. My W/L ratio would hit its stride around 2am, and then steadily decline as I began to succumb to eye strain and a lack of sleep. My best (and most infrequent) games occurred in the early morning, around 7 to 8am when my mind was relatively fresh and I was presumably playing against people who didn't know when to call it quits themselves. 6 to 8pm was also a good time to play too, as at that point I was usually done eating dinner.\n",
    "\n",
    "Looking at this plot is equal parts nostalgic and depressing, which really sums up the whole tone of this analysis for me. Let's see how much more depressing things can get as we zoom out and examine things through the lenses of months and years..."
   ]
  },
  {
   "cell_type": "code",
   "execution_count": null,
   "metadata": {
    "collapsed": true
   },
   "outputs": [],
   "source": [
    "months_years = data.groupby(['year', 'month'])\n",
    "months_wl = months_years['result'].mean()"
   ]
  },
  {
   "cell_type": "code",
   "execution_count": null,
   "metadata": {
    "collapsed": false
   },
   "outputs": [],
   "source": [
    "timeline_wl = []\n",
    "\n",
    "for year in range(2012, 2018):\n",
    "    for month in range(1, 13):\n",
    "        timeline_wl.append(months_wl.unstack()[month][year])\n",
    "        \n",
    "timeline_linspace = range(len(timeline_wl))"
   ]
  },
  {
   "cell_type": "code",
   "execution_count": null,
   "metadata": {
    "collapsed": false
   },
   "outputs": [],
   "source": [
    "### Monthly W/L\n",
    "\n",
    "plt.figure(figsize=(18,8))\n",
    "plt.plot(timeline_linspace, timeline_wl, label='W/L Ratio')\n",
    "plt.plot(timeline_linspace, [0.5 for i in timeline_linspace], 'r--', label=\"0.5 W/L\")\n",
    "plt.title('Win Loss Ratio by Month')\n",
    "plt.legend()"
   ]
  },
  {
   "cell_type": "markdown",
   "metadata": {},
   "source": [
    "The above plot charts my W/L ratio from the first month I played Dota 2, March 2012, to my last recorded game in June 2017. I played Dota 2 **every month** from March 2012 all the way to February 2015, after which I took a year long hiatus. During that incrediblely long streak of playing, my W/L seemed to bounce between 0.55 and 0.45, showing no real month-after-month improvement (sigh). Somewhere around my 35th month of playing my W/L spiked to 0.65; let's look at the data directly to figure out why:"
   ]
  },
  {
   "cell_type": "code",
   "execution_count": null,
   "metadata": {
    "collapsed": false,
    "scrolled": true
   },
   "outputs": [],
   "source": [
    "months_wl.unstack()"
   ]
  },
  {
   "cell_type": "markdown",
   "metadata": {},
   "source": [
    "November 2014 seemed to be a hot month for me, with my W/L topping out at 0.66. Let's see which heroes I played that month:"
   ]
  },
  {
   "cell_type": "code",
   "execution_count": null,
   "metadata": {
    "collapsed": false,
    "scrolled": false
   },
   "outputs": [],
   "source": [
    "hot_month = data[data.year == 2014][data.month == 11]\n",
    "hot_month['hero'].value_counts()"
   ]
  },
  {
   "cell_type": "markdown",
   "metadata": {},
   "source": [
    "22 games with Earth Spirit! This was a point in time where frankly he was broken as hell to play. With his incredible combination of nuking and disabling abilities, Earth Spirit clearly needed a lot of reworking before he could even remotely be considered a fair hero. This much-needed balancing didn't come until a few months later, but that didn't stop me from abusing him to my advantage in the meantime.\n",
    "\n",
    "I got so good with Earth Spirit that I even felt compelled to make a montage displaying my **elite** skills; [check it out, in all its poorly-edited glory!](https://www.youtube.com/watch?v=dwRKkuPZch0)\n",
    "\n",
    "Pretty badass, no? No? Alright, moving on... Let's see how many games I played each year:"
   ]
  },
  {
   "cell_type": "code",
   "execution_count": null,
   "metadata": {
    "collapsed": false,
    "scrolled": false
   },
   "outputs": [],
   "source": [
    "### Games played over the years\n",
    "\n",
    "games_over_the_years = data['year'].value_counts()\n",
    "plt.figure(figsize=(18,8))\n",
    "sns.barplot(games_over_the_years.index, games_over_the_years)\n",
    "plt.title('Games Played by Year')\n",
    "plt.ylabel('Games Played')\n",
    "plt.xlabel('Year')\n",
    "annotate()"
   ]
  },
  {
   "cell_type": "markdown",
   "metadata": {},
   "source": [
    "Here we can see that I increasingly became more addicted to Dota 2 since its launch in 2012 all the way up to 2015. Looking back at that time in my life, 2012 was the year when I graduated high school and 2013 was my start in university; during this tough time of transition, I clearly needed a pillar to support myself emotionally... I came to my senses in 2015, and despite a mild ressurgence the following year, I had mostly kicked Dota 2 for good."
   ]
  },
  {
   "cell_type": "code",
   "execution_count": null,
   "metadata": {
    "collapsed": false
   },
   "outputs": [],
   "source": [
    "years = data.groupby('year')\n",
    "years_wl = years['result'].mean()\n",
    "\n",
    "plt.figure(figsize=(18,8))\n",
    "plt.plot(years_wl.index, years_wl, label='Win Loss Ratio')\n",
    "plt.plot(years_wl.index, [0.5 for i in years_wl.index], 'r--', label='0.5 W/L Ratio')\n",
    "plt.legend()"
   ]
  },
  {
   "cell_type": "markdown",
   "metadata": {},
   "source": [
    "This plot of my year-over-year W/L is slightly deceiving - the substantial increase in 2015 is simply a result of playing less games; winning the majority of the 35 games I played that entire year isn't a great indicator of my overall skill. Points of significance here are the duration between 2012 and 2014 where my W/L slowly declined to the 0.5 average, and also 2016 where I simply just sucked a little bit more overall.\n",
    "\n",
    "Finally, let's take a look at the 10 most-played heroes of each year:"
   ]
  },
  {
   "cell_type": "code",
   "execution_count": null,
   "metadata": {
    "collapsed": false
   },
   "outputs": [],
   "source": [
    "### most played hero each year\n",
    "\n",
    "def mostPlayedByYear(year, count=10):\n",
    "    hero_names = []\n",
    "    games_played = []\n",
    "    win_loss = []\n",
    "    \n",
    "    for name in years['hero'].value_counts()[year][:count].index:\n",
    "        hero_names.append(name)\n",
    "    for n_games in years['hero'].value_counts()[year][:count]:\n",
    "        games_played.append(n_games)\n",
    "    for hero in hero_names:\n",
    "        win_loss.append(round(data['result'][data['hero'] == hero][data['year'] == year].mean(), 2))\n",
    "        \n",
    "    print('\\t\\t---', year,'---')\n",
    "    title = 'Hero\\t\\tGames Played\\tWin Loss Ratio'\n",
    "    print(title)\n",
    "    print('-'*len(title) + 13*'-')\n",
    "    try:\n",
    "        for i in range(count):\n",
    "            if len(hero_names[i]) < 9:\n",
    "                hero_names[i] = hero_names[i] + '   '\n",
    "            if len(str(games_played[i])) < 2:\n",
    "                games_played[i] = str(games_played[i]) + ' '\n",
    "            if len(hero_names[i]) > 14:\n",
    "                print(hero_names[i],'   ',games_played[i],'\\t    ', win_loss[i])\n",
    "            else:    \n",
    "                print(hero_names[i],'\\t    ',games_played[i],'\\t    ', win_loss[i])\n",
    "    except IndexError:\n",
    "        pass\n",
    "    \n",
    "    # a lot of effort and tweaking to get fancy looking tables!"
   ]
  },
  {
   "cell_type": "markdown",
   "metadata": {},
   "source": [
    "Let's take a trip down memory lane, year by year."
   ]
  },
  {
   "cell_type": "code",
   "execution_count": null,
   "metadata": {
    "collapsed": false,
    "scrolled": true
   },
   "outputs": [],
   "source": [
    "mostPlayedByYear(2012)"
   ]
  },
  {
   "cell_type": "markdown",
   "metadata": {},
   "source": [
    "My first year of Dota 2 starts off with a bang; my most played hero, Shadow Demon, has a whopping W/L ratio of 0.34. This was a support hero that I really liked playing, but could never really get wins with because he relied too much on the rest of the team to carry him. My highest W/L ratio of 0.7 was with both Rubick and Enigma, two other support heroes who were able to control enemy heroes and earn more assists in teamfights. I also played Pudge surprisingly well during this time too."
   ]
  },
  {
   "cell_type": "code",
   "execution_count": null,
   "metadata": {
    "collapsed": false
   },
   "outputs": [],
   "source": [
    "mostPlayedByYear(2013)"
   ]
  },
  {
   "cell_type": "markdown",
   "metadata": {},
   "source": [
    "2013 saw the addition of both Earth and Ember Spirit, two heroes that would eventually become my top most played. Right out of the gate I was able to get above average W/L ratios with them, cementing their popularity in the years to come. Despite being my most played hero of the year, Rubick's W/L ratio plummeted down to 0.51. Pudge's W/L fell to below average this year, signalling that perhaps it was time to try something new."
   ]
  },
  {
   "cell_type": "code",
   "execution_count": null,
   "metadata": {
    "collapsed": false,
    "scrolled": true
   },
   "outputs": [],
   "source": [
    "mostPlayedByYear(2014)"
   ]
  },
  {
   "cell_type": "markdown",
   "metadata": {},
   "source": [
    "In 2014 I played the most Dota in my entire life, seeing pretty strong results with many of my most played heroes. This was the first year that (apart from a brief obsession with playing Pugna) I moved away from supporting in any capacity and focused on high-impact carry and teamfighting heroes. I was incredibly successful with Ember Spirit, earning a 0.61 W/L ratio over 192 games. I also had above averages with Templar Assassin, Shadow Fiend, Clockwerk, and most notably, Brewmaster. It was a good year of Dota."
   ]
  },
  {
   "cell_type": "code",
   "execution_count": null,
   "metadata": {
    "collapsed": false,
    "scrolled": true
   },
   "outputs": [],
   "source": [
    "mostPlayedByYear(2015)"
   ]
  },
  {
   "cell_type": "markdown",
   "metadata": {},
   "source": [
    "I definitely burnt myself out after 2014, because I barely played any Dota in 2015. The only worthwhile comment to make here is that I began experimenting with Kunkka closer to the end of the year."
   ]
  },
  {
   "cell_type": "code",
   "execution_count": null,
   "metadata": {
    "collapsed": false,
    "scrolled": true
   },
   "outputs": [],
   "source": [
    "mostPlayedByYear(2016)"
   ]
  },
  {
   "cell_type": "markdown",
   "metadata": {},
   "source": [
    "This experiment with Kunkka continued strong into 2016, with him being my most played hero by a very wide margin. Kunkka is really fun to play, but unfortunately he's not the kind of carry that can consistently carry games on his own merit. I can tell that I was getting bored with Dota in 2016, because I put a lot of effort into playing new heroes. These experiments with heroes like Troll Warlord, Tiny, Legion Commander and Sniper were met with little success. Tiny's disgustingly low W/L ratio of 0.26 is only surpassed in shame by Ember Spirit's 0.23; what was once my strongest bread-and-butter hero of 2014 became a husk of his former self, in large part due to balance patches that took away a lot of his ability to carry as hard as he did before.\n",
    "\n",
    "The only success story of 2016 was Brewmaster, who I was able to score an extremely high 0.67 W/L ratio with over 33 games. Considering how he started off with a W/L of 0.43 in 2012 that consistently grew over time, I'm proud of how I improved with him over the years."
   ]
  },
  {
   "cell_type": "code",
   "execution_count": null,
   "metadata": {
    "collapsed": false
   },
   "outputs": [],
   "source": [
    "mostPlayedByYear(2017)"
   ]
  },
  {
   "cell_type": "markdown",
   "metadata": {},
   "source": [
    "2017 was a complete wash. I remember each game I played this year, and all of them were in internet cafes (I had to delete Dota of my computer as a preventative measure). I somehow managed to win one as Kunkka while I was in vacation in Hong Kong; besides that, the other four games were either half-assed or excuses to kill time before leaving to do something better with my life.\n",
    "\n",
    "One last interesting visualization is how my W/L ratio with my top 10 most played heroes changed over time. For years where I didn't play any of these heroes, I've propogated the previous year's W/L forward to make things easier to visualize. I've also excluded 2017 for the sake of clarity:"
   ]
  },
  {
   "cell_type": "code",
   "execution_count": null,
   "metadata": {
    "collapsed": false,
    "scrolled": false
   },
   "outputs": [],
   "source": [
    "### top 10 hero W/L ratios over time\n",
    "\n",
    "years_2012_to_2016 = [2012, 2013, 2014, 2015, 2016]\n",
    "colour_palette = [\"#13b7db\", \"#9e31ab\", \"#09e139\", \"#ee1616\", \"#e4560d\",\n",
    "                 \"#2ecc71\", \"#737373\", \"#f0a944\", \"#71d5c3\", \"#3870af\"] # hex colours found online\n",
    "\n",
    "hero_wl_yearly = data.groupby(['hero', 'year'])['result'].mean()\n",
    "plt.figure(figsize=(18,8))\n",
    "for colour_ix, hero in enumerate(hero_mostplayed30.index[:10]):\n",
    "    label = \"{}\".format(hero)\n",
    "    hero_wl = hero_wl_yearly[hero][years_2012_to_2016]\n",
    "    hero_wl.fillna(method='ffill', inplace=True)\n",
    "    plt.plot(years_2012_to_2016, hero_wl, label=label, color=colour_palette[colour_ix])\n",
    "\n",
    "plt.plot(years_2012_to_2016, [0.5 for year in years_2012_to_2016], 'r--', label='0.5 W/L Ratio')\n",
    "plt.xticks(years_2012_to_2016)\n",
    "plt.legend(fontsize='large')\n",
    "plt.ylabel('W/L Ratio')\n",
    "plt.title('The W/L Ratios of my Top 10 Most Played Heroes over Time')"
   ]
  },
  {
   "cell_type": "markdown",
   "metadata": {},
   "source": [
    "While it's a bit hard discern who is who with the colours, this visualization provides a decent look at how my success with these heroes changed over time. The biggest success story is with Brewmaster, whose W/L ratio steadily rose over the four years to be the top contender of 2016. Ember Spirit and Rubick are the biggest tragedies here for me, with their ratios both taking steep dives in 2015 and 2016 respectively. Heroes like Kunkka and Shadow Demon, although fluctuating over the four years, also dissapointingly never managed to even make it to an average 0.5 performance."
   ]
  },
  {
   "cell_type": "markdown",
   "metadata": {
    "collapsed": true
   },
   "source": [
    "### Total Time in Game\n",
    "\n",
    "Before I finish this analysis, there is one more depressing statistic I must come to bear. Just how much of my life - the only shot at conscious experience as I know it - did I spend honing untransferrable skills and arguing with other keyboard warriors in Dota 2? Let's break down the numbers:"
   ]
  },
  {
   "cell_type": "code",
   "execution_count": null,
   "metadata": {
    "collapsed": false
   },
   "outputs": [],
   "source": [
    "total_minutes = data['duration'].sum()\n",
    "total_minutes"
   ]
  },
  {
   "cell_type": "markdown",
   "metadata": {},
   "source": [
    "145,248 minutes doesn't sound that bad in my head, to be honest. It's kind of like trying to imagine a billion of something; my brain can't really fathom how big that number really is in minutes."
   ]
  },
  {
   "cell_type": "code",
   "execution_count": null,
   "metadata": {
    "collapsed": false
   },
   "outputs": [],
   "source": [
    "total_hours = total_minutes / 60\n",
    "total_hours"
   ]
  },
  {
   "cell_type": "markdown",
   "metadata": {},
   "source": [
    "2420 hours beings to put things into perspective... That's like watching the extended edition of *Return of the King* 605 times!"
   ]
  },
  {
   "cell_type": "code",
   "execution_count": null,
   "metadata": {
    "collapsed": false
   },
   "outputs": [],
   "source": [
    "total_days = total_hours / 24\n",
    "total_days"
   ]
  },
  {
   "cell_type": "markdown",
   "metadata": {},
   "source": [
    "Just over 100 days of my life... "
   ]
  },
  {
   "cell_type": "code",
   "execution_count": null,
   "metadata": {
    "collapsed": false
   },
   "outputs": [],
   "source": [
    "total_months = total_days / (365 / 12)\n",
    "total_months"
   ]
  },
  {
   "cell_type": "markdown",
   "metadata": {},
   "source": [
    "Three months... An entire summer of frolicking around in nature and getting into mischevious hijinks..."
   ]
  },
  {
   "cell_type": "code",
   "execution_count": null,
   "metadata": {
    "collapsed": false
   },
   "outputs": [],
   "source": [
    "total_years = total_months / 12\n",
    "total_years"
   ]
  },
  {
   "cell_type": "markdown",
   "metadata": {},
   "source": [
    "Almost one third of an entire trip around the sun..."
   ]
  },
  {
   "cell_type": "code",
   "execution_count": null,
   "metadata": {
    "collapsed": false
   },
   "outputs": [],
   "source": [
    "total_life_playing_dota2 = total_years / 22\n",
    "total_life_not_playing_dota2 = 1 - total_life_playing_dota2\n",
    "total_life_playing_dota2"
   ]
  },
  {
   "cell_type": "markdown",
   "metadata": {},
   "source": [
    "And in the grand scheme of things, that's 1% of my entire life to date that I've spent playing Dota 2! 1% overall doesn't sound too bad I suppose... I know how much statisticians and analysts love pie charts, so let's see what that looks like in one of those:"
   ]
  },
  {
   "cell_type": "code",
   "execution_count": null,
   "metadata": {
    "collapsed": false
   },
   "outputs": [],
   "source": [
    "plt.figure(figsize=(18,8))\n",
    "plt.pie([total_life_playing_dota2, total_life_not_playing_dota2],\n",
    "        labels=['Time Spent Playing Dota 2', 'Time Not Spent Playing Dota 2'])\n",
    "plt.axis('equal')\n",
    "plt.title(\"Will's Entire Life\", fontsize=26)"
   ]
  },
  {
   "cell_type": "markdown",
   "metadata": {},
   "source": [
    "And if we're really trying to be fair here, I guess I shouldn't really include the time I spent sleeping in this statistic. For the sake of pushing this tired conclusion to its limits, let's see how much of my entire waking life I've spent playing Dota 2:"
   ]
  },
  {
   "cell_type": "code",
   "execution_count": null,
   "metadata": {
    "collapsed": false
   },
   "outputs": [],
   "source": [
    "entire_waking_life = 22 * (2/3) # People typically spend a third of their life asleep (~8 hours sleeping).\n",
    "                                # But did I really sleep that much with DotA in my life?\n",
    "total_waking_life_playing_dota2 = total_years / entire_waking_life\n",
    "print(round(total_waking_life_playing_dota2, 2))\n",
    "total_waking_life_not_playing_dota2 = 1 - total_life_playing_dota2\n",
    "total_waking_life_playing_dota2\n",
    "\n",
    "plt.figure(figsize=(18,8))\n",
    "plt.pie([total_waking_life_playing_dota2, total_waking_life_not_playing_dota2],\n",
    "        labels=['Time Spent Playing Dota 2', 'Time Not Spent Playing Dota 2'])\n",
    "plt.axis('equal')\n",
    "plt.title(\"Will's Entire Life being Awake\", fontsize=26)"
   ]
  },
  {
   "cell_type": "markdown",
   "metadata": {},
   "source": [
    "2% of my entire waking life! And I can't forget to add onto that the few weeks I've spent making this analysis! If you've made it this far, thanks for sticking it out to the very end! As much as I joke about Dota 2 sucking a good deal of my time, energy, and faith in humanity away, it truly was an excellent (and free!) game that gave me lots of happy memories and enjoyment. And with that being said, I plan on never relapsing and playing it again!\n",
    "\n",
    "### Thanks for reading!"
   ]
  }
 ],
 "metadata": {
  "kernelspec": {
   "display_name": "Python 3",
   "language": "python",
   "name": "python3"
  },
  "language_info": {
   "codemirror_mode": {
    "name": "ipython",
    "version": 3
   },
   "file_extension": ".py",
   "mimetype": "text/x-python",
   "name": "python",
   "nbconvert_exporter": "python",
   "pygments_lexer": "ipython3",
   "version": "3.6.0"
  }
 },
 "nbformat": 4,
 "nbformat_minor": 2
}
