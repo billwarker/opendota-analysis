{
 "cells": [
  {
   "cell_type": "markdown",
   "metadata": {},
   "source": [
    "# <center> Closure: A Statistical Look Back on my Dota 2 Career\n",
    "## <center> By: Will B.\n",
    "\n",
    "<img src=\"Pictures\\dota_2_official_9.jpg\"></img>"
   ]
  },
  {
   "cell_type": "markdown",
   "metadata": {},
   "source": [
    "## Introduction\n",
    "\n",
    "### A Brief History of DotA\n",
    "\n",
    "Have you ever been addicted? Smoking? Sex? Gambling? Hard Drugs? While other folks were out pursuing these exciting vices during their youth, I was staying inside playing DotA.\n",
    "\n",
    "DotA (short for Defense of the Ancients) is a five versus five online multiplayer strategy videogame, with its origins going all the way back to Blizzard Entertainment's *Warcraft 3* back in 2003. Originally a custom gamemode created by a community member by the name of 'Icefrog' in Warcraft's *Frozen Throne* expansion, DotA grew to be one of [the most played and influential online strategy games of all time](https://www.youtube.com/watch?v=qTsaS1Tm-Ic). With players all over the world playing what was essentially a fan-made spinoff, a competitive scene emmerged and DotA became among the first wave of serious eSports. It pioneered the \"Multiplayer Online Battle Arena\" (MOBA) genre of strategy games, and was subsequently ripped off hard by games like *League of Legends* years afterwards (I had to say it).\n",
    "\n",
    "I started playing the original DotA in middle school, after my best friend helped me download a cracked version of *Frozen Throne* onto my first laptop. DotA is not an easy game - I was bad, for a long time. I wanted to quit many times, but like any great pursuit in life, perseverance eventually earned me some moderate level of success. I didn't completely suck, and the thrill of beating up on players who did was addicting. I spent many of my middle school days and nights neglecting homework to kick ass in DotA; I even have the sweat stains on my laptop to prove it. Those were truly the golden years of my life."
   ]
  },
  {
   "cell_type": "markdown",
   "metadata": {},
   "source": [
    "<div><img src=\"Pictures\\Dota_Laptop1.jpg\"></div>"
   ]
  },
  {
   "cell_type": "markdown",
   "metadata": {},
   "source": [
    "In 2011, Valve Corporation hired on Icefrog to create Dota 2 - a full-fledged, fully-funded sequel to the community mod. Like the second coming of Christ himself, this was a big deal. A public beta for the game dropped in 2012, and my gamer friends and I were among the first initial waves of testers to see the game in a new era. Since its official release in 2013, Dota 2 has grown to be one of the biggest eSports in the world. The day prior to me writing this introduction, a professional team of players (Team Liquid) walked away with \\$10 million dollars for winning *The International*, Valve's seventh annual international Dota 2 tournament.\n",
    "\n",
    "Dota 2 is a great game enjoyed daily by hundreds of thousands of players around the world. Since stats started being tracked on player activity in 2012, I've played 3647 matches. \n",
    "\n",
    "### Why I Quit DotA\n",
    "\n",
    "All things considered, I can't say playing Dota 2 was a fun experience. At least not on average. The game itself is great; looks great, plays great, is fun on paper. Where Dota 2, and DotA in general breaks down is the fact that it is a **team game**. If you want to win, you need your team to, you know, be a team. This requires cooperation, and varying degrees of selflessness and self-sacrifice on behalf of everyone. This is asking too much.\n",
    "\n",
    "In my experience, unless you're playing with a full stack (i.e. a team of people you know) there's roughly a 50/50 chance that your game is going to be garbage. In DotA you don't only have to account for in-game factors like hero drafts, item builds, cooldowns, Rosh timing, and map control, but often other human elements like your teammates' egos, insecurities, lack of understanding, incomprehension of the English language (on North American servers), terrible internet connections, or hamster-powered PCs. In many cases, you are literally **trapped** with your teammates for the full duration of what are often 40 minute long matches. And you can't bail out of these doomsday scenarios without suffering a serious penalty on your account. The only solace in it all is the fact that the other team is likely dealing with the same issues. If I sound jaded to you, that's because I am.\n",
    "\n",
    "What made DotA seriously addicting was the fact that if, amongst all that bullshit, you managed to pull off a win, *you felt like a goddamn champion*.\n",
    "\n",
    "<div><img src=\"Pictures\\rocky.jpg\">\n",
    "\n",
    "Against insurmountable odds, you managed to literally put the rest of your team on your back and carry them to victory. They tried to drag you down - they tried so hard - but you didn't let them. Sure, they got the win too. But you didn't do it for them, you do it for you. Because deep down in your heart you know you're actually good at DotA. And that they're not. And thus lies the problem.\n",
    "\n",
    "Almost **EVERYONE** has this exact mindset. Everyone wants the glory - to be the carry (an actual position, which you'll soon see). Rarely does anyone want to play support, whose job is to put in the necessary groundwork that allows the carries to win their team the game. Players go in with the mindset knowing that their team will likely be trash, and thus it's up to them to finesse and win the game on their own. And often the team does end up being dysunctional and terrible, in large part thanks to their ego demanding that everyone stays out of their way. It's a self-fulfilling prophecy, and when you see it play out for the better half of 3000 games, your soul slowly gets hollowed out. That's why, earlier this year, I quit DotA for good.\n",
    "\n",
    "And just so we're clear, I was exactly like everyone else too. It's what this god-foresaken game turns you into. \\**deep breath*\\*\n",
    "\n",
    "### Why I'm doing this Analysis\n",
    "\n",
    "Since DotA is a team game, the statistics of my individual performance aren't completely reliable indicators on whether I would win a certain match or not. There are also many other variables, such as matchmaking rating, item builds, and gold graphs that are beyond the scope of the data I have available. Given what I do have, I believe it's entirely possible to highlight some relationships between the general elements of my own gameplay.\n",
    "\n",
    "For most of this analysis I'm going to examine the relationship between match result and the other variables in the dataset, since winning is the ultimate goal in each game of DotA. To rephrase as a research question: **which aspects of my gameplay make me more likely to win or lose a match?** My hope for this analysis is provide some statistical evidence for the intuitions I've built up over 3000+ games.\n",
    "\n",
    "For readers who aren't familiar with DotA, [here's a short video that'll give you the gist of what the game is about](https://www.youtube.com/watch?v=Cp8neRiF9-k). To get the most out of this analysis I'm going to go into a moderate amount of detail about gameplay mechanics and general strategy, but I'll explain these things as I go along.\n",
    "\n",
    "Personally, going the history of my Dota 2 career serves as the necessary closure to let go of the game for good. It's a love-hate kind of thing; the lows were so low, but the highs were so high. It'll be fun taking a trip down memory lane, even if all the memories weren't that great.\n",
    "\n",
    "### The Data\n",
    "\n",
    "All of my match data was pulled from [OpenDota](https://www.opendota.com/), an open-source data platform that grabs its data directly from Steam. OpenDota provides a great [API](https://docs.opendota.com/) for developers to build their own applications with. The data I'm working with comes from two GET requests to the API; one for my match data, and one for general hero data. I loaded this data into a MySQL database and exported into a CSV file, which I'll work with using Python's Pandas module. The code I used for all of this can be found [here](https://github.com/billwarker/opendota-analysis)."
   ]
  },
  {
   "cell_type": "markdown",
   "metadata": {},
   "source": [
    "## Loading and Preparing the Data\n",
    "\n",
    "Before I can get into the analysis, things need to be cleaned up a little bit."
   ]
  },
  {
   "cell_type": "code",
   "execution_count": 1,
   "metadata": {
    "collapsed": true
   },
   "outputs": [],
   "source": [
    "### Imports\n",
    "\n",
    "# Data Analysis\n",
    "import pandas as pd\n",
    "pd.options.display.max_columns = 50\n",
    "import datetime # Working with time data\n",
    "import numpy as np\n",
    "\n",
    "# Visualization\n",
    "import matplotlib.pyplot as plt\n",
    "import seaborn as sns\n",
    "% matplotlib inline"
   ]
  },
  {
   "cell_type": "code",
   "execution_count": 2,
   "metadata": {
    "collapsed": false
   },
   "outputs": [
    {
     "data": {
      "text/plain": [
       "Index(['result', 'radiant_win', 'duration', 'start_time', 'game_mode',\n",
       "       'localized_name', 'kills', 'deaths', 'assists', 'primary_attr',\n",
       "       'attack_type', 'carry', 'jungler', 'pusher', 'nuker', 'disabler',\n",
       "       'initiator', 'durable', 'support', 'legs'],\n",
       "      dtype='object')"
      ]
     },
     "execution_count": 2,
     "metadata": {},
     "output_type": "execute_result"
    }
   ],
   "source": [
    "### Load the data\n",
    "data = pd.read_csv('dota_stats_headers.csv')\n",
    "headers = data.columns\n",
    "headers # List of data variables"
   ]
  },
  {
   "cell_type": "markdown",
   "metadata": {},
   "source": [
    "A list of the data variables recorded for each match. Here's what they mean:\n",
    "\n",
    "- **result**: Whether the team I was on won or not. 1 = Win, 0 = Loss.\n",
    "- **radiant_win**: Whether the team on the Radiant side of the map won. 1 = True, 0 = False.\n",
    "- **duration**: How long the match lasted, in seconds.\n",
    "- **start_time**: The exact time the match started, measured in seconds since the Coordinated Universal Time stamp, January 1st, 1970\n",
    "- **game_mode**: The game mode I was playing in. An irrelevant variable that'll be deleted later, since I found OpenDota's API to be unclear on the label encoding used for each mode.\n",
    "- **localized_name**: The name of the hero I played. Will be changed to 'Hero' later for brevity.\n",
    "- **kills**: The number of enemy heroes I killed during the match.\n",
    "- **deaths**: The number of times I died during the match, either to enemy heroes or units, neutral creeps, or suicide.\n",
    "- **assists**: The number of times I assisted a teammate in getting a kill.\n",
    "- **primary_attr**: The primary attribute of my hero. Either agi (agility), int (intelligence), or str (strength).\n",
    "- **attack_type**: How my hero does basic attacks. Either melee or ranged.\n",
    "- **carry**: A hero that is the strongest in the lategame with more experience and items. 1 = Yes, 0 = No (same for all other roles).\n",
    "- **jungler**: A hero that can spend the early game fighting neutral creeps in the jungle to gain experience and gold.\n",
    "- **pusher**: A hero that can quickly push lanes and destroy enemy buildings. \n",
    "- **nuker**: A hero that can cast damage-dealing spells to quickly kill enemy heroes.\n",
    "- **disabler**: A hero that can cast spells to prevent enemy heroes from doing things (e.g. stunning a hero so it can't move or attack, removing its damage, silencing it so it can't cast spells).\n",
    "- **initiator**:A hero that is good at starting and controlling major teamfights.\n",
    "- **durable**: A hero that has a lot of health or armor, allowing it to withstand fights and take a lot of damage.\n",
    "- **support**: A hero that has a lot of spells useful for helping out the team, either by healing or strengthening allies. Often delegated to buy support items (i.e. wards, dust) for the team.\n",
    "- **legs**: The number of legs my hero has. (Irrelevant?)"
   ]
  },
  {
   "cell_type": "markdown",
   "metadata": {},
   "source": [
    "First things first - how many games did I play?"
   ]
  },
  {
   "cell_type": "code",
   "execution_count": 3,
   "metadata": {
    "collapsed": false
   },
   "outputs": [
    {
     "data": {
      "text/plain": [
       "3647"
      ]
     },
     "execution_count": 3,
     "metadata": {},
     "output_type": "execute_result"
    }
   ],
   "source": [
    "total_games = len(data)\n",
    "total_games"
   ]
  },
  {
   "cell_type": "markdown",
   "metadata": {},
   "source": [
    "*Goddamn!*"
   ]
  },
  {
   "cell_type": "code",
   "execution_count": 4,
   "metadata": {
    "collapsed": false
   },
   "outputs": [],
   "source": [
    "headers_list = list(headers)\n",
    "headers_list[5] = 'hero' # change 'localized_named' to 'hero'\n",
    "data.columns = headers_list"
   ]
  },
  {
   "cell_type": "markdown",
   "metadata": {},
   "source": [
    "Here's what the head (first 5 rows) of the data looks like. The data is stored in a pandas DataFrame object."
   ]
  },
  {
   "cell_type": "code",
   "execution_count": 5,
   "metadata": {
    "collapsed": false,
    "scrolled": true
   },
   "outputs": [
    {
     "data": {
      "text/html": [
       "<div>\n",
       "<table border=\"1\" class=\"dataframe\">\n",
       "  <thead>\n",
       "    <tr style=\"text-align: right;\">\n",
       "      <th></th>\n",
       "      <th>result</th>\n",
       "      <th>radiant_win</th>\n",
       "      <th>duration</th>\n",
       "      <th>start_time</th>\n",
       "      <th>game_mode</th>\n",
       "      <th>hero</th>\n",
       "      <th>kills</th>\n",
       "      <th>deaths</th>\n",
       "      <th>assists</th>\n",
       "      <th>primary_attr</th>\n",
       "      <th>attack_type</th>\n",
       "      <th>carry</th>\n",
       "      <th>jungler</th>\n",
       "      <th>pusher</th>\n",
       "      <th>nuker</th>\n",
       "      <th>disabler</th>\n",
       "      <th>initiator</th>\n",
       "      <th>durable</th>\n",
       "      <th>support</th>\n",
       "      <th>legs</th>\n",
       "    </tr>\n",
       "  </thead>\n",
       "  <tbody>\n",
       "    <tr>\n",
       "      <th>0</th>\n",
       "      <td>1</td>\n",
       "      <td>0</td>\n",
       "      <td>1588</td>\n",
       "      <td>1331087702</td>\n",
       "      <td>0</td>\n",
       "      <td>Sand King</td>\n",
       "      <td>5</td>\n",
       "      <td>4</td>\n",
       "      <td>7</td>\n",
       "      <td>str</td>\n",
       "      <td>Melee</td>\n",
       "      <td>0</td>\n",
       "      <td>1</td>\n",
       "      <td>0</td>\n",
       "      <td>1</td>\n",
       "      <td>1</td>\n",
       "      <td>1</td>\n",
       "      <td>0</td>\n",
       "      <td>0</td>\n",
       "      <td>6</td>\n",
       "    </tr>\n",
       "    <tr>\n",
       "      <th>1</th>\n",
       "      <td>1</td>\n",
       "      <td>1</td>\n",
       "      <td>2754</td>\n",
       "      <td>1331096627</td>\n",
       "      <td>0</td>\n",
       "      <td>Razor</td>\n",
       "      <td>20</td>\n",
       "      <td>8</td>\n",
       "      <td>22</td>\n",
       "      <td>agi</td>\n",
       "      <td>Ranged</td>\n",
       "      <td>1</td>\n",
       "      <td>0</td>\n",
       "      <td>1</td>\n",
       "      <td>1</td>\n",
       "      <td>0</td>\n",
       "      <td>0</td>\n",
       "      <td>1</td>\n",
       "      <td>0</td>\n",
       "      <td>0</td>\n",
       "    </tr>\n",
       "    <tr>\n",
       "      <th>2</th>\n",
       "      <td>0</td>\n",
       "      <td>1</td>\n",
       "      <td>3321</td>\n",
       "      <td>1331153730</td>\n",
       "      <td>0</td>\n",
       "      <td>Razor</td>\n",
       "      <td>6</td>\n",
       "      <td>6</td>\n",
       "      <td>25</td>\n",
       "      <td>agi</td>\n",
       "      <td>Ranged</td>\n",
       "      <td>1</td>\n",
       "      <td>0</td>\n",
       "      <td>1</td>\n",
       "      <td>1</td>\n",
       "      <td>0</td>\n",
       "      <td>0</td>\n",
       "      <td>1</td>\n",
       "      <td>0</td>\n",
       "      <td>0</td>\n",
       "    </tr>\n",
       "    <tr>\n",
       "      <th>3</th>\n",
       "      <td>1</td>\n",
       "      <td>1</td>\n",
       "      <td>3569</td>\n",
       "      <td>1331159297</td>\n",
       "      <td>0</td>\n",
       "      <td>Storm Spirit</td>\n",
       "      <td>12</td>\n",
       "      <td>7</td>\n",
       "      <td>13</td>\n",
       "      <td>int</td>\n",
       "      <td>Ranged</td>\n",
       "      <td>1</td>\n",
       "      <td>0</td>\n",
       "      <td>0</td>\n",
       "      <td>1</td>\n",
       "      <td>1</td>\n",
       "      <td>1</td>\n",
       "      <td>0</td>\n",
       "      <td>0</td>\n",
       "      <td>2</td>\n",
       "    </tr>\n",
       "    <tr>\n",
       "      <th>4</th>\n",
       "      <td>0</td>\n",
       "      <td>0</td>\n",
       "      <td>3993</td>\n",
       "      <td>1331170894</td>\n",
       "      <td>0</td>\n",
       "      <td>Night Stalker</td>\n",
       "      <td>15</td>\n",
       "      <td>11</td>\n",
       "      <td>16</td>\n",
       "      <td>str</td>\n",
       "      <td>Melee</td>\n",
       "      <td>1</td>\n",
       "      <td>0</td>\n",
       "      <td>0</td>\n",
       "      <td>1</td>\n",
       "      <td>1</td>\n",
       "      <td>1</td>\n",
       "      <td>1</td>\n",
       "      <td>0</td>\n",
       "      <td>2</td>\n",
       "    </tr>\n",
       "  </tbody>\n",
       "</table>\n",
       "</div>"
      ],
      "text/plain": [
       "   result  radiant_win  duration  start_time  game_mode           hero  kills  \\\n",
       "0       1            0      1588  1331087702          0      Sand King      5   \n",
       "1       1            1      2754  1331096627          0          Razor     20   \n",
       "2       0            1      3321  1331153730          0          Razor      6   \n",
       "3       1            1      3569  1331159297          0   Storm Spirit     12   \n",
       "4       0            0      3993  1331170894          0  Night Stalker     15   \n",
       "\n",
       "   deaths  assists primary_attr attack_type  carry  jungler  pusher  nuker  \\\n",
       "0       4        7          str       Melee      0        1       0      1   \n",
       "1       8       22          agi      Ranged      1        0       1      1   \n",
       "2       6       25          agi      Ranged      1        0       1      1   \n",
       "3       7       13          int      Ranged      1        0       0      1   \n",
       "4      11       16          str       Melee      1        0       0      1   \n",
       "\n",
       "   disabler  initiator  durable  support  legs  \n",
       "0         1          1        0        0     6  \n",
       "1         0          0        1        0     0  \n",
       "2         0          0        1        0     0  \n",
       "3         1          1        0        0     2  \n",
       "4         1          1        1        0     2  "
      ]
     },
     "execution_count": 5,
     "metadata": {},
     "output_type": "execute_result"
    }
   ],
   "source": [
    "data.head()"
   ]
  },
  {
   "cell_type": "markdown",
   "metadata": {},
   "source": [
    "It's not ready for analysis yet - there are a few useful things we can add and clean up."
   ]
  },
  {
   "cell_type": "code",
   "execution_count": 6,
   "metadata": {
    "collapsed": true
   },
   "outputs": [],
   "source": [
    "data['duration'] = round(data['duration'] / 60)"
   ]
  },
  {
   "cell_type": "markdown",
   "metadata": {},
   "source": [
    "First, we convert the match duration from seconds to minutes. Next, we'll use Python's **datetime** module to take the **start_time** timestamp data and move it into new **year**, **month**, **day**, and **hour** variables in the DataFrame."
   ]
  },
  {
   "cell_type": "code",
   "execution_count": 7,
   "metadata": {
    "collapsed": false
   },
   "outputs": [],
   "source": [
    "year = []\n",
    "month = []\n",
    "day = []\n",
    "hour = []\n",
    "for ix in data['start_time'].index:\n",
    "    ts = datetime.datetime.fromtimestamp((data['start_time'][ix]))\n",
    "    year.append(ts.year)\n",
    "    month.append(ts.month)\n",
    "    day.append(ts.day)\n",
    "    hour.append(ts.hour)\n",
    "data.insert(3, 'year', year)\n",
    "data.insert(4, 'month', month)\n",
    "data.insert(5, 'day', day)\n",
    "data.insert(6, 'hour', hour)\n",
    "data.drop('start_time', axis=1, inplace=True)"
   ]
  },
  {
   "cell_type": "markdown",
   "metadata": {},
   "source": [
    "Here's what the DataFrame looks like with our time variables properly formatted:"
   ]
  },
  {
   "cell_type": "code",
   "execution_count": 8,
   "metadata": {
    "collapsed": false
   },
   "outputs": [
    {
     "data": {
      "text/html": [
       "<div>\n",
       "<table border=\"1\" class=\"dataframe\">\n",
       "  <thead>\n",
       "    <tr style=\"text-align: right;\">\n",
       "      <th></th>\n",
       "      <th>result</th>\n",
       "      <th>radiant_win</th>\n",
       "      <th>duration</th>\n",
       "      <th>year</th>\n",
       "      <th>month</th>\n",
       "      <th>day</th>\n",
       "      <th>hour</th>\n",
       "      <th>game_mode</th>\n",
       "      <th>hero</th>\n",
       "      <th>kills</th>\n",
       "      <th>deaths</th>\n",
       "      <th>assists</th>\n",
       "      <th>primary_attr</th>\n",
       "      <th>attack_type</th>\n",
       "      <th>carry</th>\n",
       "      <th>jungler</th>\n",
       "      <th>pusher</th>\n",
       "      <th>nuker</th>\n",
       "      <th>disabler</th>\n",
       "      <th>initiator</th>\n",
       "      <th>durable</th>\n",
       "      <th>support</th>\n",
       "      <th>legs</th>\n",
       "    </tr>\n",
       "  </thead>\n",
       "  <tbody>\n",
       "    <tr>\n",
       "      <th>0</th>\n",
       "      <td>1</td>\n",
       "      <td>0</td>\n",
       "      <td>26.0</td>\n",
       "      <td>2012</td>\n",
       "      <td>3</td>\n",
       "      <td>6</td>\n",
       "      <td>21</td>\n",
       "      <td>0</td>\n",
       "      <td>Sand King</td>\n",
       "      <td>5</td>\n",
       "      <td>4</td>\n",
       "      <td>7</td>\n",
       "      <td>str</td>\n",
       "      <td>Melee</td>\n",
       "      <td>0</td>\n",
       "      <td>1</td>\n",
       "      <td>0</td>\n",
       "      <td>1</td>\n",
       "      <td>1</td>\n",
       "      <td>1</td>\n",
       "      <td>0</td>\n",
       "      <td>0</td>\n",
       "      <td>6</td>\n",
       "    </tr>\n",
       "    <tr>\n",
       "      <th>1</th>\n",
       "      <td>1</td>\n",
       "      <td>1</td>\n",
       "      <td>46.0</td>\n",
       "      <td>2012</td>\n",
       "      <td>3</td>\n",
       "      <td>7</td>\n",
       "      <td>0</td>\n",
       "      <td>0</td>\n",
       "      <td>Razor</td>\n",
       "      <td>20</td>\n",
       "      <td>8</td>\n",
       "      <td>22</td>\n",
       "      <td>agi</td>\n",
       "      <td>Ranged</td>\n",
       "      <td>1</td>\n",
       "      <td>0</td>\n",
       "      <td>1</td>\n",
       "      <td>1</td>\n",
       "      <td>0</td>\n",
       "      <td>0</td>\n",
       "      <td>1</td>\n",
       "      <td>0</td>\n",
       "      <td>0</td>\n",
       "    </tr>\n",
       "    <tr>\n",
       "      <th>2</th>\n",
       "      <td>0</td>\n",
       "      <td>1</td>\n",
       "      <td>55.0</td>\n",
       "      <td>2012</td>\n",
       "      <td>3</td>\n",
       "      <td>7</td>\n",
       "      <td>15</td>\n",
       "      <td>0</td>\n",
       "      <td>Razor</td>\n",
       "      <td>6</td>\n",
       "      <td>6</td>\n",
       "      <td>25</td>\n",
       "      <td>agi</td>\n",
       "      <td>Ranged</td>\n",
       "      <td>1</td>\n",
       "      <td>0</td>\n",
       "      <td>1</td>\n",
       "      <td>1</td>\n",
       "      <td>0</td>\n",
       "      <td>0</td>\n",
       "      <td>1</td>\n",
       "      <td>0</td>\n",
       "      <td>0</td>\n",
       "    </tr>\n",
       "    <tr>\n",
       "      <th>3</th>\n",
       "      <td>1</td>\n",
       "      <td>1</td>\n",
       "      <td>59.0</td>\n",
       "      <td>2012</td>\n",
       "      <td>3</td>\n",
       "      <td>7</td>\n",
       "      <td>17</td>\n",
       "      <td>0</td>\n",
       "      <td>Storm Spirit</td>\n",
       "      <td>12</td>\n",
       "      <td>7</td>\n",
       "      <td>13</td>\n",
       "      <td>int</td>\n",
       "      <td>Ranged</td>\n",
       "      <td>1</td>\n",
       "      <td>0</td>\n",
       "      <td>0</td>\n",
       "      <td>1</td>\n",
       "      <td>1</td>\n",
       "      <td>1</td>\n",
       "      <td>0</td>\n",
       "      <td>0</td>\n",
       "      <td>2</td>\n",
       "    </tr>\n",
       "    <tr>\n",
       "      <th>4</th>\n",
       "      <td>0</td>\n",
       "      <td>0</td>\n",
       "      <td>67.0</td>\n",
       "      <td>2012</td>\n",
       "      <td>3</td>\n",
       "      <td>7</td>\n",
       "      <td>20</td>\n",
       "      <td>0</td>\n",
       "      <td>Night Stalker</td>\n",
       "      <td>15</td>\n",
       "      <td>11</td>\n",
       "      <td>16</td>\n",
       "      <td>str</td>\n",
       "      <td>Melee</td>\n",
       "      <td>1</td>\n",
       "      <td>0</td>\n",
       "      <td>0</td>\n",
       "      <td>1</td>\n",
       "      <td>1</td>\n",
       "      <td>1</td>\n",
       "      <td>1</td>\n",
       "      <td>0</td>\n",
       "      <td>2</td>\n",
       "    </tr>\n",
       "  </tbody>\n",
       "</table>\n",
       "</div>"
      ],
      "text/plain": [
       "   result  radiant_win  duration  year  month  day  hour  game_mode  \\\n",
       "0       1            0      26.0  2012      3    6    21          0   \n",
       "1       1            1      46.0  2012      3    7     0          0   \n",
       "2       0            1      55.0  2012      3    7    15          0   \n",
       "3       1            1      59.0  2012      3    7    17          0   \n",
       "4       0            0      67.0  2012      3    7    20          0   \n",
       "\n",
       "            hero  kills  deaths  assists primary_attr attack_type  carry  \\\n",
       "0      Sand King      5       4        7          str       Melee      0   \n",
       "1          Razor     20       8       22          agi      Ranged      1   \n",
       "2          Razor      6       6       25          agi      Ranged      1   \n",
       "3   Storm Spirit     12       7       13          int      Ranged      1   \n",
       "4  Night Stalker     15      11       16          str       Melee      1   \n",
       "\n",
       "   jungler  pusher  nuker  disabler  initiator  durable  support  legs  \n",
       "0        1       0      1         1          1        0        0     6  \n",
       "1        0       1      1         0          0        1        0     0  \n",
       "2        0       1      1         0          0        1        0     0  \n",
       "3        0       0      1         1          1        0        0     2  \n",
       "4        0       0      1         1          1        1        0     2  "
      ]
     },
     "execution_count": 8,
     "metadata": {},
     "output_type": "execute_result"
    }
   ],
   "source": [
    "data.head()"
   ]
  },
  {
   "cell_type": "markdown",
   "metadata": {},
   "source": [
    "Next, we're going to split the values in both **primary_attr** and **attack_type** into new respective variables, to make things easier for manipulation later in analysis. This adds the columns **agi**, **int**, **str**, **melee**, and **ranged** to the DataFrame."
   ]
  },
  {
   "cell_type": "code",
   "execution_count": 9,
   "metadata": {
    "collapsed": false
   },
   "outputs": [],
   "source": [
    "primary_attr = pd.get_dummies(data['primary_attr'])\n",
    "attack_type = pd.get_dummies(data['attack_type'])\n",
    "data = pd.concat([data, primary_attr, attack_type], axis=1)"
   ]
  },
  {
   "cell_type": "markdown",
   "metadata": {},
   "source": [
    "Now we add two new variables into the DataFrame: Kill/Death Ratio (**kdr**) and Kill/Death/Assist Ratio (**kda**). These are aggregates of the **kill**, **death**, and **assist** variables which provide good descriptive values to the balance of the three scored in each match.\n",
    "\n",
    "**Kill/Death Ratio** = $kills/deaths$\n",
    "\n",
    "**Kill/Death/Assist Ratio** = $(kills + assists)/deaths$"
   ]
  },
  {
   "cell_type": "code",
   "execution_count": 10,
   "metadata": {
    "collapsed": false,
    "scrolled": true
   },
   "outputs": [],
   "source": [
    "kda = (data['kills'] + data['assists'])/data['deaths']\n",
    "kdr = data['kills']/data['deaths']\n",
    "data.insert(13, 'kda', kda)\n",
    "data.insert(14, 'kdr', kdr)"
   ]
  },
  {
   "cell_type": "markdown",
   "metadata": {},
   "source": [
    "There were some matches I played where I never died once (impressive, eh?). This will throw the **kdr** and **kda** ratios off for these matches however, since there'll be a division by 0. To mitigate this, for matches where I didn't die, we adjust the ratios to divide by 1 instead."
   ]
  },
  {
   "cell_type": "code",
   "execution_count": 11,
   "metadata": {
    "collapsed": false,
    "scrolled": true
   },
   "outputs": [
    {
     "name": "stderr",
     "output_type": "stream",
     "text": [
      "C:\\Users\\Will\\Anaconda3\\lib\\site-packages\\ipykernel\\__main__.py:1: SettingWithCopyWarning: \n",
      "A value is trying to be set on a copy of a slice from a DataFrame\n",
      "\n",
      "See the caveats in the documentation: http://pandas.pydata.org/pandas-docs/stable/indexing.html#indexing-view-versus-copy\n",
      "  if __name__ == '__main__':\n",
      "C:\\Users\\Will\\Anaconda3\\lib\\site-packages\\ipykernel\\__main__.py:2: SettingWithCopyWarning: \n",
      "A value is trying to be set on a copy of a slice from a DataFrame\n",
      "\n",
      "See the caveats in the documentation: http://pandas.pydata.org/pandas-docs/stable/indexing.html#indexing-view-versus-copy\n",
      "  from ipykernel import kernelapp as app\n"
     ]
    }
   ],
   "source": [
    "data.kdr[data.deaths == 0] = data.kills[data.deaths == 0] / 1\n",
    "data.kda[data.deaths == 0] = (data.kills[data.deaths == 0] + data.assists[data.deaths == 0]) / 1"
   ]
  },
  {
   "cell_type": "markdown",
   "metadata": {},
   "source": [
    "Finally, let's drop **game_mode**, since it offers no valuable insight for this analysis. The vast majority of my games (atleast (~95% by my estimation) were played in All Pick Mode, where players can directly pick the hero they want to play for the match."
   ]
  },
  {
   "cell_type": "code",
   "execution_count": 12,
   "metadata": {
    "collapsed": false
   },
   "outputs": [],
   "source": [
    "data.drop(['game_mode'], axis=1, inplace=True)"
   ]
  },
  {
   "cell_type": "markdown",
   "metadata": {},
   "source": [
    "With these adjustments made, we're finally ready to start looking at the data. Here is the completed DataFrame:"
   ]
  },
  {
   "cell_type": "code",
   "execution_count": 13,
   "metadata": {
    "collapsed": false,
    "scrolled": true
   },
   "outputs": [
    {
     "data": {
      "text/html": [
       "<div>\n",
       "<table border=\"1\" class=\"dataframe\">\n",
       "  <thead>\n",
       "    <tr style=\"text-align: right;\">\n",
       "      <th></th>\n",
       "      <th>result</th>\n",
       "      <th>radiant_win</th>\n",
       "      <th>duration</th>\n",
       "      <th>year</th>\n",
       "      <th>month</th>\n",
       "      <th>day</th>\n",
       "      <th>hour</th>\n",
       "      <th>hero</th>\n",
       "      <th>kills</th>\n",
       "      <th>deaths</th>\n",
       "      <th>assists</th>\n",
       "      <th>primary_attr</th>\n",
       "      <th>kda</th>\n",
       "      <th>kdr</th>\n",
       "      <th>attack_type</th>\n",
       "      <th>carry</th>\n",
       "      <th>jungler</th>\n",
       "      <th>pusher</th>\n",
       "      <th>nuker</th>\n",
       "      <th>disabler</th>\n",
       "      <th>initiator</th>\n",
       "      <th>durable</th>\n",
       "      <th>support</th>\n",
       "      <th>legs</th>\n",
       "      <th>agi</th>\n",
       "      <th>int</th>\n",
       "      <th>str</th>\n",
       "      <th>Melee</th>\n",
       "      <th>Ranged</th>\n",
       "    </tr>\n",
       "  </thead>\n",
       "  <tbody>\n",
       "    <tr>\n",
       "      <th>0</th>\n",
       "      <td>1</td>\n",
       "      <td>0</td>\n",
       "      <td>26.0</td>\n",
       "      <td>2012</td>\n",
       "      <td>3</td>\n",
       "      <td>6</td>\n",
       "      <td>21</td>\n",
       "      <td>Sand King</td>\n",
       "      <td>5</td>\n",
       "      <td>4</td>\n",
       "      <td>7</td>\n",
       "      <td>str</td>\n",
       "      <td>3.000000</td>\n",
       "      <td>1.250000</td>\n",
       "      <td>Melee</td>\n",
       "      <td>0</td>\n",
       "      <td>1</td>\n",
       "      <td>0</td>\n",
       "      <td>1</td>\n",
       "      <td>1</td>\n",
       "      <td>1</td>\n",
       "      <td>0</td>\n",
       "      <td>0</td>\n",
       "      <td>6</td>\n",
       "      <td>0</td>\n",
       "      <td>0</td>\n",
       "      <td>1</td>\n",
       "      <td>1</td>\n",
       "      <td>0</td>\n",
       "    </tr>\n",
       "    <tr>\n",
       "      <th>1</th>\n",
       "      <td>1</td>\n",
       "      <td>1</td>\n",
       "      <td>46.0</td>\n",
       "      <td>2012</td>\n",
       "      <td>3</td>\n",
       "      <td>7</td>\n",
       "      <td>0</td>\n",
       "      <td>Razor</td>\n",
       "      <td>20</td>\n",
       "      <td>8</td>\n",
       "      <td>22</td>\n",
       "      <td>agi</td>\n",
       "      <td>5.250000</td>\n",
       "      <td>2.500000</td>\n",
       "      <td>Ranged</td>\n",
       "      <td>1</td>\n",
       "      <td>0</td>\n",
       "      <td>1</td>\n",
       "      <td>1</td>\n",
       "      <td>0</td>\n",
       "      <td>0</td>\n",
       "      <td>1</td>\n",
       "      <td>0</td>\n",
       "      <td>0</td>\n",
       "      <td>1</td>\n",
       "      <td>0</td>\n",
       "      <td>0</td>\n",
       "      <td>0</td>\n",
       "      <td>1</td>\n",
       "    </tr>\n",
       "    <tr>\n",
       "      <th>2</th>\n",
       "      <td>0</td>\n",
       "      <td>1</td>\n",
       "      <td>55.0</td>\n",
       "      <td>2012</td>\n",
       "      <td>3</td>\n",
       "      <td>7</td>\n",
       "      <td>15</td>\n",
       "      <td>Razor</td>\n",
       "      <td>6</td>\n",
       "      <td>6</td>\n",
       "      <td>25</td>\n",
       "      <td>agi</td>\n",
       "      <td>5.166667</td>\n",
       "      <td>1.000000</td>\n",
       "      <td>Ranged</td>\n",
       "      <td>1</td>\n",
       "      <td>0</td>\n",
       "      <td>1</td>\n",
       "      <td>1</td>\n",
       "      <td>0</td>\n",
       "      <td>0</td>\n",
       "      <td>1</td>\n",
       "      <td>0</td>\n",
       "      <td>0</td>\n",
       "      <td>1</td>\n",
       "      <td>0</td>\n",
       "      <td>0</td>\n",
       "      <td>0</td>\n",
       "      <td>1</td>\n",
       "    </tr>\n",
       "    <tr>\n",
       "      <th>3</th>\n",
       "      <td>1</td>\n",
       "      <td>1</td>\n",
       "      <td>59.0</td>\n",
       "      <td>2012</td>\n",
       "      <td>3</td>\n",
       "      <td>7</td>\n",
       "      <td>17</td>\n",
       "      <td>Storm Spirit</td>\n",
       "      <td>12</td>\n",
       "      <td>7</td>\n",
       "      <td>13</td>\n",
       "      <td>int</td>\n",
       "      <td>3.571429</td>\n",
       "      <td>1.714286</td>\n",
       "      <td>Ranged</td>\n",
       "      <td>1</td>\n",
       "      <td>0</td>\n",
       "      <td>0</td>\n",
       "      <td>1</td>\n",
       "      <td>1</td>\n",
       "      <td>1</td>\n",
       "      <td>0</td>\n",
       "      <td>0</td>\n",
       "      <td>2</td>\n",
       "      <td>0</td>\n",
       "      <td>1</td>\n",
       "      <td>0</td>\n",
       "      <td>0</td>\n",
       "      <td>1</td>\n",
       "    </tr>\n",
       "    <tr>\n",
       "      <th>4</th>\n",
       "      <td>0</td>\n",
       "      <td>0</td>\n",
       "      <td>67.0</td>\n",
       "      <td>2012</td>\n",
       "      <td>3</td>\n",
       "      <td>7</td>\n",
       "      <td>20</td>\n",
       "      <td>Night Stalker</td>\n",
       "      <td>15</td>\n",
       "      <td>11</td>\n",
       "      <td>16</td>\n",
       "      <td>str</td>\n",
       "      <td>2.818182</td>\n",
       "      <td>1.363636</td>\n",
       "      <td>Melee</td>\n",
       "      <td>1</td>\n",
       "      <td>0</td>\n",
       "      <td>0</td>\n",
       "      <td>1</td>\n",
       "      <td>1</td>\n",
       "      <td>1</td>\n",
       "      <td>1</td>\n",
       "      <td>0</td>\n",
       "      <td>2</td>\n",
       "      <td>0</td>\n",
       "      <td>0</td>\n",
       "      <td>1</td>\n",
       "      <td>1</td>\n",
       "      <td>0</td>\n",
       "    </tr>\n",
       "  </tbody>\n",
       "</table>\n",
       "</div>"
      ],
      "text/plain": [
       "   result  radiant_win  duration  year  month  day  hour           hero  \\\n",
       "0       1            0      26.0  2012      3    6    21      Sand King   \n",
       "1       1            1      46.0  2012      3    7     0          Razor   \n",
       "2       0            1      55.0  2012      3    7    15          Razor   \n",
       "3       1            1      59.0  2012      3    7    17   Storm Spirit   \n",
       "4       0            0      67.0  2012      3    7    20  Night Stalker   \n",
       "\n",
       "   kills  deaths  assists primary_attr       kda       kdr attack_type  carry  \\\n",
       "0      5       4        7          str  3.000000  1.250000       Melee      0   \n",
       "1     20       8       22          agi  5.250000  2.500000      Ranged      1   \n",
       "2      6       6       25          agi  5.166667  1.000000      Ranged      1   \n",
       "3     12       7       13          int  3.571429  1.714286      Ranged      1   \n",
       "4     15      11       16          str  2.818182  1.363636       Melee      1   \n",
       "\n",
       "   jungler  pusher  nuker  disabler  initiator  durable  support  legs  agi  \\\n",
       "0        1       0      1         1          1        0        0     6    0   \n",
       "1        0       1      1         0          0        1        0     0    1   \n",
       "2        0       1      1         0          0        1        0     0    1   \n",
       "3        0       0      1         1          1        0        0     2    0   \n",
       "4        0       0      1         1          1        1        0     2    0   \n",
       "\n",
       "   int  str  Melee  Ranged  \n",
       "0    0    1      1       0  \n",
       "1    0    0      0       1  \n",
       "2    0    0      0       1  \n",
       "3    1    0      0       1  \n",
       "4    0    1      1       0  "
      ]
     },
     "execution_count": 13,
     "metadata": {},
     "output_type": "execute_result"
    }
   ],
   "source": [
    "data.head()"
   ]
  },
  {
   "cell_type": "markdown",
   "metadata": {},
   "source": [
    "## Analysis\n",
    "\n",
    "### Win/Loss Ratio\n",
    "\n",
    "First things first; the ultimate measure of whether you're a scrub or a pro... A legend or a mockery... The Win/Loss Ratio."
   ]
  },
  {
   "cell_type": "code",
   "execution_count": 14,
   "metadata": {
    "collapsed": false
   },
   "outputs": [
    {
     "name": "stdout",
     "output_type": "stream",
     "text": [
      "Wins: 1810 (49.6%)\n",
      "Losses: 1837 (50.4%)\n"
     ]
    }
   ],
   "source": [
    "wins = len(data[data['result'] == 1])\n",
    "wins_pct = round(wins/total_games, 3) * 100\n",
    "losses = len(data[data['result'] == 0])\n",
    "losses_pct = round(losses/total_games, 3) * 100\n",
    "\n",
    "print('Wins: {} ({}%)'.format(wins, wins_pct))\n",
    "print('Losses: {} ({}%)'.format(losses, losses_pct))"
   ]
  },
  {
   "cell_type": "markdown",
   "metadata": {},
   "source": [
    "On average, I'm (ever so slightly more often) a ***LOSER!*** In all seriousness, I'm not some DotA pro, so it makes sense to have such an average W/L. Sometimes you win, sometimes you don't. Approximately half of the time."
   ]
  },
  {
   "cell_type": "code",
   "execution_count": 15,
   "metadata": {
    "collapsed": false
   },
   "outputs": [],
   "source": [
    "wins_and_losses = data['result'].value_counts()"
   ]
  },
  {
   "cell_type": "code",
   "execution_count": 16,
   "metadata": {
    "collapsed": false
   },
   "outputs": [],
   "source": [
    "## nifty function to annotate barplots\n",
    "def annotate(horizontal=False):\n",
    "    ax = plt.gca()    \n",
    "    for p in ax.patches:\n",
    "        ax.text(p.get_x() + p.get_width()/2., p.get_height() + 5, '%d' % int(p.get_height()), \n",
    "            fontsize=12, ha='center', va='bottom')"
   ]
  },
  {
   "cell_type": "code",
   "execution_count": 17,
   "metadata": {
    "collapsed": false,
    "scrolled": false
   },
   "outputs": [
    {
     "data": {
      "image/png": "[encoded data removed]",
      "text/plain": [
       "<matplotlib.figure.Figure at 0x2911322afd0>"
      ]
     },
     "metadata": {},
     "output_type": "display_data"
    }
   ],
   "source": [
    "plt.figure(figsize=(18,8))\n",
    "sns.barplot(wins_and_losses.index, wins_and_losses.values)\n",
    "annotate()"
   ]
  },
  {
   "cell_type": "markdown",
   "metadata": {},
   "source": [
    "Looks pretty close!"
   ]
  },
  {
   "cell_type": "markdown",
   "metadata": {},
   "source": [
    "### Radiant/Dire Advantage\n",
    "\n",
    "In Dota, you play on one of two teams: the Radiant or the Dire. There's no difference between being on either team except for the fact that the battlefield both teams play on is slightly asymmetrical. Let's take a look at the maps of an older version of DotA, and the map currently played in the latest version:"
   ]
  },
  {
   "cell_type": "markdown",
   "metadata": {},
   "source": [
    "<div style=\"float:left\"><img src=\"Pictures\\dotamap_688cc.jpg\"><center>Dota Map, Patch 6.88</center></div>\n",
    "<div><img src=\"Pictures\\dotamap_7.jpg\"><center>Dota Map, Patch 7.00 (Current)</center></div>\n"
   ]
  },
  {
   "cell_type": "markdown",
   "metadata": {},
   "source": [
    "For a long time there was the conventional wisdom that the Dire team had a slight advantage as Roshan (a powerful monster on the map which drops an item that revives heroes) was on their side of the river that intersects the map. [This has been disproven however](https://www.joindota.com/en/news/29115-the-roshan-myth-debunking-the-dire-side-advantage), and the general consensus is that there is no substantive advantage that comes with being on a specific team. In theory, this should be reflected in my match results:"
   ]
  },
  {
   "cell_type": "code",
   "execution_count": 18,
   "metadata": {
    "collapsed": false,
    "scrolled": false
   },
   "outputs": [
    {
     "data": {
      "image/png": "[encoded data removed]",
      "text/plain": [
       "<matplotlib.figure.Figure at 0x291151736d8>"
      ]
     },
     "metadata": {},
     "output_type": "display_data"
    }
   ],
   "source": [
    "radiant_wins = data['radiant_win'].value_counts()\n",
    "\n",
    "plt.figure(figsize=(18,8))\n",
    "sns.barplot(['Radiant Win', 'Dire Win'], radiant_wins.values)\n",
    "annotate()"
   ]
  },
  {
   "cell_type": "code",
   "execution_count": 19,
   "metadata": {
    "collapsed": false
   },
   "outputs": [
    {
     "name": "stdout",
     "output_type": "stream",
     "text": [
      "Radiant Win %: 0.523718124486\n",
      "Dire Win %: 0.476281875514\n"
     ]
    }
   ],
   "source": [
    "print('Radiant Win %:', radiant_wins[1]/len(data))\n",
    "print('Dire Win %:', radiant_wins[0]/len(data))"
   ]
  },
  {
   "cell_type": "markdown",
   "metadata": {},
   "source": [
    "There appears to be a slight advantage to being on the Radiant side. Some reasons to why this might be can be found in the article linked above!"
   ]
  },
  {
   "cell_type": "markdown",
   "metadata": {},
   "source": [
    "### Numerical Distributions\n",
    "\n",
    "While Win/Loss and Radiant/Dire Advantage are interesting to look at, whether you win or lose in DotA is a result of your team - the sum is greater than the parts. Focusing more on my personal performance, a good place to start is the distribution of some numerical variables in the dataset. A boxplot will show where the first quartile, median, third quartile, and outliers lie for a given dimension. What I've decided to plot below are the most interesting aspects to investigate: **duration**, **kills**, **deaths**, **assists**, **kdr**, **kda**."
   ]
  },
  {
   "cell_type": "code",
   "execution_count": 20,
   "metadata": {
    "collapsed": false,
    "scrolled": false
   },
   "outputs": [
    {
     "data": {
      "text/plain": [
       "<matplotlib.axes._subplots.AxesSubplot at 0x29115926a90>"
      ]
     },
     "execution_count": 20,
     "metadata": {},
     "output_type": "execute_result"
    },
    {
     "data": {
      "image/png": "[encoded data removed]",
      "text/plain": [
       "<matplotlib.figure.Figure at 0x291155bb710>"
      ]
     },
     "metadata": {},
     "output_type": "display_data"
    }
   ],
   "source": [
    "plt.figure(figsize=(18,12))\n",
    "plt.subplot(2,3,1)\n",
    "sns.boxplot(y=data['duration'])\n",
    "\n",
    "plt.subplot(2,3,2)\n",
    "sns.boxplot(y=data['kills'])\n",
    "\n",
    "plt.subplot(2,3,3)\n",
    "sns.boxplot(y=data['deaths'])\n",
    "\n",
    "plt.subplot(2,3,4)\n",
    "sns.boxplot(y=data['assists'])\n",
    "\n",
    "plt.subplot(2,3,5)\n",
    "sns.boxplot(y=data['kdr'])\n",
    "\n",
    "plt.subplot(2,3,6)\n",
    "sns.boxplot(y=data['kda'])"
   ]
  },
  {
   "cell_type": "markdown",
   "metadata": {},
   "source": [
    "This same data can be displayed in a table through pandas' **describe** function:"
   ]
  },
  {
   "cell_type": "code",
   "execution_count": 21,
   "metadata": {
    "collapsed": false,
    "scrolled": true
   },
   "outputs": [
    {
     "data": {
      "text/html": [
       "<div>\n",
       "<table border=\"1\" class=\"dataframe\">\n",
       "  <thead>\n",
       "    <tr style=\"text-align: right;\">\n",
       "      <th></th>\n",
       "      <th>result</th>\n",
       "      <th>radiant_win</th>\n",
       "      <th>duration</th>\n",
       "      <th>year</th>\n",
       "      <th>month</th>\n",
       "      <th>day</th>\n",
       "      <th>hour</th>\n",
       "      <th>kills</th>\n",
       "      <th>deaths</th>\n",
       "      <th>assists</th>\n",
       "      <th>kda</th>\n",
       "      <th>kdr</th>\n",
       "      <th>carry</th>\n",
       "      <th>jungler</th>\n",
       "      <th>pusher</th>\n",
       "      <th>nuker</th>\n",
       "      <th>disabler</th>\n",
       "      <th>initiator</th>\n",
       "      <th>durable</th>\n",
       "      <th>support</th>\n",
       "      <th>legs</th>\n",
       "      <th>agi</th>\n",
       "      <th>int</th>\n",
       "      <th>str</th>\n",
       "      <th>Melee</th>\n",
       "      <th>Ranged</th>\n",
       "    </tr>\n",
       "  </thead>\n",
       "  <tbody>\n",
       "    <tr>\n",
       "      <th>count</th>\n",
       "      <td>3647.000000</td>\n",
       "      <td>3647.000000</td>\n",
       "      <td>3647.000000</td>\n",
       "      <td>3647.000000</td>\n",
       "      <td>3647.000000</td>\n",
       "      <td>3647.000000</td>\n",
       "      <td>3647.000000</td>\n",
       "      <td>3647.000000</td>\n",
       "      <td>3647.000000</td>\n",
       "      <td>3647.000000</td>\n",
       "      <td>3647.000000</td>\n",
       "      <td>3647.000000</td>\n",
       "      <td>3647.000000</td>\n",
       "      <td>3647.000000</td>\n",
       "      <td>3647.000000</td>\n",
       "      <td>3647.000000</td>\n",
       "      <td>3647.000000</td>\n",
       "      <td>3647.000000</td>\n",
       "      <td>3647.000000</td>\n",
       "      <td>3647.000000</td>\n",
       "      <td>3647.000000</td>\n",
       "      <td>3647.000000</td>\n",
       "      <td>3647.000000</td>\n",
       "      <td>3647.000000</td>\n",
       "      <td>3647.000000</td>\n",
       "      <td>3647.000000</td>\n",
       "    </tr>\n",
       "    <tr>\n",
       "      <th>mean</th>\n",
       "      <td>0.496298</td>\n",
       "      <td>0.523718</td>\n",
       "      <td>39.826707</td>\n",
       "      <td>2013.424184</td>\n",
       "      <td>6.644091</td>\n",
       "      <td>15.742528</td>\n",
       "      <td>12.825884</td>\n",
       "      <td>8.040033</td>\n",
       "      <td>6.874417</td>\n",
       "      <td>11.526186</td>\n",
       "      <td>3.797090</td>\n",
       "      <td>1.628019</td>\n",
       "      <td>0.587606</td>\n",
       "      <td>0.088018</td>\n",
       "      <td>0.159309</td>\n",
       "      <td>0.790513</td>\n",
       "      <td>0.785029</td>\n",
       "      <td>0.590622</td>\n",
       "      <td>0.491637</td>\n",
       "      <td>0.192487</td>\n",
       "      <td>1.899644</td>\n",
       "      <td>0.361667</td>\n",
       "      <td>0.240197</td>\n",
       "      <td>0.398135</td>\n",
       "      <td>0.577461</td>\n",
       "      <td>0.422539</td>\n",
       "    </tr>\n",
       "    <tr>\n",
       "      <th>std</th>\n",
       "      <td>0.500055</td>\n",
       "      <td>0.499506</td>\n",
       "      <td>11.071830</td>\n",
       "      <td>1.237863</td>\n",
       "      <td>3.218161</td>\n",
       "      <td>8.674988</td>\n",
       "      <td>8.170603</td>\n",
       "      <td>5.325709</td>\n",
       "      <td>3.310602</td>\n",
       "      <td>6.626201</td>\n",
       "      <td>3.764007</td>\n",
       "      <td>1.982513</td>\n",
       "      <td>0.492333</td>\n",
       "      <td>0.283359</td>\n",
       "      <td>0.366014</td>\n",
       "      <td>0.406998</td>\n",
       "      <td>0.410859</td>\n",
       "      <td>0.491786</td>\n",
       "      <td>0.499999</td>\n",
       "      <td>0.394307</td>\n",
       "      <td>0.942573</td>\n",
       "      <td>0.480549</td>\n",
       "      <td>0.427262</td>\n",
       "      <td>0.489581</td>\n",
       "      <td>0.494031</td>\n",
       "      <td>0.494031</td>\n",
       "    </tr>\n",
       "    <tr>\n",
       "      <th>min</th>\n",
       "      <td>0.000000</td>\n",
       "      <td>0.000000</td>\n",
       "      <td>6.000000</td>\n",
       "      <td>2012.000000</td>\n",
       "      <td>1.000000</td>\n",
       "      <td>1.000000</td>\n",
       "      <td>0.000000</td>\n",
       "      <td>0.000000</td>\n",
       "      <td>0.000000</td>\n",
       "      <td>0.000000</td>\n",
       "      <td>0.000000</td>\n",
       "      <td>0.000000</td>\n",
       "      <td>0.000000</td>\n",
       "      <td>0.000000</td>\n",
       "      <td>0.000000</td>\n",
       "      <td>0.000000</td>\n",
       "      <td>0.000000</td>\n",
       "      <td>0.000000</td>\n",
       "      <td>0.000000</td>\n",
       "      <td>0.000000</td>\n",
       "      <td>0.000000</td>\n",
       "      <td>0.000000</td>\n",
       "      <td>0.000000</td>\n",
       "      <td>0.000000</td>\n",
       "      <td>0.000000</td>\n",
       "      <td>0.000000</td>\n",
       "    </tr>\n",
       "    <tr>\n",
       "      <th>25%</th>\n",
       "      <td>0.000000</td>\n",
       "      <td>0.000000</td>\n",
       "      <td>33.000000</td>\n",
       "      <td>2012.000000</td>\n",
       "      <td>4.000000</td>\n",
       "      <td>9.000000</td>\n",
       "      <td>3.000000</td>\n",
       "      <td>4.000000</td>\n",
       "      <td>4.000000</td>\n",
       "      <td>6.000000</td>\n",
       "      <td>1.666667</td>\n",
       "      <td>0.555556</td>\n",
       "      <td>0.000000</td>\n",
       "      <td>0.000000</td>\n",
       "      <td>0.000000</td>\n",
       "      <td>1.000000</td>\n",
       "      <td>1.000000</td>\n",
       "      <td>0.000000</td>\n",
       "      <td>0.000000</td>\n",
       "      <td>0.000000</td>\n",
       "      <td>2.000000</td>\n",
       "      <td>0.000000</td>\n",
       "      <td>0.000000</td>\n",
       "      <td>0.000000</td>\n",
       "      <td>0.000000</td>\n",
       "      <td>0.000000</td>\n",
       "    </tr>\n",
       "    <tr>\n",
       "      <th>50%</th>\n",
       "      <td>0.000000</td>\n",
       "      <td>1.000000</td>\n",
       "      <td>39.000000</td>\n",
       "      <td>2013.000000</td>\n",
       "      <td>6.000000</td>\n",
       "      <td>16.000000</td>\n",
       "      <td>15.000000</td>\n",
       "      <td>7.000000</td>\n",
       "      <td>7.000000</td>\n",
       "      <td>11.000000</td>\n",
       "      <td>2.750000</td>\n",
       "      <td>1.000000</td>\n",
       "      <td>1.000000</td>\n",
       "      <td>0.000000</td>\n",
       "      <td>0.000000</td>\n",
       "      <td>1.000000</td>\n",
       "      <td>1.000000</td>\n",
       "      <td>1.000000</td>\n",
       "      <td>0.000000</td>\n",
       "      <td>0.000000</td>\n",
       "      <td>2.000000</td>\n",
       "      <td>0.000000</td>\n",
       "      <td>0.000000</td>\n",
       "      <td>0.000000</td>\n",
       "      <td>1.000000</td>\n",
       "      <td>0.000000</td>\n",
       "    </tr>\n",
       "    <tr>\n",
       "      <th>75%</th>\n",
       "      <td>1.000000</td>\n",
       "      <td>1.000000</td>\n",
       "      <td>47.000000</td>\n",
       "      <td>2014.000000</td>\n",
       "      <td>9.000000</td>\n",
       "      <td>23.000000</td>\n",
       "      <td>20.000000</td>\n",
       "      <td>11.000000</td>\n",
       "      <td>9.000000</td>\n",
       "      <td>16.000000</td>\n",
       "      <td>4.571429</td>\n",
       "      <td>2.000000</td>\n",
       "      <td>1.000000</td>\n",
       "      <td>0.000000</td>\n",
       "      <td>0.000000</td>\n",
       "      <td>1.000000</td>\n",
       "      <td>1.000000</td>\n",
       "      <td>1.000000</td>\n",
       "      <td>1.000000</td>\n",
       "      <td>0.000000</td>\n",
       "      <td>2.000000</td>\n",
       "      <td>1.000000</td>\n",
       "      <td>0.000000</td>\n",
       "      <td>1.000000</td>\n",
       "      <td>1.000000</td>\n",
       "      <td>1.000000</td>\n",
       "    </tr>\n",
       "    <tr>\n",
       "      <th>max</th>\n",
       "      <td>1.000000</td>\n",
       "      <td>1.000000</td>\n",
       "      <td>85.000000</td>\n",
       "      <td>2017.000000</td>\n",
       "      <td>12.000000</td>\n",
       "      <td>31.000000</td>\n",
       "      <td>23.000000</td>\n",
       "      <td>34.000000</td>\n",
       "      <td>19.000000</td>\n",
       "      <td>43.000000</td>\n",
       "      <td>41.000000</td>\n",
       "      <td>31.000000</td>\n",
       "      <td>1.000000</td>\n",
       "      <td>1.000000</td>\n",
       "      <td>1.000000</td>\n",
       "      <td>1.000000</td>\n",
       "      <td>1.000000</td>\n",
       "      <td>1.000000</td>\n",
       "      <td>1.000000</td>\n",
       "      <td>1.000000</td>\n",
       "      <td>8.000000</td>\n",
       "      <td>1.000000</td>\n",
       "      <td>1.000000</td>\n",
       "      <td>1.000000</td>\n",
       "      <td>1.000000</td>\n",
       "      <td>1.000000</td>\n",
       "    </tr>\n",
       "  </tbody>\n",
       "</table>\n",
       "</div>"
      ],
      "text/plain": [
       "            result  radiant_win     duration         year        month  \\\n",
       "count  3647.000000  3647.000000  3647.000000  3647.000000  3647.000000   \n",
       "mean      0.496298     0.523718    39.826707  2013.424184     6.644091   \n",
       "std       0.500055     0.499506    11.071830     1.237863     3.218161   \n",
       "min       0.000000     0.000000     6.000000  2012.000000     1.000000   \n",
       "25%       0.000000     0.000000    33.000000  2012.000000     4.000000   \n",
       "50%       0.000000     1.000000    39.000000  2013.000000     6.000000   \n",
       "75%       1.000000     1.000000    47.000000  2014.000000     9.000000   \n",
       "max       1.000000     1.000000    85.000000  2017.000000    12.000000   \n",
       "\n",
       "               day         hour        kills       deaths      assists  \\\n",
       "count  3647.000000  3647.000000  3647.000000  3647.000000  3647.000000   \n",
       "mean     15.742528    12.825884     8.040033     6.874417    11.526186   \n",
       "std       8.674988     8.170603     5.325709     3.310602     6.626201   \n",
       "min       1.000000     0.000000     0.000000     0.000000     0.000000   \n",
       "25%       9.000000     3.000000     4.000000     4.000000     6.000000   \n",
       "50%      16.000000    15.000000     7.000000     7.000000    11.000000   \n",
       "75%      23.000000    20.000000    11.000000     9.000000    16.000000   \n",
       "max      31.000000    23.000000    34.000000    19.000000    43.000000   \n",
       "\n",
       "               kda          kdr        carry      jungler       pusher  \\\n",
       "count  3647.000000  3647.000000  3647.000000  3647.000000  3647.000000   \n",
       "mean      3.797090     1.628019     0.587606     0.088018     0.159309   \n",
       "std       3.764007     1.982513     0.492333     0.283359     0.366014   \n",
       "min       0.000000     0.000000     0.000000     0.000000     0.000000   \n",
       "25%       1.666667     0.555556     0.000000     0.000000     0.000000   \n",
       "50%       2.750000     1.000000     1.000000     0.000000     0.000000   \n",
       "75%       4.571429     2.000000     1.000000     0.000000     0.000000   \n",
       "max      41.000000    31.000000     1.000000     1.000000     1.000000   \n",
       "\n",
       "             nuker     disabler    initiator      durable      support  \\\n",
       "count  3647.000000  3647.000000  3647.000000  3647.000000  3647.000000   \n",
       "mean      0.790513     0.785029     0.590622     0.491637     0.192487   \n",
       "std       0.406998     0.410859     0.491786     0.499999     0.394307   \n",
       "min       0.000000     0.000000     0.000000     0.000000     0.000000   \n",
       "25%       1.000000     1.000000     0.000000     0.000000     0.000000   \n",
       "50%       1.000000     1.000000     1.000000     0.000000     0.000000   \n",
       "75%       1.000000     1.000000     1.000000     1.000000     0.000000   \n",
       "max       1.000000     1.000000     1.000000     1.000000     1.000000   \n",
       "\n",
       "              legs          agi          int          str        Melee  \\\n",
       "count  3647.000000  3647.000000  3647.000000  3647.000000  3647.000000   \n",
       "mean      1.899644     0.361667     0.240197     0.398135     0.577461   \n",
       "std       0.942573     0.480549     0.427262     0.489581     0.494031   \n",
       "min       0.000000     0.000000     0.000000     0.000000     0.000000   \n",
       "25%       2.000000     0.000000     0.000000     0.000000     0.000000   \n",
       "50%       2.000000     0.000000     0.000000     0.000000     1.000000   \n",
       "75%       2.000000     1.000000     0.000000     1.000000     1.000000   \n",
       "max       8.000000     1.000000     1.000000     1.000000     1.000000   \n",
       "\n",
       "            Ranged  \n",
       "count  3647.000000  \n",
       "mean      0.422539  \n",
       "std       0.494031  \n",
       "min       0.000000  \n",
       "25%       0.000000  \n",
       "50%       0.000000  \n",
       "75%       1.000000  \n",
       "max       1.000000  "
      ]
     },
     "execution_count": 21,
     "metadata": {},
     "output_type": "execute_result"
    }
   ],
   "source": [
    "data.describe()"
   ]
  },
  {
   "cell_type": "markdown",
   "metadata": {},
   "source": [
    "**Duration**:\n",
    "- Most games last between 33 and 47 minutes, with a median of 39 minutes. If the game is trash, you're trapped for the better half of an hour.\n",
    "- Shortest game was 6 minutes (someone disconnects after firstblood and the rest of their team leaves), longest game was 1 hour 25 minutes. Did I win that game?"
   ]
  },
  {
   "cell_type": "code",
   "execution_count": 22,
   "metadata": {
    "collapsed": false
   },
   "outputs": [
    {
     "data": {
      "text/plain": [
       "122    0\n",
       "Name: result, dtype: int64"
      ]
     },
     "execution_count": 22,
     "metadata": {},
     "output_type": "execute_result"
    }
   ],
   "source": [
    "data.loc[data['duration'] == 85]['result']"
   ]
  },
  {
   "cell_type": "markdown",
   "metadata": {},
   "source": [
    "Damn; that's what you call a tough loss.\n",
    "\n",
    "**Kills/Deaths/Assists/KDR/KDA**\n",
    "- Average 8.04 kills per match, 6.87 deaths, 11.53 assists. The median, not as affected by outliers, gives what I consider to be a more typical representation: 7 kills, 7 deaths, 11 assists. The standard deviations for kills and assists are wide compared to the medians, while the standard deviation for death is a bit smaller. The amount of kills can fluctuate pretty widely, but I generally average pretty close to 7 deaths per match.\n",
    "\n",
    "\n",
    "- Max kills: 35. Max deaths: 19.\n",
    "\n",
    "\n",
    "- KDR and KDA naturally follow the ratios given for kills, deaths, and assists. **Mean KDA**: 3.79, **Mean KDR**: 1.63. **Median KDA**: 2.75, **Median KDR**: 1. Across all my games, the balanced median for KDR makes sense. The thing about DotA is, if you're losing, you're often getting wiped - getting wrecked by the other team and dying a lot. On the flip side, when you're winning, your KDA and KDR ratios will be pretty high (although not so much for KDR if you're a support). To demonstrate this, let's partition the data into wins and losses and examine the median KDRs and KDAs."
   ]
  },
  {
   "cell_type": "code",
   "execution_count": 23,
   "metadata": {
    "collapsed": false
   },
   "outputs": [
    {
     "name": "stdout",
     "output_type": "stream",
     "text": [
      "Win kdr : 1.775\n",
      "Loss kdr : 0.6666666666666666\n",
      "Win kda : 4.333333333333333\n",
      "Loss kda : 1.75\n"
     ]
    }
   ],
   "source": [
    "wins = data[data['result'] == 1]\n",
    "losses = data[data['result'] == 0]\n",
    "\n",
    "attrs = ['kdr', 'kda']\n",
    "for a in attrs:\n",
    "    print('Win', a, ':', wins[a].median())\n",
    "    print('Loss', a, ':', losses[a].median())"
   ]
  },
  {
   "cell_type": "markdown",
   "metadata": {},
   "source": [
    "The majority of kills and deaths in DotA will largely occur as a result of teamfights in the mid to late game; where either one team (or both) have reached enough strength to make concentrated pushes towards the enemy's ancient. The outcome of these teamfights can have a pretty major impact on the momentum of the match, which will translate into the number of kills and deaths each player has. If you're winning the game, you're winning teamfights and slaying the other team. When you're losing... you're getting slayed. This is reflected pretty well in the ratios.\n",
    "\n",
    "Let's examine the matches where I *definitely* slayed: the upper kill outlier matches (30+ kills):"
   ]
  },
  {
   "cell_type": "code",
   "execution_count": 24,
   "metadata": {
    "collapsed": false,
    "scrolled": false
   },
   "outputs": [
    {
     "data": {
      "text/html": [
       "<div>\n",
       "<table border=\"1\" class=\"dataframe\">\n",
       "  <thead>\n",
       "    <tr style=\"text-align: right;\">\n",
       "      <th></th>\n",
       "      <th>result</th>\n",
       "      <th>radiant_win</th>\n",
       "      <th>duration</th>\n",
       "      <th>year</th>\n",
       "      <th>month</th>\n",
       "      <th>day</th>\n",
       "      <th>hour</th>\n",
       "      <th>hero</th>\n",
       "      <th>kills</th>\n",
       "      <th>deaths</th>\n",
       "      <th>assists</th>\n",
       "      <th>primary_attr</th>\n",
       "      <th>kda</th>\n",
       "      <th>kdr</th>\n",
       "      <th>attack_type</th>\n",
       "      <th>carry</th>\n",
       "      <th>jungler</th>\n",
       "      <th>pusher</th>\n",
       "      <th>nuker</th>\n",
       "      <th>disabler</th>\n",
       "      <th>initiator</th>\n",
       "      <th>durable</th>\n",
       "      <th>support</th>\n",
       "      <th>legs</th>\n",
       "      <th>agi</th>\n",
       "      <th>int</th>\n",
       "      <th>str</th>\n",
       "      <th>Melee</th>\n",
       "      <th>Ranged</th>\n",
       "    </tr>\n",
       "  </thead>\n",
       "  <tbody>\n",
       "    <tr>\n",
       "      <th>1701</th>\n",
       "      <td>1</td>\n",
       "      <td>1</td>\n",
       "      <td>60.0</td>\n",
       "      <td>2013</td>\n",
       "      <td>9</td>\n",
       "      <td>26</td>\n",
       "      <td>0</td>\n",
       "      <td>Outworld Devourer</td>\n",
       "      <td>34</td>\n",
       "      <td>7</td>\n",
       "      <td>21</td>\n",
       "      <td>int</td>\n",
       "      <td>7.857143</td>\n",
       "      <td>4.857143</td>\n",
       "      <td>Ranged</td>\n",
       "      <td>1</td>\n",
       "      <td>0</td>\n",
       "      <td>0</td>\n",
       "      <td>1</td>\n",
       "      <td>1</td>\n",
       "      <td>0</td>\n",
       "      <td>0</td>\n",
       "      <td>0</td>\n",
       "      <td>4</td>\n",
       "      <td>0</td>\n",
       "      <td>1</td>\n",
       "      <td>0</td>\n",
       "      <td>0</td>\n",
       "      <td>1</td>\n",
       "    </tr>\n",
       "    <tr>\n",
       "      <th>2145</th>\n",
       "      <td>1</td>\n",
       "      <td>1</td>\n",
       "      <td>30.0</td>\n",
       "      <td>2014</td>\n",
       "      <td>1</td>\n",
       "      <td>30</td>\n",
       "      <td>15</td>\n",
       "      <td>Ember Spirit</td>\n",
       "      <td>31</td>\n",
       "      <td>1</td>\n",
       "      <td>10</td>\n",
       "      <td>agi</td>\n",
       "      <td>41.000000</td>\n",
       "      <td>31.000000</td>\n",
       "      <td>Melee</td>\n",
       "      <td>1</td>\n",
       "      <td>0</td>\n",
       "      <td>0</td>\n",
       "      <td>1</td>\n",
       "      <td>1</td>\n",
       "      <td>1</td>\n",
       "      <td>0</td>\n",
       "      <td>0</td>\n",
       "      <td>2</td>\n",
       "      <td>1</td>\n",
       "      <td>0</td>\n",
       "      <td>0</td>\n",
       "      <td>1</td>\n",
       "      <td>0</td>\n",
       "    </tr>\n",
       "    <tr>\n",
       "      <th>2214</th>\n",
       "      <td>1</td>\n",
       "      <td>0</td>\n",
       "      <td>53.0</td>\n",
       "      <td>2014</td>\n",
       "      <td>2</td>\n",
       "      <td>19</td>\n",
       "      <td>14</td>\n",
       "      <td>Ember Spirit</td>\n",
       "      <td>34</td>\n",
       "      <td>8</td>\n",
       "      <td>14</td>\n",
       "      <td>agi</td>\n",
       "      <td>6.000000</td>\n",
       "      <td>4.250000</td>\n",
       "      <td>Melee</td>\n",
       "      <td>1</td>\n",
       "      <td>0</td>\n",
       "      <td>0</td>\n",
       "      <td>1</td>\n",
       "      <td>1</td>\n",
       "      <td>1</td>\n",
       "      <td>0</td>\n",
       "      <td>0</td>\n",
       "      <td>2</td>\n",
       "      <td>1</td>\n",
       "      <td>0</td>\n",
       "      <td>0</td>\n",
       "      <td>1</td>\n",
       "      <td>0</td>\n",
       "    </tr>\n",
       "    <tr>\n",
       "      <th>2431</th>\n",
       "      <td>1</td>\n",
       "      <td>0</td>\n",
       "      <td>50.0</td>\n",
       "      <td>2014</td>\n",
       "      <td>5</td>\n",
       "      <td>11</td>\n",
       "      <td>2</td>\n",
       "      <td>Shadow Fiend</td>\n",
       "      <td>32</td>\n",
       "      <td>5</td>\n",
       "      <td>12</td>\n",
       "      <td>agi</td>\n",
       "      <td>8.800000</td>\n",
       "      <td>6.400000</td>\n",
       "      <td>Ranged</td>\n",
       "      <td>1</td>\n",
       "      <td>0</td>\n",
       "      <td>0</td>\n",
       "      <td>1</td>\n",
       "      <td>0</td>\n",
       "      <td>0</td>\n",
       "      <td>0</td>\n",
       "      <td>0</td>\n",
       "      <td>0</td>\n",
       "      <td>1</td>\n",
       "      <td>0</td>\n",
       "      <td>0</td>\n",
       "      <td>0</td>\n",
       "      <td>1</td>\n",
       "    </tr>\n",
       "  </tbody>\n",
       "</table>\n",
       "</div>"
      ],
      "text/plain": [
       "      result  radiant_win  duration  year  month  day  hour  \\\n",
       "1701       1            1      60.0  2013      9   26     0   \n",
       "2145       1            1      30.0  2014      1   30    15   \n",
       "2214       1            0      53.0  2014      2   19    14   \n",
       "2431       1            0      50.0  2014      5   11     2   \n",
       "\n",
       "                   hero  kills  deaths  assists primary_attr        kda  \\\n",
       "1701  Outworld Devourer     34       7       21          int   7.857143   \n",
       "2145       Ember Spirit     31       1       10          agi  41.000000   \n",
       "2214       Ember Spirit     34       8       14          agi   6.000000   \n",
       "2431       Shadow Fiend     32       5       12          agi   8.800000   \n",
       "\n",
       "            kdr attack_type  carry  jungler  pusher  nuker  disabler  \\\n",
       "1701   4.857143      Ranged      1        0       0      1         1   \n",
       "2145  31.000000       Melee      1        0       0      1         1   \n",
       "2214   4.250000       Melee      1        0       0      1         1   \n",
       "2431   6.400000      Ranged      1        0       0      1         0   \n",
       "\n",
       "      initiator  durable  support  legs  agi  int  str  Melee  Ranged  \n",
       "1701          0        0        0     4    0    1    0      0       1  \n",
       "2145          1        0        0     2    1    0    0      1       0  \n",
       "2214          1        0        0     2    1    0    0      1       0  \n",
       "2431          0        0        0     0    1    0    0      0       1  "
      ]
     },
     "execution_count": 24,
     "metadata": {},
     "output_type": "execute_result"
    }
   ],
   "source": [
    "data[data['kills'] > 30]"
   ]
  },
  {
   "cell_type": "markdown",
   "metadata": {},
   "source": [
    "A couple things to notice here. First, all wins - your team has to be in a whole other dimension of suck to lose when you're doing this well. Second, all these heroes are carries and nukers. Third, Ember Spirit accounts for half of this set. We'll explore heroes and hero roles shortly."
   ]
  },
  {
   "cell_type": "markdown",
   "metadata": {},
   "source": [
    "### Attribute Correlation"
   ]
  },
  {
   "cell_type": "markdown",
   "metadata": {},
   "source": [
    "A way to get a great overview of the variables in the dataset, and see which ones are particularly important, is to make a correlation matrix. This will show us which variables are positively and negatively correlated. If variable A is positively correlated with variable B, when A goes up, so does B. A negatively correlation would be when A goes down, B goes up. "
   ]
  },
  {
   "cell_type": "code",
   "execution_count": 25,
   "metadata": {
    "collapsed": false
   },
   "outputs": [],
   "source": [
    "corr = data.corr()"
   ]
  },
  {
   "cell_type": "code",
   "execution_count": 26,
   "metadata": {
    "collapsed": true
   },
   "outputs": [],
   "source": [
    "import seaborn as sns"
   ]
  },
  {
   "cell_type": "code",
   "execution_count": 27,
   "metadata": {
    "collapsed": false,
    "scrolled": false
   },
   "outputs": [
    {
     "data": {
      "image/png": "[encoded data removed]",
      "text/plain": [
       "<matplotlib.figure.Figure at 0x29115a2ac18>"
      ]
     },
     "metadata": {},
     "output_type": "display_data"
    }
   ],
   "source": [
    "plt.figure(figsize=(12,12))\n",
    "plot1 = sns.heatmap(corr, vmax=1, square=True)"
   ]
  },
  {
   "cell_type": "markdown",
   "metadata": {},
   "source": [
    "The hotter a square looks, the more positively correlated its row/column variables are. The colder, the more negatively correlated.\n",
    "- Some variables have very obvious correlations. For example, the correlation between **Melee** and **Ranged** attack types is -1; you can only be one or the other. **KDR** and **KDA** have a very strong positve correlation, because they're both derived from largely the same variables (**kills** and **deaths**).\n",
    "\n",
    "\n",
    "- The duration of the game has positive correlations with **kills**, **deaths**, and **assists**. This intuitively makes sense; longer games mean more time spent fighting, killing, and dying. What's the most interesting is that duration is more strongly correlated with deaths than kills. This would suggest that in longer games, I'm more likely to die more than kill more.\n",
    "\n",
    "\n",
    "- That being said, there's no substantive correlation between duration and match result. **Result** shows moderate positve correlations with **kills**, **deaths**, **KDR**, and **KDA**. The strongest correlation is with **KDA**, showing that its more important to have a higher **KDA** than it is to have a higher **KDR** if you want to win. The only difference between the two metrics is **assists**, showing that the more you can help your teammates get kills, the more likely your team is to win. Playing with the team is more effective than being a lone wolf - shocking!\n",
    "\n",
    "\n",
    "- Hero roles, attributes, and attack types are correlated (more on all these things soon to come). **Strength** heroes are postively correlated with being **melee** and **durable**. **Intelligence** heroes are positively correlated with being **supports** and **ranged** (and are negatively correlated with being **durable**). **Agility** heroes have a moderate positve correlation with being **carries**, but don't have any correlations with either attack type."
   ]
  },
  {
   "cell_type": "markdown",
   "metadata": {},
   "source": [
    "### Hero Stats"
   ]
  },
  {
   "cell_type": "markdown",
   "metadata": {},
   "source": [
    "In Dota 2, every player controls a unique hero character. How well you can play your chosen hero, and how well it fits into your team's lineup, are crucial factors in winning a match. In this section I'll examine which heroes I played the most, and had the best **Win/Loss**, **KDR**, and **KDA** ratios with. At the time of writing this, there are currently 108 heroes to pick from in Dota 2. "
   ]
  },
  {
   "cell_type": "code",
   "execution_count": 28,
   "metadata": {
    "collapsed": false,
    "scrolled": true
   },
   "outputs": [
    {
     "name": "stdout",
     "output_type": "stream",
     "text": [
      "I've played 100 out of 108 total heroes atleast once, or 93.0% of the total roster.\n"
     ]
    }
   ],
   "source": [
    "current_hero_size = 108\n",
    "ive_played = len(data['hero'].unique())\n",
    "ive_played\n",
    "ive_played_pct = round(ive_played/current_hero_size, 2) * 100\n",
    "print(\"I've played {} out of {} total heroes atleast once, or {}% of the total roster.\".format(ive_played,\n",
    "                                                                                               current_hero_size,\n",
    "                                                                                               ive_played_pct))"
   ]
  },
  {
   "cell_type": "markdown",
   "metadata": {},
   "source": [
    "Although I've played 93% of all total heroes in the game, I only frequently play a subset of the roster. Keeping this in mind, it makes the most sense to pay attention to the ratios with heroes I've played a significant amount of times. To drive home this point, let's look at the top 5 heroes I have the highest W/L ratios with:"
   ]
  },
  {
   "cell_type": "code",
   "execution_count": 29,
   "metadata": {
    "collapsed": false
   },
   "outputs": [
    {
     "data": {
      "text/plain": [
       "<matplotlib.text.Text at 0x29115aca160>"
      ]
     },
     "execution_count": 29,
     "metadata": {},
     "output_type": "execute_result"
    },
    {
     "data": {
      "image/png": "[encoded data removed]",
      "text/plain": [
       "<matplotlib.figure.Figure at 0x29115ef20f0>"
      ]
     },
     "metadata": {},
     "output_type": "display_data"
    }
   ],
   "source": [
    "# Top 5 W/L ratios\n",
    "plt.figure(figsize=(18,8))\n",
    "hero = data.groupby('hero')\n",
    "hero_winloss = hero['result'].mean().sort_values(ascending=False)\n",
    "top5_winloss = hero_winloss[:5]\n",
    "sns.barplot(x=top5_winloss, y=top5_winloss.index)\n",
    "plt.xlabel('Win Loss Ratio')"
   ]
  },
  {
   "cell_type": "markdown",
   "metadata": {},
   "source": [
    "A perfect W/L ratio with Abaddon, and over 70% ratio with the other four. But how often have I played each one?"
   ]
  },
  {
   "cell_type": "code",
   "execution_count": 30,
   "metadata": {
    "collapsed": false
   },
   "outputs": [
    {
     "name": "stdout",
     "output_type": "stream",
     "text": [
      "I've played Abaddon 3 times, or 0.1% of my total games.\n",
      "I've played Naga Siren 7 times, or 0.2% of my total games.\n",
      "I've played Crystal Maiden 4 times, or 0.1% of my total games.\n",
      "I've played Tinker 8 times, or 0.2% of my total games.\n",
      "I've played Centaur Warrunner 4 times, or 0.1% of my total games.\n"
     ]
    }
   ],
   "source": [
    "for hero in top5_winloss.index:\n",
    "    times_played = len(data[data['hero'] == hero])\n",
    "    times_played_pct = round(times_played / total_games, 3) * 100\n",
    "    print(\"I've played {} {} times, or {}% of my total games.\".format(hero, times_played, times_played_pct))"
   ]
  },
  {
   "cell_type": "markdown",
   "metadata": {},
   "source": [
    "Clearly, I'll have to sort by the number of times I've played each hero to get meaningful conclusions. For the purposes of this analysis, lets focus on at the 30 heroes I've played the most."
   ]
  },
  {
   "cell_type": "code",
   "execution_count": 31,
   "metadata": {
    "collapsed": false,
    "scrolled": false
   },
   "outputs": [],
   "source": [
    "hero_mostplayed30 = data['hero'].value_counts()[:30]\n",
    "mostplayed30_winloss = hero_winloss[hero_mostplayed30.index]"
   ]
  },
  {
   "cell_type": "code",
   "execution_count": 32,
   "metadata": {
    "collapsed": false,
    "scrolled": true
   },
   "outputs": [
    {
     "name": "stdout",
     "output_type": "stream",
     "text": [
      "The top 30 heroes account for 73.62% of my total games.\n"
     ]
    }
   ],
   "source": [
    "total_hero_pct = 0\n",
    "for num_games in hero_mostplayed30:\n",
    "    pct = (num_games/total_games) * 100\n",
    "    total_hero_pct += pct\n",
    "print('The top 30 heroes account for {}% of my total games.'.format(round(total_hero_pct, 2)))"
   ]
  },
  {
   "cell_type": "markdown",
   "metadata": {},
   "source": [
    "These 30 heroes cover a good majority of my total games, so I'm comfortable leaving out the remaining 78. Let's start by looking at the top 30 heroes and their W/L ratios:"
   ]
  },
  {
   "cell_type": "code",
   "execution_count": 33,
   "metadata": {
    "collapsed": false,
    "scrolled": false
   },
   "outputs": [
    {
     "data": {
      "text/plain": [
       "<matplotlib.text.Text at 0x291152f71d0>"
      ]
     },
     "execution_count": 33,
     "metadata": {},
     "output_type": "execute_result"
    },
    {
     "data": {
      "image/png": "[encoded data removed]",
      "text/plain": [
       "<matplotlib.figure.Figure at 0x29115a96e80>"
      ]
     },
     "metadata": {},
     "output_type": "display_data"
    }
   ],
   "source": [
    "plt.figure(figsize=(18,8))\n",
    "\n",
    "plt.subplot(1, 2, 1)\n",
    "sns.barplot(x=hero_mostplayed30, y=hero_mostplayed30.index)\n",
    "plt.title('Top 30 Most Played Heroes')\n",
    "plt.xlabel('Games Played')\n",
    "\n",
    "plt.subplot(1, 2, 2)\n",
    "sns.barplot(x=mostplayed30_winloss, y=hero_mostplayed30.index)\n",
    "plt.title('W/L Ratios for Top 30 Most Played Heroes')\n",
    "plt.xlabel('W/L Ratio')"
   ]
  },
  {
   "cell_type": "markdown",
   "metadata": {},
   "source": [
    "- My top 6 played heroes are Ember Spirit, Earth Spirit, Pudge, Brewmaster, Kunkka, and Rubick. I've played each of these heroes over 150 times!"
   ]
  },
  {
   "cell_type": "markdown",
   "metadata": {},
   "source": [
    "<div style=\"float:left\"><img src=\"Pictures\\Ember_Spirit_Large.png\"><center>Ember Spirit</center></div>\n",
    "<div style=\"float:left\"><img src=\"Pictures\\Earth_Spirit_Large.png\"><center>Earth Spirit</center></div>\n",
    "<div style=\"float:left\"><img src=\"Pictures\\Pudge_Large.png\"><center>Pudge</center></div>\n",
    "<div style=\"float:left\"><img src=\"Pictures\\Brewmaster_Large.png\"><center>Brewmaster</center></div>\n",
    "<div style=\"float:left\"><img src=\"Pictures\\Kunkka_Large.png\"><center>Kunkka</center></div>\n",
    "<div style=\"float:left\"><img src=\"Pictures\\Rubick_Large.png\"><center>Rubick</center></div>"
   ]
  },
  {
   "cell_type": "code",
   "execution_count": 34,
   "metadata": {
    "collapsed": false
   },
   "outputs": [
    {
     "name": "stdout",
     "output_type": "stream",
     "text": [
      "Top 6 W/L Ratios\n",
      "----------------\n",
      "Ember Spirit 0.567\n",
      "Earth Spirit 0.526\n",
      "Pudge 0.491\n",
      "Brewmaster 0.553\n",
      "Kunkka 0.459\n",
      "Rubick 0.573\n"
     ]
    }
   ],
   "source": [
    "print('Top 6 W/L Ratios')\n",
    "print('----------------')\n",
    "for hero in mostplayed30_winloss.index[:6]:\n",
    "    print(hero, round(mostplayed30_winloss[hero],3))"
   ]
  },
  {
   "cell_type": "markdown",
   "metadata": {},
   "source": [
    "- 4 of these top 6 heroes are strength heroes, all with strong nuking, disabling, and initiating capabilities.\n",
    "\n",
    "\n",
    "- Despite being played over 150 times each, Pudge and Kunkka both have W/L ratios lower than 0.5; I'm more likely to lose games playing as these heroes. Ember Spirit and Rubick have the highest W/L ratios with 0.567 and 0.573 respectively.\n",
    "\n",
    "\n",
    "- Of my 30 most played heroes, Faceless Void blows everyone else's W/L ratios out of the water, scoring ~0.75. This is roughly 30% higher than the highest ratio in my top 6 heroes! However, given how much less I've played Void compared to any of these heroes, it's unlikely that I'm really much more likely to win with Void. I would imagine that playing more games would bring FV's W/L closer to those in the top 6.\n",
    "\n",
    "Next, let's take a look at the KDR and KDA ratios of the top 30. For this portion of the Hero Analysis, I'm going to focus on the median values for these variables. In the numerical distributions section of the analysis, the boxplots showed a lot of upper-end outliers for kills and assists. I'm interested in the typical KDA and KDR performances for my top 30 heroes across the many games I've played, so using the median instead of the mean will give me numbers that are more resistant to these outlier matches."
   ]
  },
  {
   "cell_type": "code",
   "execution_count": 35,
   "metadata": {
    "collapsed": false
   },
   "outputs": [],
   "source": [
    "mostplayed30_kdr = data.groupby('hero')['kdr'].median()[hero_mostplayed30.index]\n",
    "mostplayed30_kda = data.groupby('hero')['kda'].median()[hero_mostplayed30.index]"
   ]
  },
  {
   "cell_type": "code",
   "execution_count": 36,
   "metadata": {
    "collapsed": false,
    "scrolled": false
   },
   "outputs": [
    {
     "data": {
      "text/plain": [
       "<matplotlib.text.Text at 0x29115c90128>"
      ]
     },
     "execution_count": 36,
     "metadata": {},
     "output_type": "execute_result"
    },
    {
     "data": {
      "image/png": "[encoded data removed]",
      "text/plain": [
       "<matplotlib.figure.Figure at 0x29115126e10>"
      ]
     },
     "metadata": {},
     "output_type": "display_data"
    }
   ],
   "source": [
    "plt.figure(figsize=(18,8))\n",
    "\n",
    "plt.subplot(1, 2, 1)\n",
    "sns.barplot(x=mostplayed30_kdr, y=hero_mostplayed30.index)\n",
    "plt.title('Kill Death Ratios for Top 30 Most Played Heroes')\n",
    "plt.xlabel('KDR')\n",
    "\n",
    "plt.subplot(1, 2, 2)\n",
    "sns.barplot(x=mostplayed30_kda, y=hero_mostplayed30.index)\n",
    "plt.title('KDA Ratios for Top 30 Most Played Heroes')\n",
    "plt.xlabel('KDA')"
   ]
  },
  {
   "cell_type": "code",
   "execution_count": 37,
   "metadata": {
    "collapsed": false
   },
   "outputs": [
    {
     "name": "stdout",
     "output_type": "stream",
     "text": [
      "Brewmaster KDA: 4.16666666667\n",
      "Storm Spirit KDA: 3.33333333333\n"
     ]
    }
   ],
   "source": [
    "print('Brewmaster KDA:', mostplayed30_kda['Brewmaster'])\n",
    "print('Storm Spirit KDA:', mostplayed30_kda['Storm Spirit'])"
   ]
  },
  {
   "cell_type": "markdown",
   "metadata": {},
   "source": [
    "- Ember Spirit, my most played hero, has both very high KDR and KDA ratios, as well as a relatively high W/L.\n",
    "\n",
    "\n",
    "- Brewmaster, my fourth most played hero, has the second highest KDA in the top 30. Also has a pretty good W/L too! \n",
    "\n",
    "\n",
    "- Large differences between heroes' KDRs and KDAs can provide evidence about their general playstyles. For example, both Templar Assassin and Phantom Assassin have much higher KDRs than KDAs; this would suggest that more of the action they see is in solo engagements where they're hunting down enemy players - ya know, doing assassin things - without the rest of the team (resulting in less assists). Heroes like Enigma, Puck, and Medusa have abilities that are more oriented towards teamfights, hence the higher KDAs (more assists)."
   ]
  },
  {
   "cell_type": "markdown",
   "metadata": {},
   "source": [
    "Let's not get too hung up on the positives - which heroes in the top 30 do I die the most as? In DotA, the term used for excessively dying is \"feeding\", as with each death you help the enemy team grow stronger with gold and experience points. You don't want to be a feeder."
   ]
  },
  {
   "cell_type": "code",
   "execution_count": 38,
   "metadata": {
    "collapsed": false
   },
   "outputs": [
    {
     "data": {
      "text/plain": [
       "<matplotlib.text.Text at 0x29115d0dfd0>"
      ]
     },
     "execution_count": 38,
     "metadata": {},
     "output_type": "execute_result"
    },
    {
     "data": {
      "image/png": "[encoded data removed]",
      "text/plain": [
       "<matplotlib.figure.Figure at 0x29115127940>"
      ]
     },
     "metadata": {},
     "output_type": "display_data"
    }
   ],
   "source": [
    "mostplayed30_deaths = data.groupby('hero')['deaths'].median()[hero_mostplayed30.index]\n",
    "\n",
    "plt.figure(figsize=(18,8))\n",
    "sns.barplot(x=mostplayed30_deaths, y=hero_mostplayed30.index)\n",
    "plt.title('Average Number of Deaths for the Top 30 Most Played Heroes')\n",
    "plt.xlabel('Avg. Number of Deaths per Match')"
   ]
  },
  {
   "cell_type": "markdown",
   "metadata": {},
   "source": [
    "- I tend to die the most with Pudge, my third most played hero. In DotA, Pudge is considered one of the more fun heroes to play as he relies on his hook - a skillshot ability - to reel in enemy heroes and devour their flesh. While fun to play, Pudge is hard to play well; in many public matches its not suprising to see a Pudge end up playing poorly and feeding the enemy team.\n",
    "\n",
    "\n",
    "- Rubick and Shadow Demon, two highly played heroes of mine, also have relatively high numbers of average deaths. Both of these intelligence heroes are typically played as supports, which can help explain these numbers. Supports (should) prioritize helping the team grow stronger rather than growing stronger themselves, and as a result tend to be underleveled and underpowered as the game progresses. This makes them easy targets for enemy carries, where in teamfights they generally aim to pick off the easy kills before ganging up on tougher heroes to bring down.\n",
    "\n",
    "\n",
    "The correlation matrix earlier showed a moderate negative correlation between **deaths** and **result**. This correlation can be evidenced by looking at the W/L ratios of my highest feeding heroes:"
   ]
  },
  {
   "cell_type": "code",
   "execution_count": 39,
   "metadata": {
    "collapsed": false
   },
   "outputs": [
    {
     "name": "stdout",
     "output_type": "stream",
     "text": [
      "Pudge \t\t\tMed. # Deaths: 8.0 \tW/L Ratio: 0.491 \t <---- Bad!\n",
      "Kunkka \t\t\tMed. # Deaths: 8.0 \tW/L Ratio: 0.459 \t <---- Bad!\n",
      "Rubick \t\t\tMed. # Deaths: 8.0 \tW/L Ratio: 0.573 \t <---- Good!\n",
      "Shadow Demon \t\tMed. # Deaths: 8.0 \tW/L Ratio: 0.32 \t <---- Bad!\n",
      "Troll Warlord \t\tMed. # Deaths: 8.0 \tW/L Ratio: 0.417 \t <---- Bad!\n",
      "Tiny \t\t\tMed. # Deaths: 8.0 \tW/L Ratio: 0.375 \t <---- Bad!\n",
      "Ancient Apparition \tMed. # Deaths: 8.0 \tW/L Ratio: 0.455 \t <---- Bad!\n"
     ]
    }
   ],
   "source": [
    "dead_guys = ['Pudge', 'Kunkka', 'Rubick', 'Shadow Demon', 'Troll Warlord', 'Tiny', 'Ancient Apparition']\n",
    "good_or_bad_wl = ['<---- Good!' if mostplayed30_winloss[hero] > 0.5 else '<---- Bad!' for hero in dead_guys]\n",
    "for ix, hero in enumerate(dead_guys):\n",
    "    if len(hero) < 10: # formatting\n",
    "        print(hero, '\\t\\t\\tMed. # Deaths:', round(mostplayed30_deaths[hero],3),\n",
    "              '\\tW/L Ratio:', round(mostplayed30_winloss[hero],3), '\\t', good_or_bad_wl[ix])\n",
    "    elif len(hero) > 16:\n",
    "         print(hero, '\\tMed. # Deaths:', round(mostplayed30_deaths[hero],3),\n",
    "               '\\tW/L Ratio:', round(mostplayed30_winloss[hero],3), '\\t', good_or_bad_wl[ix])\n",
    "    else:\n",
    "        print(hero, '\\t\\tMed. # Deaths:', round(mostplayed30_deaths[hero],3),\n",
    "              '\\tW/L Ratio:', round(mostplayed30_winloss[hero],3), '\\t', good_or_bad_wl[ix])"
   ]
  },
  {
   "cell_type": "markdown",
   "metadata": {},
   "source": [
    "Rubick is the clear exception here - this support character has the highest W/L ratio of my top 6 played heroes, but also quite a high number of median deaths as well. Why? For support heroes like Rubick, their biggest contribution to the team comes from assisting in teamfights, not necessarily getting kills. Supports are often squishy (i.e. easy to kill), but if they can get off their important spells in big fights before dying, they play a major role in winning these pivotal encounters.\n",
    "\n",
    "This helps explain Rubick's W/L Ratio, but sometimes you just feed. Let's compare Rubick, Shadow Demon, and the entire hero pool's average assists to gather more insight:"
   ]
  },
  {
   "cell_type": "markdown",
   "metadata": {},
   "source": [
    "<div style=\"float:left\"><img src=\"Pictures\\Rubick_Large.png\"><center>Rubick</center></div>\n",
    "<div style=\"float:left\"><img src=\"Pictures\\Shadow_Demon_Large.png\"><center>Shadow Demon</center></div>"
   ]
  },
  {
   "cell_type": "code",
   "execution_count": 40,
   "metadata": {
    "collapsed": true
   },
   "outputs": [],
   "source": [
    "import scipy.stats as stats"
   ]
  },
  {
   "cell_type": "code",
   "execution_count": 41,
   "metadata": {
    "collapsed": false
   },
   "outputs": [
    {
     "name": "stdout",
     "output_type": "stream",
     "text": [
      "Rubick's average assists: 14.0191082803 Standard Deviation: 6.86676787984\n",
      "Shadow Demon's average assists: 10.6721311475 Standard Deviation: 6.59289560871\n",
      "Average assists across hero pool: 10.676741024117357 Standard Deviation: 5.848425916345039\n"
     ]
    },
    {
     "data": {
      "text/plain": [
       "<matplotlib.legend.Legend at 0x29115b72860>"
      ]
     },
     "execution_count": 41,
     "metadata": {},
     "output_type": "execute_result"
    },
    {
     "data": {
      "image/png": "[encoded data removed]",
      "text/plain": [
       "<matplotlib.figure.Figure at 0x29116a30898>"
      ]
     },
     "metadata": {},
     "output_type": "display_data"
    }
   ],
   "source": [
    "rubick_sorted = sorted(data[data['hero'] == 'Rubick']['assists'])\n",
    "rubick_mean = np.mean(rubick_sorted)\n",
    "rubick_std = np.std(rubick_sorted)\n",
    "\n",
    "sd_sorted = sorted(data[data['hero'] == 'Shadow Demon']['assists'])\n",
    "sd_mean = np.mean(sd_sorted)\n",
    "sd_std = np.std(sd_sorted)\n",
    "\n",
    "pool_mean = data.groupby('hero')['assists'].mean().mean()\n",
    "pool_std = data.groupby('hero')['assists'].std().mean()\n",
    "\n",
    "min_assists = data['assists'].min()\n",
    "max_assists = data['assists'].max()\n",
    "assist_space = np.linspace(min_assists, max_assists)\n",
    "\n",
    "print(\"Rubick's average assists:\", rubick_mean, 'Standard Deviation:', rubick_std) \n",
    "print(\"Shadow Demon's average assists:\", sd_mean, 'Standard Deviation:', sd_std)\n",
    "print(\"Average assists across hero pool:\", pool_mean, 'Standard Deviation:', pool_std)\n",
    "\n",
    "plt.figure(figsize=(18,8))\n",
    "plt.plot(rubick_sorted, stats.norm.pdf(rubick_sorted, rubick_mean, rubick_std), 'go-', label='Rubick [Dist.]')\n",
    "plt.hist(rubick_sorted, bins=40, alpha=0.5, color='g', normed=True, label='Rubick [Hist.]')\n",
    "plt.plot(sd_sorted, stats.norm.pdf(sd_sorted, sd_mean, sd_std), 'ro-', label='Shadow Demon [Dist.]')\n",
    "plt.hist(sd_sorted, bins=40, alpha=0.5, color='r', normed=True, label='Shadow Demon [Hist.]')\n",
    "plt.plot(assist_space, stats.norm.pdf(assist_space, pool_mean, pool_std), 'bo-', label='Hero Pool [Dist.]')\n",
    "\n",
    "plt.ylabel('PDF')\n",
    "plt.xlabel('Assists per match')\n",
    "plt.legend(fontsize='large')"
   ]
  },
  {
   "cell_type": "markdown",
   "metadata": {},
   "source": [
    "In the above histograms of Rubick and Shadow Demon's assists per match, we can see that Shadow Demon's skews more than Rubick's towards the lower end of the sample space. By fitting Rubick, Shadow Demon, and the entire hero pool's average assists to normal distributions, we get a decent approximation of how assists for each subject are distributed. Shadow Demon's distribution curve is closely in line with the rest of the hero pool, while Rubick's is shifted more to the right. Centred around an average of 14 assists per game, this shows that there's a greater chance of Rubick having a high amount of assists per match (see the margin between Rubick's distribution curve and the others around 20 assists).\n",
    "\n",
    "In conclusion, if you're going to feed - atleast try to be useful to your team before you die!"
   ]
  },
  {
   "cell_type": "markdown",
   "metadata": {},
   "source": [
    "### Primary Attribute"
   ]
  },
  {
   "cell_type": "markdown",
   "metadata": {},
   "source": [
    "<div style=\"float:left; padding-right: 1cm\"><img src=\"Pictures\\Agility_Icon.png\"><center>**Agility**</center></div>\n",
    "<div style=\"float:left; padding-right: 1cm\"><img src=\"Pictures\\Intelligence_Icon.png\"><center>**Intelligence**</center></div>\n",
    "<div style=\"float:left; padding-right: 1cm\"><img src=\"Pictures\\Strength_Icon.png\"><center>**Strength**</center></div>"
   ]
  },
  {
   "cell_type": "markdown",
   "metadata": {},
   "source": [
    "Heroes come in three flavours: Agility, Intelligence, and Strength. Everytime a hero levels up, they are rewarded a set number of agility, intelligence, and strength points.\n",
    "\n",
    "- Agility points increase a hero's attack speed\n",
    "- Strength points increase a hero's overall health points and health regeneration rate\n",
    "- Intelligence points increase a hero's overall mana points and mana regeneration rate\n",
    "\n",
    "For heroes of a particular attribute, points in that attribute (either gained through leveling up or items) also increase the amount of damage they do each attack. Generally speaking, Agility heroes are carries, as their role is to deal massive amounts of damage as quickly as possible. Strength heroes are the tanky durable heroes, often playing the role of initiator in fights - soak up as much damage as possible and force enemies to focus on you while your team cleans up. Intelligence heroes are typically supports, with nuking (i.e. burst damage) or disabling abilities. They want to fire off as many of their spells as possible and control the fight. This is the template most heroes follow, but there are plenty of exceptions and offshoots as well (e.g. Intelligence based carry heroes).\n",
    "\n",
    "Let's look at which primary attributes I played the most, as well as their W/L, KDR, and KDA ratios."
   ]
  },
  {
   "cell_type": "code",
   "execution_count": 42,
   "metadata": {
    "collapsed": false,
    "scrolled": false
   },
   "outputs": [
    {
     "data": {
      "text/plain": [
       "<matplotlib.text.Text at 0x291171769b0>"
      ]
     },
     "execution_count": 42,
     "metadata": {},
     "output_type": "execute_result"
    },
    {
     "data": {
      "image/png": "[encoded data removed]",
      "text/plain": [
       "<matplotlib.figure.Figure at 0x29113232828>"
      ]
     },
     "metadata": {},
     "output_type": "display_data"
    }
   ],
   "source": [
    "primary_attr = data['primary_attr'].value_counts().reindex(['agi', 'int', 'str'])\n",
    "attr_palette = ['green', 'blue', 'red'] # agi, int, str colours\n",
    "\n",
    "plt.figure(figsize=(18,12))\n",
    "plt.subplot(2, 2, 1)\n",
    "sns.barplot(x=primary_attr.index, y=primary_attr, palette=attr_palette, saturation=0.5)\n",
    "plt.ylabel('Games Played')\n",
    "annotate()\n",
    "\n",
    "plt.subplot(2, 2, 2)\n",
    "primary_attr_wl = data.groupby('primary_attr')['result'].mean()\n",
    "sns.barplot(primary_attr_wl.index, primary_attr_wl, palette=attr_palette, saturation=0.5)\n",
    "plt.ylabel('Win Loss Ratio')\n",
    "plt.xlabel('')\n",
    "\n",
    "plt.subplot(2, 2, 3)\n",
    "primary_attr_kdr = data.groupby('primary_attr')['kdr'].mean()\n",
    "sns.barplot(primary_attr_kdr.index, primary_attr_kdr, palette=attr_palette, saturation=0.5)\n",
    "plt.ylabel('KDR')\n",
    "plt.xlabel('')\n",
    "\n",
    "plt.subplot(2, 2, 4)\n",
    "primary_attr_kda = data.groupby('primary_attr')['kda'].mean()\n",
    "sns.barplot(primary_attr_kda.index, primary_attr_kda, palette=attr_palette, saturation=0.5)\n",
    "plt.ylabel('KDA')\n",
    "plt.xlabel('')"
   ]
  },
  {
   "cell_type": "code",
   "execution_count": 43,
   "metadata": {
    "collapsed": false
   },
   "outputs": [
    {
     "name": "stdout",
     "output_type": "stream",
     "text": [
      "primary_attr\n",
      "agi    0.506444\n",
      "int    0.468037\n",
      "str    0.504132\n",
      "Name: result, dtype: float64\n"
     ]
    }
   ],
   "source": [
    "print(primary_attr_wl) # more closely examine W/L"
   ]
  },
  {
   "cell_type": "markdown",
   "metadata": {},
   "source": [
    "- Most of my games were as strength heroes, while my second and third most were agility and intelligence. The difference between intelligence and the other two attributes shows a pretty clear bias against it (and perhaps supporting?).\n",
    "\n",
    "\n",
    "- W/L ratios between attributes is essentially even at 0.5 for agility and strength, but takes a dip for intelligence.\n",
    "\n",
    "\n",
    "- Agility is the clear winner for KDR, with an average ratio around 2. This can be explained by the generalization that most agility heroes are carries which get more kills. Conversely, the average for support-focused intelligence heroes is just above neutral.\n",
    "\n",
    "\n",
    "- When taking assists into account with KDA, things even up considerably between the three attributes. Agility is still a clear lead, but the distance between it, and intelligence/strength is much less than KDR.\n",
    "\n",
    "\n",
    "- While it's easier to see that intelligence heroes perform less well in all categories, the disclaimer here is that I've also played them considerably less. The difference in W/L, KDR, and KDA is still enough to suggest that conclusion, but I would imagine that intelligence's ratios would improve given more attention and practice."
   ]
  },
  {
   "cell_type": "markdown",
   "metadata": {},
   "source": [
    "### Attack Type\n",
    "\n",
    "The two attack types, melee and ranged, are how heroes regularly attack enemy units. One slashes with claws, another throws fireballs, etc... There's even a hero that smacks people with tree branches, which is pretty fun."
   ]
  },
  {
   "cell_type": "code",
   "execution_count": 44,
   "metadata": {
    "collapsed": false
   },
   "outputs": [
    {
     "data": {
      "text/plain": [
       "<matplotlib.text.Text at 0x2911760c0f0>"
      ]
     },
     "execution_count": 44,
     "metadata": {},
     "output_type": "execute_result"
    },
    {
     "data": {
      "image/png": "[encoded data removed]",
      "text/plain": [
       "<matplotlib.figure.Figure at 0x29116985320>"
      ]
     },
     "metadata": {},
     "output_type": "display_data"
    }
   ],
   "source": [
    "attack_type_total = data['attack_type'].value_counts()\n",
    "\n",
    "plt.figure(figsize=(18,12))\n",
    "plt.subplot(2,2,1)\n",
    "sns.barplot(attack_type_total.index, attack_type_total)\n",
    "plt.ylabel('Games Played')\n",
    "annotate()\n",
    "\n",
    "plt.subplot(2,2,2)\n",
    "attack_type_wl = data.groupby('attack_type')['result'].mean()\n",
    "sns.barplot(attack_type_wl.index, attack_type_wl)\n",
    "plt.ylabel('Win Loss Ratio')\n",
    "plt.xlabel('')\n",
    "\n",
    "plt.subplot(2,2,3)\n",
    "attack_type_kdr = data.groupby('attack_type')['kdr'].mean()\n",
    "sns.barplot(attack_type_total.index, attack_type_kdr)\n",
    "plt.ylabel('KDR')\n",
    "\n",
    "plt.subplot(2,2,4)\n",
    "attack_type_kda = data.groupby('attack_type')['kda'].mean()\n",
    "sns.barplot(attack_type_total.index, attack_type_kda)\n",
    "plt.ylabel('KDA')"
   ]
  },
  {
   "cell_type": "code",
   "execution_count": 45,
   "metadata": {
    "collapsed": false
   },
   "outputs": [
    {
     "data": {
      "text/plain": [
       "attack_type\n",
       "Melee     0.507123\n",
       "Ranged    0.481506\n",
       "Name: result, dtype: float64"
      ]
     },
     "execution_count": 45,
     "metadata": {},
     "output_type": "execute_result"
    }
   ],
   "source": [
    "attack_type_wl # exact W/L values"
   ]
  },
  {
   "cell_type": "markdown",
   "metadata": {},
   "source": [
    "- Each statistic is higher with melee heroes than with ranged; I've played approximately 500 more games with melee heroes, which suggests a moderate preference towards them.\n",
    "\n",
    "\n",
    "- Being melee or ranged has a tiny impact on match outcome; on average I tend to do win more more with melee heroes and lose more with ranged.\n",
    "\n",
    "\n",
    "- This higher W/L correlates with the higher melee KDR and KDA ratios.\n",
    "\n",
    "\n",
    "- The margin between attack types for each statistic can be explained in part by looking at which primary attributes are typically associated with which attack types:"
   ]
  },
  {
   "cell_type": "code",
   "execution_count": 46,
   "metadata": {
    "collapsed": false,
    "scrolled": false
   },
   "outputs": [
    {
     "data": {
      "text/plain": [
       "<matplotlib.text.Text at 0x291179d0b70>"
      ]
     },
     "execution_count": 46,
     "metadata": {},
     "output_type": "execute_result"
    },
    {
     "data": {
      "image/png": "[encoded data removed]",
      "text/plain": [
       "<matplotlib.figure.Figure at 0x29115716e10>"
      ]
     },
     "metadata": {},
     "output_type": "display_data"
    }
   ],
   "source": [
    "attack_type_attrs = data.groupby(['attack_type', 'primary_attr'])['hero'].unique()\n",
    "agi_attack_types = [len(attack_type_attrs['Melee']['agi']), len(attack_type_attrs['Ranged']['agi'])]\n",
    "int_attack_types = [len(attack_type_attrs['Melee']['int']), len(attack_type_attrs['Ranged']['int'])]\n",
    "str_attack_types = [len(attack_type_attrs['Melee']['str']), len(attack_type_attrs['Ranged']['str'])]\n",
    "attack_type_labels = ('Melee', 'Ranged')\n",
    "\n",
    "plt.figure(figsize=(18,8))\n",
    "\n",
    "plt.subplot(1,3,1)\n",
    "sns.barplot(attack_type_labels, agi_attack_types)\n",
    "plt.yticks(np.arange(0,40,5))\n",
    "plt.title('Agility')\n",
    "plt.ylabel('# of Heroes')\n",
    "\n",
    "plt.subplot(1,3,2)\n",
    "sns.barplot(attack_type_labels, int_attack_types)\n",
    "plt.yticks(np.arange(0,40,5))\n",
    "plt.title('Intelligence')\n",
    "\n",
    "plt.subplot(1,3,3)\n",
    "sns.barplot(attack_type_labels, str_attack_types)\n",
    "plt.yticks(np.arange(0,40,5))\n",
    "plt.title('Strength')\n",
    "\n",
    "# this could have been visualized better in a stacked barplot"
   ]
  },
  {
   "cell_type": "markdown",
   "metadata": {},
   "source": [
    "The barplots above show the number of heroes that are either melee or ranged for each primary category. Note that that these bars don't include every hero in Dota 2's hero pool - only the ones I've played myself (93% of the total). With that in mind, we can see a total inverse of the attack types for intelligence and strength, with each being almost exclusively ranged or melee. \n",
    "\n",
    "Thinking back to how much I've played each primary attribute, it would seem that my preference towards strength and agility heroes causes me to often pick from a subset that is predominantly melee. That being said, both intelligence and strength have exactly two outliers:"
   ]
  },
  {
   "cell_type": "code",
   "execution_count": 47,
   "metadata": {
    "collapsed": false,
    "scrolled": true
   },
   "outputs": [
    {
     "name": "stdout",
     "output_type": "stream",
     "text": [
      "Strength and Ranged: ['Huskar' 'Io']\n",
      "Intelligence and Melee: ['Dark Seer' 'Ogre Magi']\n"
     ]
    }
   ],
   "source": [
    "# outliers: strength + ranged, intelligence + melee\n",
    "\n",
    "str_ranged = data[data['primary_attr'] == 'str'].loc[data['attack_type'] == 'Ranged']\n",
    "print('Strength and Ranged:', str_ranged['hero'].unique())\n",
    "\n",
    "int_melee = data[data['primary_attr'] == 'int'].loc[data['attack_type'] == 'Melee']\n",
    "print('Intelligence and Melee:', int_melee['hero'].unique())"
   ]
  },
  {
   "cell_type": "markdown",
   "metadata": {},
   "source": [
    "If we're in the business of ascribing some kind of logic to the attribute/attack-type relationship, I'd guess that if you were super strong you wouldn't mind getting up close and personal in a fight. But if you were super smart, you'd probably realize that not getting hit is half the point of fighting itself and rather hurl glowing orbs or magic from a safe distance away."
   ]
  },
  {
   "cell_type": "markdown",
   "metadata": {},
   "source": [
    "### Hero Roles"
   ]
  },
  {
   "cell_type": "markdown",
   "metadata": {},
   "source": [
    "Each hero in DotA falls into a couple of different categories which describe how its played. These \"roles\" are mostly determined by the abilities a hero possesses and how well they scale into different phases of the game (but are also defined by characteristics like base damage, attack speed, armor, and stats gain). It's worth noting that these roles are pretty broadly defined, and that they're susceptible to changing with each balance patch that comes to DotA. OpenDota's API classifies heroes into particular roles in a way that provides a fair description of each, but in reality they can be played in any number of ways.\n",
    "\n",
    "Here's a quick refresher on the hero roles we have available in this dataset:\n",
    "\n",
    "- **carry**: A hero that is the strongest in the lategame with more experience and items. 1 = Yes, 0 = No (same for all other roles).\n",
    "- **jungler**: A hero that can spend the early game fighting neutral creeps in the jungle to gain experience and gold.\n",
    "- **pusher**: A hero that can quickly push lanes and destroy enemy buildings. \n",
    "- **nuker**: A hero that can cast damage-dealing spells to quickly kill enemy heroes.\n",
    "- **disabler**: A hero that can cast spells to prevent enemy heroes from doing things (e.g. stunning a hero so it can't move or attack, removing its damage, silencing it so it can't cast spells).\n",
    "- **initiator**:A hero that is good at starting and controlling major teamfights.\n",
    "- **durable**: A hero that has a lot of health or armor, allowing it to withstand fights and take a lot of damage.\n",
    "- **support**: A hero that has a lot of spells useful for helping out the team, either by healing or strengthening allies. Often delegated to buy support items (i.e. wards, dust) for the team.\n",
    "\n",
    "Heroes can have a variety of roles. For an example, let's take a look at the first hero I ever played in Dota 2:"
   ]
  },
  {
   "cell_type": "code",
   "execution_count": 48,
   "metadata": {
    "collapsed": false
   },
   "outputs": [
    {
     "name": "stdout",
     "output_type": "stream",
     "text": [
      "Hero: Razor\n",
      "carry        1\n",
      "jungler      0\n",
      "pusher       1\n",
      "nuker        1\n",
      "disabler     0\n",
      "initiator    0\n",
      "durable      1\n",
      "support      0\n",
      "Name: 1, dtype: object\n"
     ]
    }
   ],
   "source": [
    "print('Hero:', data.iloc[1][7])\n",
    "print(data.iloc[1][15:23])"
   ]
  },
  {
   "cell_type": "markdown",
   "metadata": {},
   "source": [
    "As we can see, Razor wears a couple of hats on top of his helmet. He's a pretty durable carry hero with strong pushing and nuking capabilities.\n",
    "\n",
    "Which roles are commonly associated with each other? Let's take a closer look at the relationships between roles in that correlation matrix from earlier:"
   ]
  },
  {
   "cell_type": "code",
   "execution_count": 49,
   "metadata": {
    "collapsed": false,
    "scrolled": false
   },
   "outputs": [
    {
     "data": {
      "text/plain": [
       "<matplotlib.text.Text at 0x291183ad5c0>"
      ]
     },
     "execution_count": 49,
     "metadata": {},
     "output_type": "execute_result"
    },
    {
     "data": {
      "image/png": "[encoded data removed]",
      "text/plain": [
       "<matplotlib.figure.Figure at 0x29116a238d0>"
      ]
     },
     "metadata": {},
     "output_type": "display_data"
    }
   ],
   "source": [
    "role_ix = data.columns[15:23]\n",
    "role_corr = data[role_ix].corr()\n",
    "plt.figure(figsize=(18,8))\n",
    "sns.heatmap(role_corr, vmax=1, square=True)\n",
    "plt.title('Role Correlations')"
   ]
  },
  {
   "cell_type": "markdown",
   "metadata": {},
   "source": [
    "- There's a strong positive correlation between being an initiator and disabler. This makes total sense, since almost every hero that's considered an initiator does so through either an AOE (area of effect) or strong single-target disabling skill (if you know DotA, think Tidehunter's Ravage, Enigma's Blackhole, Batrider's Lasso, etc).\n",
    "\n",
    "\n",
    "- Being a carry has a number of moderate negative correlations with other roles: nuker, disabler, initiator, and support. This makes sense since carry heroes are primarily focused on dealing as much right-click (regular attack) damage as possible.\n",
    "\n",
    "\n",
    "- There's a moderate positive correlation with being a jungler and a pusher. Most heroes that can jungle in the early game can only do so because of support units they can summon (Nature's Prophet's treants, Lycan's wolves, Enigma's eidolons, etc). These summonable units are also great for pushing out creep waves later on in the game too."
   ]
  },
  {
   "cell_type": "code",
   "execution_count": 50,
   "metadata": {
    "collapsed": false
   },
   "outputs": [],
   "source": [
    "role_n_games_perc = []\n",
    "for i in role_ix:\n",
    "    role_n_games_perc.append((len(data[data[i] == 1]) / total_games))"
   ]
  },
  {
   "cell_type": "code",
   "execution_count": 51,
   "metadata": {
    "collapsed": false
   },
   "outputs": [
    {
     "data": {
      "text/plain": [
       "<matplotlib.text.Text at 0x29117b1df28>"
      ]
     },
     "execution_count": 51,
     "metadata": {},
     "output_type": "execute_result"
    },
    {
     "data": {
      "image/png": "[encoded data removed]",
      "text/plain": [
       "<matplotlib.figure.Figure at 0x29116ac3128>"
      ]
     },
     "metadata": {},
     "output_type": "display_data"
    }
   ],
   "source": [
    "plt.figure(figsize=(18,8))\n",
    "sns.barplot(role_ix, role_n_games_perc)\n",
    "plt.title('Percentage of Total Games Played in each Role')\n",
    "plt.ylabel('% Games Played', fontsize='large')"
   ]
  },
  {
   "cell_type": "code",
   "execution_count": 52,
   "metadata": {
    "collapsed": false
   },
   "outputs": [
    {
     "data": {
      "text/plain": [
       "0.5030331311245917"
      ]
     },
     "execution_count": 52,
     "metadata": {},
     "output_type": "execute_result"
    }
   ],
   "source": [
    "data[data['carry'] == 1]['result'].mean()"
   ]
  },
  {
   "cell_type": "code",
   "execution_count": 53,
   "metadata": {
    "collapsed": false
   },
   "outputs": [
    {
     "data": {
      "text/plain": [
       "carry\n",
       "0    0.486702\n",
       "1    0.503033\n",
       "Name: result, dtype: float64"
      ]
     },
     "execution_count": 53,
     "metadata": {},
     "output_type": "execute_result"
    }
   ],
   "source": [
    "data.groupby(['carry']).mean()['result']"
   ]
  },
  {
   "cell_type": "code",
   "execution_count": 54,
   "metadata": {
    "collapsed": false
   },
   "outputs": [],
   "source": [
    "role_wl = []\n",
    "role_kdr = []\n",
    "role_kda = []\n",
    "for i in role_ix:\n",
    "    role_group = data.groupby(i).mean()\n",
    "    role_wl.append(role_group['result'][1])\n",
    "    role_kdr.append(role_group['kdr'][1])\n",
    "    role_kda.append(role_group['kda'][1])"
   ]
  },
  {
   "cell_type": "code",
   "execution_count": 55,
   "metadata": {
    "collapsed": false
   },
   "outputs": [
    {
     "data": {
      "text/plain": [
       "<matplotlib.text.Text at 0x29117d21208>"
      ]
     },
     "execution_count": 55,
     "metadata": {},
     "output_type": "execute_result"
    },
    {
     "data": {
      "image/png": "[encoded data removed]",
      "text/plain": [
       "<matplotlib.figure.Figure at 0x29117cfc6a0>"
      ]
     },
     "metadata": {},
     "output_type": "display_data"
    }
   ],
   "source": [
    "plt.figure(figsize=(18,8))\n",
    "sns.barplot(role_ix, role_wl)\n",
    "plt.ylim((0.4, 0.55))\n",
    "plt.title('Win Loss Ratio by Role')\n",
    "plt.ylabel('W/L', rotation='horizontal', horizontalalignment='right', fontsize='large')"
   ]
  },
  {
   "cell_type": "code",
   "execution_count": 56,
   "metadata": {
    "collapsed": false,
    "scrolled": false
   },
   "outputs": [
    {
     "data": {
      "text/plain": [
       "<matplotlib.text.Text at 0x29118b5e080>"
      ]
     },
     "execution_count": 56,
     "metadata": {},
     "output_type": "execute_result"
    },
    {
     "data": {
      "image/png": "[encoded data removed]",
      "text/plain": [
       "<matplotlib.figure.Figure at 0x29117d175f8>"
      ]
     },
     "metadata": {},
     "output_type": "display_data"
    }
   ],
   "source": [
    "plt.figure(figsize=(20,8))\n",
    "plt.subplot(1,2,1)\n",
    "sns.barplot(role_ix, role_kdr)\n",
    "plt.ylabel('KDR', rotation='horizontal', horizontalalignment='right', fontsize='large')\n",
    "plt.title('KDR by Role')\n",
    "\n",
    "plt.subplot(1,2,2)\n",
    "sns.barplot(role_ix, role_kda)\n",
    "plt.ylabel('KDA', rotation='horizontal', horizontalalignment='right', fontsize='large')\n",
    "plt.title('KDA by Role')"
   ]
  },
  {
   "cell_type": "markdown",
   "metadata": {},
   "source": [
    "### Legs?!"
   ]
  },
  {
   "cell_type": "code",
   "execution_count": 57,
   "metadata": {
    "collapsed": false
   },
   "outputs": [
    {
     "data": {
      "text/plain": [
       "array([6, 0, 2, 4, 8], dtype=int64)"
      ]
     },
     "execution_count": 57,
     "metadata": {},
     "output_type": "execute_result"
    }
   ],
   "source": [
    "num_legs = data['legs'].unique()\n",
    "num_legs"
   ]
  },
  {
   "cell_type": "code",
   "execution_count": 58,
   "metadata": {
    "collapsed": false
   },
   "outputs": [
    {
     "data": {
      "text/plain": [
       "<matplotlib.text.Text at 0x29118b3ff98>"
      ]
     },
     "execution_count": 58,
     "metadata": {},
     "output_type": "execute_result"
    },
    {
     "data": {
      "image/png": "[encoded data removed]",
      "text/plain": [
       "<matplotlib.figure.Figure at 0x29117afef98>"
      ]
     },
     "metadata": {},
     "output_type": "display_data"
    }
   ],
   "source": [
    "legs_wl = data.groupby('legs')['result'].mean()  \n",
    "plt.figure(figsize=(18,8))\n",
    "sns.barplot(legs_wl.index, legs_wl)\n",
    "plt.title('W/L by # of legs')\n",
    "plt.xlabel('# of legs')\n",
    "plt.ylabel('W/L', rotation='horizontal', horizontalalignment='right', fontsize='large')"
   ]
  },
  {
   "cell_type": "code",
   "execution_count": 59,
   "metadata": {
    "collapsed": false
   },
   "outputs": [
    {
     "data": {
      "text/plain": [
       "array(['Razor', 'Shadow Fiend', 'Morphling', 'Spectre', 'Enigma',\n",
       "       'Venomancer', 'Io', 'Naga Siren', 'Viper', 'Slardar', 'Medusa'], dtype=object)"
      ]
     },
     "execution_count": 59,
     "metadata": {},
     "output_type": "execute_result"
    }
   ],
   "source": [
    "no_legs_club = data.groupby('legs')['hero'].unique()[0]\n",
    "no_legs_club"
   ]
  },
  {
   "cell_type": "markdown",
   "metadata": {},
   "source": [
    "### Time"
   ]
  },
  {
   "cell_type": "code",
   "execution_count": 60,
   "metadata": {
    "collapsed": false,
    "scrolled": false
   },
   "outputs": [
    {
     "data": {
      "text/plain": [
       "<matplotlib.legend.Legend at 0x29118b4d978>"
      ]
     },
     "execution_count": 60,
     "metadata": {},
     "output_type": "execute_result"
    },
    {
     "data": {
      "image/png": "[encoded data removed]",
      "text/plain": [
       "<matplotlib.figure.Figure at 0x2911753b518>"
      ]
     },
     "metadata": {},
     "output_type": "display_data"
    }
   ],
   "source": [
    "### Win Loss by Duration\n",
    "\n",
    "plt.figure(figsize=(18,8))\n",
    "plt.hist([data['duration'].loc[data['result'] == 1],\n",
    "        data['duration'].loc[data['result'] != 1]], stacked=True,\n",
    "        bins=30, label=['Win', 'Loss'])\n",
    "plt.xlabel('Duration')\n",
    "plt.ylabel('# of Games')\n",
    "plt.legend()"
   ]
  },
  {
   "cell_type": "code",
   "execution_count": 61,
   "metadata": {
    "collapsed": false,
    "scrolled": false
   },
   "outputs": [
    {
     "data": {
      "image/png": "[encoded data removed]",
      "text/plain": [
       "<matplotlib.figure.Figure at 0x2911920cc88>"
      ]
     },
     "metadata": {},
     "output_type": "display_data"
    }
   ],
   "source": [
    "plt.figure(figsize=(18,8))\n",
    "plt.hist([data['hour'].loc[data['result'] == 1],\n",
    "        data['hour'].loc[data['result'] != 1]], stacked=True,\n",
    "        bins=24, label=['Win', 'Loss'])\n",
    "plt.xlabel('Hour Played')\n",
    "plt.xticks(range(24))\n",
    "plt.ylabel('# of Games')\n",
    "plt.legend()\n",
    "annotate()"
   ]
  },
  {
   "cell_type": "code",
   "execution_count": 62,
   "metadata": {
    "collapsed": true
   },
   "outputs": [],
   "source": [
    "time = data.groupby(['year', 'month'])\n",
    "time_wl = time.result.mean()"
   ]
  },
  {
   "cell_type": "code",
   "execution_count": 63,
   "metadata": {
    "collapsed": true
   },
   "outputs": [],
   "source": [
    "timeline_wl = []\n",
    "\n",
    "for year in range(2012, 2018):\n",
    "    for month in range(1, 13):\n",
    "        timeline_wl.append(time_wl.unstack()[month][year])"
   ]
  },
  {
   "cell_type": "code",
   "execution_count": 64,
   "metadata": {
    "collapsed": false
   },
   "outputs": [
    {
     "data": {
      "text/plain": [
       "<matplotlib.legend.Legend at 0x29119508a20>"
      ]
     },
     "execution_count": 64,
     "metadata": {},
     "output_type": "execute_result"
    },
    {
     "data": {
      "image/png": "[encoded data removed]",
      "text/plain": [
       "<matplotlib.figure.Figure at 0x291198019b0>"
      ]
     },
     "metadata": {},
     "output_type": "display_data"
    }
   ],
   "source": [
    "fig = plt.figure(figsize=(18,8))\n",
    "ax = fig.add_subplot(111)\n",
    "\n",
    "ax.plot(list(range(1, 73)), timeline_wl, label='Win/Loss Ratio')\n",
    "\n",
    "plt.title('Win Loss Ratio by Month')\n",
    "ax.legend()"
   ]
  },
  {
   "cell_type": "code",
   "execution_count": 65,
   "metadata": {
    "collapsed": false,
    "scrolled": true
   },
   "outputs": [
    {
     "data": {
      "text/html": [
       "<div>\n",
       "<table border=\"1\" class=\"dataframe\">\n",
       "  <thead>\n",
       "    <tr style=\"text-align: right;\">\n",
       "      <th>month</th>\n",
       "      <th>1</th>\n",
       "      <th>2</th>\n",
       "      <th>3</th>\n",
       "      <th>4</th>\n",
       "      <th>5</th>\n",
       "      <th>6</th>\n",
       "      <th>7</th>\n",
       "      <th>8</th>\n",
       "      <th>9</th>\n",
       "      <th>10</th>\n",
       "      <th>11</th>\n",
       "      <th>12</th>\n",
       "    </tr>\n",
       "    <tr>\n",
       "      <th>year</th>\n",
       "      <th></th>\n",
       "      <th></th>\n",
       "      <th></th>\n",
       "      <th></th>\n",
       "      <th></th>\n",
       "      <th></th>\n",
       "      <th></th>\n",
       "      <th></th>\n",
       "      <th></th>\n",
       "      <th></th>\n",
       "      <th></th>\n",
       "      <th></th>\n",
       "    </tr>\n",
       "  </thead>\n",
       "  <tbody>\n",
       "    <tr>\n",
       "      <th>2012</th>\n",
       "      <td>NaN</td>\n",
       "      <td>NaN</td>\n",
       "      <td>0.472441</td>\n",
       "      <td>0.503759</td>\n",
       "      <td>0.524823</td>\n",
       "      <td>0.524194</td>\n",
       "      <td>0.504202</td>\n",
       "      <td>0.548387</td>\n",
       "      <td>0.479452</td>\n",
       "      <td>0.520548</td>\n",
       "      <td>0.538462</td>\n",
       "      <td>0.455882</td>\n",
       "    </tr>\n",
       "    <tr>\n",
       "      <th>2013</th>\n",
       "      <td>0.487179</td>\n",
       "      <td>0.505882</td>\n",
       "      <td>0.445783</td>\n",
       "      <td>0.554217</td>\n",
       "      <td>0.488000</td>\n",
       "      <td>0.551282</td>\n",
       "      <td>0.483333</td>\n",
       "      <td>0.456140</td>\n",
       "      <td>0.543210</td>\n",
       "      <td>0.522222</td>\n",
       "      <td>0.457143</td>\n",
       "      <td>0.535211</td>\n",
       "    </tr>\n",
       "    <tr>\n",
       "      <th>2014</th>\n",
       "      <td>0.496124</td>\n",
       "      <td>0.536585</td>\n",
       "      <td>0.521127</td>\n",
       "      <td>0.474359</td>\n",
       "      <td>0.487179</td>\n",
       "      <td>0.491525</td>\n",
       "      <td>0.560440</td>\n",
       "      <td>0.414634</td>\n",
       "      <td>0.485714</td>\n",
       "      <td>0.521368</td>\n",
       "      <td>0.660377</td>\n",
       "      <td>0.384615</td>\n",
       "    </tr>\n",
       "    <tr>\n",
       "      <th>2015</th>\n",
       "      <td>0.558824</td>\n",
       "      <td>0.000000</td>\n",
       "      <td>NaN</td>\n",
       "      <td>NaN</td>\n",
       "      <td>NaN</td>\n",
       "      <td>NaN</td>\n",
       "      <td>NaN</td>\n",
       "      <td>NaN</td>\n",
       "      <td>NaN</td>\n",
       "      <td>NaN</td>\n",
       "      <td>NaN</td>\n",
       "      <td>NaN</td>\n",
       "    </tr>\n",
       "    <tr>\n",
       "      <th>2016</th>\n",
       "      <td>NaN</td>\n",
       "      <td>NaN</td>\n",
       "      <td>NaN</td>\n",
       "      <td>NaN</td>\n",
       "      <td>0.403226</td>\n",
       "      <td>0.295455</td>\n",
       "      <td>0.357143</td>\n",
       "      <td>0.464286</td>\n",
       "      <td>0.529412</td>\n",
       "      <td>0.555556</td>\n",
       "      <td>0.521739</td>\n",
       "      <td>0.424242</td>\n",
       "    </tr>\n",
       "    <tr>\n",
       "      <th>2017</th>\n",
       "      <td>NaN</td>\n",
       "      <td>0.250000</td>\n",
       "      <td>NaN</td>\n",
       "      <td>NaN</td>\n",
       "      <td>NaN</td>\n",
       "      <td>0.000000</td>\n",
       "      <td>NaN</td>\n",
       "      <td>NaN</td>\n",
       "      <td>NaN</td>\n",
       "      <td>NaN</td>\n",
       "      <td>NaN</td>\n",
       "      <td>NaN</td>\n",
       "    </tr>\n",
       "  </tbody>\n",
       "</table>\n",
       "</div>"
      ],
      "text/plain": [
       "month        1         2         3         4         5         6         7   \\\n",
       "year                                                                          \n",
       "2012        NaN       NaN  0.472441  0.503759  0.524823  0.524194  0.504202   \n",
       "2013   0.487179  0.505882  0.445783  0.554217  0.488000  0.551282  0.483333   \n",
       "2014   0.496124  0.536585  0.521127  0.474359  0.487179  0.491525  0.560440   \n",
       "2015   0.558824  0.000000       NaN       NaN       NaN       NaN       NaN   \n",
       "2016        NaN       NaN       NaN       NaN  0.403226  0.295455  0.357143   \n",
       "2017        NaN  0.250000       NaN       NaN       NaN  0.000000       NaN   \n",
       "\n",
       "month        8         9         10        11        12  \n",
       "year                                                     \n",
       "2012   0.548387  0.479452  0.520548  0.538462  0.455882  \n",
       "2013   0.456140  0.543210  0.522222  0.457143  0.535211  \n",
       "2014   0.414634  0.485714  0.521368  0.660377  0.384615  \n",
       "2015        NaN       NaN       NaN       NaN       NaN  \n",
       "2016   0.464286  0.529412  0.555556  0.521739  0.424242  \n",
       "2017        NaN       NaN       NaN       NaN       NaN  "
      ]
     },
     "execution_count": 65,
     "metadata": {},
     "output_type": "execute_result"
    }
   ],
   "source": [
    "time_wl.unstack()"
   ]
  },
  {
   "cell_type": "code",
   "execution_count": 66,
   "metadata": {
    "collapsed": false,
    "scrolled": false
   },
   "outputs": [
    {
     "name": "stderr",
     "output_type": "stream",
     "text": [
      "C:\\Users\\Will\\Anaconda3\\lib\\site-packages\\ipykernel\\__main__.py:1: UserWarning: Boolean Series key will be reindexed to match DataFrame index.\n",
      "  if __name__ == '__main__':\n"
     ]
    },
    {
     "data": {
      "text/plain": [
       "Earth Spirit         22\n",
       "Legion Commander      6\n",
       "Ember Spirit          4\n",
       "Spectre               3\n",
       "Templar Assassin      2\n",
       "Pudge                 2\n",
       "Necrophos             2\n",
       "Medusa                2\n",
       "Brewmaster            2\n",
       "Gyrocopter            1\n",
       "Lone Druid            1\n",
       "Clockwerk             1\n",
       "Bane                  1\n",
       "Bounty Hunter         1\n",
       "Windranger            1\n",
       "Outworld Devourer     1\n",
       "Weaver                1\n",
       "Name: hero, dtype: int64"
      ]
     },
     "execution_count": 66,
     "metadata": {},
     "output_type": "execute_result"
    }
   ],
   "source": [
    "hot_month = data[data.year == 2014][data.month == 11]\n",
    "hot_month['hero'].value_counts()"
   ]
  },
  {
   "cell_type": "markdown",
   "metadata": {},
   "source": [
    "https://www.youtube.com/watch?v=dwRKkuPZch0"
   ]
  },
  {
   "cell_type": "code",
   "execution_count": 67,
   "metadata": {
    "collapsed": false,
    "scrolled": false
   },
   "outputs": [
    {
     "data": {
      "image/png": "[encoded data removed]",
      "text/plain": [
       "<matplotlib.figure.Figure at 0x29119473ef0>"
      ]
     },
     "metadata": {},
     "output_type": "display_data"
    }
   ],
   "source": [
    "games_over_the_years = data['year'].value_counts()\n",
    "plt.figure(figsize=(18,8))\n",
    "sns.barplot(games_over_the_years.index, games_over_the_years)\n",
    "plt.ylabel('Games Played')\n",
    "plt.xlabel('Year')\n",
    "\n",
    "ax = plt.gca()\n",
    "for p in ax.patches:\n",
    "    ax.text(p.get_x() + p.get_width()/2., p.get_height() + 5, '%d' % int(p.get_height()), \n",
    "            fontsize=12, ha='center', va='bottom')"
   ]
  },
  {
   "cell_type": "code",
   "execution_count": 68,
   "metadata": {
    "collapsed": false
   },
   "outputs": [
    {
     "data": {
      "text/plain": [
       "<matplotlib.legend.Legend at 0x29119f69eb8>"
      ]
     },
     "execution_count": 68,
     "metadata": {},
     "output_type": "execute_result"
    },
    {
     "data": {
      "image/png": "[encoded data removed]",
      "text/plain": [
       "<matplotlib.figure.Figure at 0x291194c0c18>"
      ]
     },
     "metadata": {},
     "output_type": "display_data"
    }
   ],
   "source": [
    "years = data.groupby('year')\n",
    "years_wl = years.result.mean()\n",
    "years_kdr = years.kdr.mean()\n",
    "\n",
    "plt.figure(figsize=(20,8))\n",
    "plt.subplot(1,2,1)\n",
    "plt.plot(years_wl.index, years_wl, label='Win Loss Ratio')\n",
    "plt.legend()\n",
    "\n",
    "plt.subplot(1,2,2)\n",
    "plt.plot(years_wl.index, years_kdr, label='KDR')\n",
    "plt.legend()"
   ]
  },
  {
   "cell_type": "code",
   "execution_count": 69,
   "metadata": {
    "collapsed": false
   },
   "outputs": [],
   "source": [
    "### most played hero each year\n",
    "\n",
    "def mostPlayedByYear(year, count=10):\n",
    "    hero_names = []\n",
    "    games_played = []\n",
    "    win_loss = []\n",
    "    \n",
    "    for name in years['hero'].value_counts()[year][:count].index:\n",
    "        hero_names.append(name)\n",
    "    for n_games in years['hero'].value_counts()[year][:count]:\n",
    "        games_played.append(n_games)\n",
    "    for hero in hero_names:\n",
    "        win_loss.append(round(data['result'][data['hero'] == hero][data['year'] == year].mean(), 2))\n",
    "        \n",
    "    print('\\t\\t---', year,'---')\n",
    "    title = 'Hero\\t\\tGames Played\\tWin Loss Ratio'\n",
    "    print(title)\n",
    "    print('-'*len(title) + 13*'-')\n",
    "    try:\n",
    "        for i in range(count):\n",
    "            if len(hero_names[i]) < 9:\n",
    "                hero_names[i] = hero_names[i] + '   '\n",
    "            if len(str(games_played[i])) < 2:\n",
    "                games_played[i] = str(games_played[i]) + ' '\n",
    "            if len(hero_names[i]) > 14:\n",
    "                print(hero_names[i],'   ',games_played[i],'\\t    ', win_loss[i])\n",
    "            else:    \n",
    "                print(hero_names[i],'\\t    ',games_played[i],'\\t    ', win_loss[i])\n",
    "    except IndexError:\n",
    "        pass\n",
    "    \n",
    "    # a lot of effort and tweaking to get fancy looking tables!"
   ]
  },
  {
   "cell_type": "code",
   "execution_count": 70,
   "metadata": {
    "collapsed": false,
    "scrolled": true
   },
   "outputs": [
    {
     "name": "stdout",
     "output_type": "stream",
     "text": [
      "\t\t--- 2012 ---\n",
      "Hero\t\tGames Played\tWin Loss Ratio\n",
      "----------------------------------------------\n",
      "Shadow Demon \t     65 \t     0.31\n",
      "Pudge    \t     61 \t     0.59\n",
      "Rubick    \t     54 \t     0.7\n",
      "Morphling \t     50 \t     0.52\n",
      "Lone Druid \t     46 \t     0.46\n",
      "Clockwerk \t     45 \t     0.64\n",
      "Storm Spirit \t     40 \t     0.55\n",
      "Beastmaster \t     32 \t     0.53\n",
      "Enigma    \t     30 \t     0.7\n",
      "Brewmaster \t     28 \t     0.43\n"
     ]
    }
   ],
   "source": [
    "mostPlayedByYear(2012)"
   ]
  },
  {
   "cell_type": "code",
   "execution_count": 71,
   "metadata": {
    "collapsed": false
   },
   "outputs": [
    {
     "name": "stdout",
     "output_type": "stream",
     "text": [
      "\t\t--- 2013 ---\n",
      "Hero\t\tGames Played\tWin Loss Ratio\n",
      "----------------------------------------------\n",
      "Rubick    \t     92 \t     0.51\n",
      "Pudge    \t     60 \t     0.47\n",
      "Puck    \t     50 \t     0.56\n",
      "Clockwerk \t     48 \t     0.5\n",
      "Earth Spirit \t     45 \t     0.56\n",
      "Brewmaster \t     38 \t     0.5\n",
      "Ember Spirit \t     35 \t     0.57\n",
      "Shadow Demon \t     35 \t     0.37\n",
      "Alchemist \t     34 \t     0.47\n",
      "Medusa    \t     30 \t     0.53\n"
     ]
    }
   ],
   "source": [
    "mostPlayedByYear(2013)"
   ]
  },
  {
   "cell_type": "code",
   "execution_count": 72,
   "metadata": {
    "collapsed": false,
    "scrolled": true
   },
   "outputs": [
    {
     "name": "stdout",
     "output_type": "stream",
     "text": [
      "\t\t--- 2014 ---\n",
      "Hero\t\tGames Played\tWin Loss Ratio\n",
      "----------------------------------------------\n",
      "Ember Spirit \t     192 \t     0.61\n",
      "Earth Spirit \t     185 \t     0.52\n",
      "Pudge    \t     93 \t     0.45\n",
      "Templar Assassin     69 \t     0.55\n",
      "Brewmaster \t     60 \t     0.58\n",
      "Shadow Fiend \t     55 \t     0.56\n",
      "Clockwerk \t     31 \t     0.58\n",
      "Anti-Mage \t     22 \t     0.41\n",
      "Pugna    \t     22 \t     0.5\n",
      "Morphling \t     20 \t     0.45\n"
     ]
    }
   ],
   "source": [
    "mostPlayedByYear(2014)"
   ]
  },
  {
   "cell_type": "code",
   "execution_count": 73,
   "metadata": {
    "collapsed": false,
    "scrolled": true
   },
   "outputs": [
    {
     "name": "stdout",
     "output_type": "stream",
     "text": [
      "\t\t--- 2015 ---\n",
      "Hero\t\tGames Played\tWin Loss Ratio\n",
      "----------------------------------------------\n",
      "Kunkka    \t     11 \t     0.45\n",
      "Earth Spirit \t     6  \t     0.5\n",
      "Abaddon    \t     3  \t     1.0\n",
      "Queen of Pain \t     2  \t     1.0\n",
      "Undying    \t     2  \t     0.5\n",
      "Anti-Mage \t     1  \t     0.0\n",
      "Death Prophet \t     1  \t     0.0\n",
      "Dragon Knight \t     1  \t     0.0\n",
      "Ember Spirit \t     1  \t     0.0\n",
      "Enigma    \t     1  \t     0.0\n"
     ]
    }
   ],
   "source": [
    "mostPlayedByYear(2015)"
   ]
  },
  {
   "cell_type": "code",
   "execution_count": 74,
   "metadata": {
    "collapsed": false,
    "scrolled": true
   },
   "outputs": [
    {
     "name": "stdout",
     "output_type": "stream",
     "text": [
      "\t\t--- 2016 ---\n",
      "Hero\t\tGames Played\tWin Loss Ratio\n",
      "----------------------------------------------\n",
      "Kunkka    \t     107 \t     0.47\n",
      "Brewmaster \t     33 \t     0.67\n",
      "Troll Warlord \t     28 \t     0.36\n",
      "Tiny    \t     27 \t     0.26\n",
      "Ember Spirit \t     26 \t     0.23\n",
      "Legion Commander     20 \t     0.4\n",
      "Sniper    \t     17 \t     0.35\n",
      "Clockwerk \t     15 \t     0.53\n",
      "Earth Spirit \t     15 \t     0.53\n",
      "Shadow Fiend \t     11 \t     0.55\n"
     ]
    }
   ],
   "source": [
    "mostPlayedByYear(2016)"
   ]
  },
  {
   "cell_type": "code",
   "execution_count": 75,
   "metadata": {
    "collapsed": false
   },
   "outputs": [
    {
     "name": "stdout",
     "output_type": "stream",
     "text": [
      "\t\t--- 2017 ---\n",
      "Hero\t\tGames Played\tWin Loss Ratio\n",
      "----------------------------------------------\n",
      "Kunkka    \t     1  \t     1.0\n",
      "Nyx Assassin \t     1  \t     0.0\n",
      "Storm Spirit \t     1  \t     0.0\n",
      "Sven    \t     1  \t     0.0\n",
      "Troll Warlord \t     1  \t     0.0\n"
     ]
    }
   ],
   "source": [
    "mostPlayedByYear(2017)"
   ]
  },
  {
   "cell_type": "markdown",
   "metadata": {
    "collapsed": true
   },
   "source": [
    "### Total Time in Game"
   ]
  },
  {
   "cell_type": "code",
   "execution_count": 76,
   "metadata": {
    "collapsed": false
   },
   "outputs": [
    {
     "data": {
      "text/plain": [
       "145248.0"
      ]
     },
     "execution_count": 76,
     "metadata": {},
     "output_type": "execute_result"
    }
   ],
   "source": [
    "total_minutes = data['duration'].sum()\n",
    "total_minutes"
   ]
  },
  {
   "cell_type": "code",
   "execution_count": 77,
   "metadata": {
    "collapsed": false
   },
   "outputs": [
    {
     "data": {
      "text/plain": [
       "2420.8"
      ]
     },
     "execution_count": 77,
     "metadata": {},
     "output_type": "execute_result"
    }
   ],
   "source": [
    "total_hours = total_minutes / 60\n",
    "total_hours"
   ]
  },
  {
   "cell_type": "code",
   "execution_count": 78,
   "metadata": {
    "collapsed": false
   },
   "outputs": [
    {
     "data": {
      "text/plain": [
       "100.86666666666667"
      ]
     },
     "execution_count": 78,
     "metadata": {},
     "output_type": "execute_result"
    }
   ],
   "source": [
    "total_days = total_hours / 24\n",
    "total_days"
   ]
  },
  {
   "cell_type": "code",
   "execution_count": 79,
   "metadata": {
    "collapsed": false
   },
   "outputs": [
    {
     "data": {
      "text/plain": [
       "3.316164383561644"
      ]
     },
     "execution_count": 79,
     "metadata": {},
     "output_type": "execute_result"
    }
   ],
   "source": [
    "total_months = total_days / (365 / 12)\n",
    "total_months"
   ]
  },
  {
   "cell_type": "code",
   "execution_count": 80,
   "metadata": {
    "collapsed": false
   },
   "outputs": [
    {
     "data": {
      "text/plain": [
       "0.2763470319634703"
      ]
     },
     "execution_count": 80,
     "metadata": {},
     "output_type": "execute_result"
    }
   ],
   "source": [
    "total_years = total_months / 12\n",
    "total_years"
   ]
  },
  {
   "cell_type": "code",
   "execution_count": 81,
   "metadata": {
    "collapsed": false
   },
   "outputs": [
    {
     "data": {
      "text/plain": [
       "0.012561228725612288"
      ]
     },
     "execution_count": 81,
     "metadata": {},
     "output_type": "execute_result"
    }
   ],
   "source": [
    "total_life_playing_dota2 = total_years / 22\n",
    "total_life_not_playing_dota2 = 1 - total_life_playing_dota2\n",
    "total_life_playing_dota2"
   ]
  },
  {
   "cell_type": "code",
   "execution_count": 82,
   "metadata": {
    "collapsed": false
   },
   "outputs": [
    {
     "data": {
      "text/plain": [
       "<matplotlib.text.Text at 0x2911a0199e8>"
      ]
     },
     "execution_count": 82,
     "metadata": {},
     "output_type": "execute_result"
    },
    {
     "data": {
      "image/png": "[encoded data removed]",
      "text/plain": [
       "<matplotlib.figure.Figure at 0x2911a33ebe0>"
      ]
     },
     "metadata": {},
     "output_type": "display_data"
    }
   ],
   "source": [
    "plt.figure(figsize=(18,8))\n",
    "plt.pie([total_life_playing_dota2, total_life_not_playing_dota2],\n",
    "        labels=['Time Spent Playing Dota 2', 'Time Not Spent Playing Dota 2'])\n",
    "plt.axis('equal')\n",
    "plt.title(\"Will's Entire Life\", fontsize=26)"
   ]
  },
  {
   "cell_type": "code",
   "execution_count": 83,
   "metadata": {
    "collapsed": false
   },
   "outputs": [
    {
     "name": "stdout",
     "output_type": "stream",
     "text": [
      "0.02\n"
     ]
    },
    {
     "data": {
      "text/plain": [
       "<matplotlib.text.Text at 0x2911a268cf8>"
      ]
     },
     "execution_count": 83,
     "metadata": {},
     "output_type": "execute_result"
    },
    {
     "data": {
      "image/png": "[encoded data removed]",
      "text/plain": [
       "<matplotlib.figure.Figure at 0x2911a37dc88>"
      ]
     },
     "metadata": {},
     "output_type": "display_data"
    }
   ],
   "source": [
    "entire_waking_life = 22 * (2/3) # People typically spend a third of their life asleep (~8 hours sleeping).\n",
    "                                # But did I really sleep that much with DotA in my life?\n",
    "total_waking_life_playing_dota2 = total_years / entire_waking_life\n",
    "print(round(total_waking_life_playing_dota2, 2))\n",
    "total_waking_life_not_playing_dota2 = 1 - total_life_playing_dota2\n",
    "total_waking_life_playing_dota2\n",
    "\n",
    "plt.figure(figsize=(18,8))\n",
    "plt.pie([total_waking_life_playing_dota2, total_waking_life_not_playing_dota2],\n",
    "        labels=['Time Spent Playing Dota 2', 'Time Not Spent Playing Dota 2'])\n",
    "plt.axis('equal')\n",
    "plt.title(\"Will's Entire Life being Awake\", fontsize=26)"
   ]
  }
 ],
 "metadata": {
  "kernelspec": {
   "display_name": "Python 3",
   "language": "python",
   "name": "python3"
  },
  "language_info": {
   "codemirror_mode": {
    "name": "ipython",
    "version": 3
   },
   "file_extension": ".py",
   "mimetype": "text/x-python",
   "name": "python",
   "nbconvert_exporter": "python",
   "pygments_lexer": "ipython3",
   "version": "3.6.0"
  }
 },
 "nbformat": 4,
 "nbformat_minor": 2
}
