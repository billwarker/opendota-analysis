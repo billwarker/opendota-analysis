{
 "cells": [
  {
   "cell_type": "markdown",
   "metadata": {},
   "source": [
    "# <center> Closure: A Statistical Look Back on my Dota 2 Career\n",
    "## <center> By: Will B."
   ]
  },
  {
   "cell_type": "markdown",
   "metadata": {},
   "source": [
    "## Introduction\n",
    "\n",
    "### A Brief History of DotA\n",
    "\n",
    "Have you ever been addicted? Smoking? Sex? Gambling? Hard drugs? While other folks were out pursuing these exciting vices during their youth, I was staying inside playing DotA.\n",
    "\n",
    "DotA (short for Defense of the Ancients) is a five-versus-five online multiplayer strategy videogame, with its origins going all the way back to Blizzard Entertainment's *Warcraft 3* released in 2003. Originally a custom gamemode created by a community member by the name of 'Icefrog' in Warcraft's *Frozen Throne* expansion, DotA grew to be one of [the most played and influential online strategy games of all time](https://www.youtube.com/watch?v=qTsaS1Tm-Ic). With players all over the world playing what was essentially a fan-made spinoff, a competitive scene emmerged and DotA became among the first wave of serious eSports titles. It pioneered the \"Multiplayer Online Battle Arena\" (MOBA) genre of strategy games, and was subsequently ripped off hard by games like *League of Legends* years afterwards (I had to say it).\n",
    "\n",
    "I started playing the original DotA in middle school, after my best friend helped me download a cracked version of *Frozen Throne* onto my first laptop. DotA is not an easy game - I was bad, for a long time. I almost gave up many times, but like any great pursuit in life, perseverance eventually rewarded me with some moderate level of success. I didn't completely suck, and the thrill of beating up on players who did was exhiliharating. I spent many of my middle school days and nights neglecting homework to kick ass in DotA, and I have the sweat stains on that old laptop to prove it:"
   ]
  },
  {
   "cell_type": "markdown",
   "metadata": {},
   "source": [
    "<div><img src=\"Pictures\\Dota_Laptop1.jpg\"></div>"
   ]
  },
  {
   "cell_type": "markdown",
   "metadata": {},
   "source": [
    "In 2011, Valve Corporation hired on Icefrog to create Dota 2 - a full-fledged, fully-funded sequel to his famous community mod. A public beta for the game launched in 2012, and I was among the first initial waves of testers to see DotA brought to a new era. Since its official release in 2013, Dota 2 has grown to be one of the biggest eSports in the world. The day prior to me writing this introduction, a professional team of players (Team Liquid) walked away with \\$10 million dollars for winning *The International*, Valve's seventh annual international Dota 2 tournament.\n",
    "\n",
    "Dota 2 is a wonderfully strategic and rewarding game enjoyed daily by hundreds of thousands of players around the world. Since stats started being tracked on player activity in 2012, I've played 3647 matches. \n",
    "\n",
    "### Why I Quit DotA\n",
    "\n",
    "All things considered, I can't say playing Dota 2 was a fun experience. At least not on average. The game itself is great; looks great, plays great, is fun on paper. Where Dota 2, and DotA in general breaks down is the fact that it is a **team game**. If you want to win, you need your team to, you know, be a team. This requires cooperation, and varying degrees of selflessness and self-sacrifice on behalf of everyone. This is asking too much.\n",
    "\n",
    "In my experience, unless you're playing with a full stack (i.e. a team of people you know) there's roughly a 50/50 chance that your game is going to be flaming garbage. In DotA you don't only have to account for in-game factors like hero drafts, item builds, cooldowns, and map control, but often other human elements like your teammates' egos, insecurities, lack of understanding, incomprehension of the English language (on North American servers), terrible internet connections, or hamster-powered PCs. In many cases, you are literally **trapped** with your teammates for the full duration of what are often 40 minute long matches. You can't bail out of these doomsday scenarios without suffering a serious penalty on your account. The only solace in it all is the fact that the other team is likely dealing with the same issues. If I sound jaded to you, that's because I am.\n",
    "\n",
    "What made DotA seriously addicting was the fact that if, amongst all that grief, you managed to pull off a win, *you felt like a goddamn champion*.\n",
    "\n",
    "Against insurmountable odds, you managed to literally put the rest of your team on your back and carry them to victory. They tried to drag you down - they tried so hard - but you didn't let them. Sure, they got the win too. But you didn't do it for them - you do it for you. Because deep down in your heart you know you're actually good at DotA. And that they're not. And thus lies the problem.\n",
    "\n",
    "Almost **EVERYONE** has this exact mindset. Everyone wants the glory - to be the carry (an actual position, which you'll soon see). Rarely does anyone want to play support, whose job is to put in the necessary groundwork that allows the carries to win their team the game. Players go in with the mindset knowing that their team will likely be trash, and thus it's up to them to finesse and win the game on their own. And often the team does end up being dysunctional and terrible, in large part thanks to their ego demanding that everyone stays out of their way. It's a self-fulfilling prophecy, and when you see it play out for the better half of 3000 games, your soul slowly gets hollowed out. That's why, earlier this year, I quit DotA for good.\n",
    "\n",
    "And just so we're clear, I was exactly like everyone else too. It's what this god-foresaken game turns you into! \\**deep breath*\\*\n",
    "\n",
    "### Why I'm doing this Analysis\n",
    "\n",
    "Since DotA is a team game, the statistics of my individual performance aren't completely reliable indicators on whether I would win a certain match or not. There are also many other variables, such as matchmaking rating, item builds, and gold graphs that are beyond the scope of the data I have available. Given what I do have, I believe it's entirely possible to highlight some relationships between the general elements of my own gameplay.\n",
    "\n",
    "For most of this analysis I'm going to examine the relationship between match result and the other variables in the dataset, since winning is the ultimate goal in each game of DotA. To rephrase this as a research question: **which aspects of my gameplay make me more likely to win or lose a match?** My hope for this analysis is provide some statistical evidence for the intuitions I've built up over 3000+ games.\n",
    "\n",
    "For readers who aren't familiar with DotA, [here's a short video that'll give you the gist of what the game is about](https://www.youtube.com/watch?v=Cp8neRiF9-k). To get the most out of this analysis I'm going to go into a moderate amount of detail about gameplay mechanics and general strategy, but I'll explain these things as I go along.\n",
    "\n",
    "Personally, going the history of my Dota 2 career serves as the necessary closure to let go of the game for good. It's a love-hate kind of thing; the lows were so low, but the highs were so high. It'll be fun taking a trip down memory lane, even if all the memories weren't that great.\n",
    "\n",
    "### The Data\n",
    "\n",
    "All of my match data was pulled from [OpenDota](https://www.opendota.com/), an open-source data platform that grabs its data directly from Steam. OpenDota provides a great [API](https://docs.opendota.com/) for developers to build their own applications with. The data I'll be working with comes from two GET requests to the API; one for my match data, and one for general hero data. I loaded this data into a MySQL database and exported it into two CSV files - one with my match data joined with hero data, and the hero data on its own - which I'll work with using Python's Pandas module. The code and CSVs I used for all of this can be found [here](https://github.com/billwarker/opendota-analysis)."
   ]
  },
  {
   "cell_type": "markdown",
   "metadata": {},
   "source": [
    "## Loading and Preparing the Data\n",
    "\n",
    "Before I can do any analysis, I'll have to load the data and clean things up a little bit."
   ]
  },
  {
   "cell_type": "code",
   "execution_count": 1,
   "metadata": {
    "collapsed": true
   },
   "outputs": [],
   "source": [
    "### Imports\n",
    "\n",
    "# Data Analysis\n",
    "import pandas as pd\n",
    "pd.options.display.max_columns = 50\n",
    "import datetime # Working with time data\n",
    "import numpy as np\n",
    "\n",
    "# Visualization\n",
    "import matplotlib.pyplot as plt\n",
    "import seaborn as sns\n",
    "% matplotlib inline"
   ]
  },
  {
   "cell_type": "markdown",
   "metadata": {},
   "source": [
    "### DataFrame 1: Match Data\n",
    "\n",
    "This first dataset contains information on every match of Dota 2 I've ever played, plus additional information about the hero I chose to play as."
   ]
  },
  {
   "cell_type": "code",
   "execution_count": 2,
   "metadata": {
    "collapsed": false
   },
   "outputs": [
    {
     "data": {
      "text/plain": [
       "Index(['result', 'radiant_win', 'duration', 'start_time', 'game_mode',\n",
       "       'localized_name', 'kills', 'deaths', 'assists', 'primary_attr',\n",
       "       'attack_type', 'carry', 'jungler', 'pusher', 'nuker', 'disabler',\n",
       "       'initiator', 'durable', 'support', 'legs'],\n",
       "      dtype='object')"
      ]
     },
     "execution_count": 2,
     "metadata": {},
     "output_type": "execute_result"
    }
   ],
   "source": [
    "### Load the data\n",
    "data = pd.read_csv('dota_stats_headers.csv')\n",
    "headers = data.columns\n",
    "headers # List of data variables"
   ]
  },
  {
   "cell_type": "markdown",
   "metadata": {},
   "source": [
    "A list of the data variables recorded for each match. Here's what they mean:\n",
    "\n",
    "- **result**: Whether the team I was on won or not. 1 = Win, 0 = Loss.\n",
    "- **radiant_win**: Whether the team on the Radiant side of the map won. 1 = True, 0 = False.\n",
    "- **duration**: How long the match lasted, in seconds.\n",
    "- **start_time**: The exact time the match started, measured in seconds since the Coordinated Universal Time stamp, January 1st, 1970\n",
    "- **game_mode**: The game mode I was playing in. An irrelevant variable that'll be deleted later, since I found OpenDota's API to be unclear on the label encoding used for each mode.\n",
    "- **localized_name**: The name of the hero I played. Will be changed to 'Hero' later for brevity.\n",
    "- **kills**: The number of enemy heroes I killed during the match.\n",
    "- **deaths**: The number of times I died during the match, either to enemy heroes or units, neutral creeps, or suicide.\n",
    "- **assists**: The number of times I assisted a teammate in getting a kill.\n",
    "- **primary_attr**: The primary attribute of my hero. Either agi (agility), int (intelligence), or str (strength).\n",
    "- **attack_type**: How my hero does basic attacks. Either melee or ranged.\n",
    "- **carry**: A hero that is the strongest in the lategame with more experience and items. 1 = Yes, 0 = No (same for all other roles).\n",
    "- **jungler**: A hero that can spend the early game fighting neutral creeps in the jungle to gain experience and gold.\n",
    "- **pusher**: A hero that can quickly push lanes and destroy enemy buildings. \n",
    "- **nuker**: A hero that can cast damage-dealing spells to quickly kill enemy heroes.\n",
    "- **disabler**: A hero that can cast spells to prevent enemy heroes from doing things (e.g. stunning a hero so it can't move or attack, removing its damage, silencing it so it can't cast spells).\n",
    "- **initiator**:A hero that is good at starting and controlling major teamfights.\n",
    "- **durable**: A hero that has a lot of health or armor, allowing it to withstand fights and take a lot of damage.\n",
    "- **support**: A hero that has a lot of spells useful for helping out the team, either by healing or strengthening allies. Often delegated to buy support items (i.e. wards, dust) for the team.\n",
    "- **legs**: The number of legs my hero has. (Irrelevant?)"
   ]
  }
 ],
 "metadata": {
  "kernelspec": {
   "display_name": "Python 3",
   "language": "python",
   "name": "python3"
  },
  "language_info": {
   "codemirror_mode": {
    "name": "ipython",
    "version": 3
   },
   "file_extension": ".py",
   "mimetype": "text/x-python",
   "name": "python",
   "nbconvert_exporter": "python",
   "pygments_lexer": "ipython3",
   "version": "3.6.0"
  }
 },
 "nbformat": 4,
 "nbformat_minor": 2
}
